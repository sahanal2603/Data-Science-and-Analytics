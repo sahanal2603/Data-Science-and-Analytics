{
  "nbformat": 4,
  "nbformat_minor": 0,
  "metadata": {
    "colab": {
      "name": "Linear Regression.ipynb",
      "provenance": [],
      "authorship_tag": "ABX9TyPdDy/ZFk3cXCUjKA31uUbE",
      "include_colab_link": true
    },
    "kernelspec": {
      "name": "python3",
      "display_name": "Python 3"
    }
  },
  "cells": [
    {
      "cell_type": "markdown",
      "metadata": {
        "id": "view-in-github",
        "colab_type": "text"
      },
      "source": [
        "<a href=\"https://colab.research.google.com/github/sahanal2603/Data-Science-and-Analytics/blob/master/Linear_Regression.ipynb\" target=\"_parent\"><img src=\"https://colab.research.google.com/assets/colab-badge.svg\" alt=\"Open In Colab\"/></a>"
      ]
    },
    {
      "cell_type": "code",
      "metadata": {
        "id": "dad757oWB0wS"
      },
      "source": [
        "import numpy as np\r\n",
        "import matplotlib.pyplot as plt"
      ],
      "execution_count": 1,
      "outputs": []
    },
    {
      "cell_type": "code",
      "metadata": {
        "colab": {
          "base_uri": "https://localhost:8080/",
          "height": 269
        },
        "id": "I54s2XgLB2dZ",
        "outputId": "dc3a530c-c54e-4d6b-f94b-72b30f181c31"
      },
      "source": [
        "# Example 1: here we take data for linear regression, with m=0, or y=b\r\n",
        "\r\n",
        "x=np.array([1, 2, 3 , 4, 5, 6, 7, 8 ])\r\n",
        "y=np.array([3, 3, 4, 4, 3, 3, 3, 4])\r\n",
        "plt.scatter(x,y)\r\n",
        "plt.axis([0,9,0,6])\r\n",
        "plt.grid()\r\n",
        "\r\n",
        "# some initializations and computations\r\n",
        "b=1                       # can be zero  \r\n",
        "learning_rate = 0.2       # typical values are 0.1, 0.01, 0.001 etc\r\n",
        "N=len(x)\r\n",
        "mse = []\r\n"
      ],
      "execution_count": 2,
      "outputs": [
        {
          "output_type": "display_data",
          "data": {
            "image/png": "[encoded data removed]",
            "text/plain": [
              "<Figure size 432x288 with 1 Axes>"
            ]
          },
          "metadata": {
            "tags": [],
            "needs_background": "light"
          }
        }
      ]
    },
    {
      "cell_type": "code",
      "metadata": {
        "colab": {
          "base_uri": "https://localhost:8080/",
          "height": 319
        },
        "id": "CbS1pJN7B5w-",
        "outputId": "4f480e68-e3d3-477a-b2a8-8e35cc05ef84"
      },
      "source": [
        "# The steps in ONE iteration\r\n",
        "\r\n",
        "y_hat= np.full((1,N),b)       # compute y_hat for the present value of b\r\n",
        "\r\n",
        "the_difference = y-y_hat      # compute the difference of Acutal and Predicted\r\n",
        "\r\n",
        "mean_sq_error=np.mean((the_difference)**2)    \r\n",
        "\r\n",
        "b_gradient = (-2/N) * np.sum(the_difference)\r\n",
        " \r\n",
        "b = b - learning_rate * b_gradient\r\n",
        "\r\n",
        "# repeat the above steps every iteration\r\n",
        "\r\n",
        "plt.scatter(x,y,c='b', label='our data')\r\n",
        "plt.scatter(x,y_hat,c='r', label='predict')\r\n",
        "plt.grid()\r\n",
        "plt.axis([0,9,0,6])\r\n",
        "plt.legend()\r\n",
        "\r\n",
        "print('\\n Mean squared error = ',mean_sq_error)\r\n",
        "mse.append(mean_sq_error)\r\n",
        "print('b new = ', b)\r\n"
      ],
      "execution_count": 3,
      "outputs": [
        {
          "output_type": "stream",
          "text": [
            "\n",
            " Mean squared error =  5.875\n",
            "b new =  1.9500000000000002\n"
          ],
          "name": "stdout"
        },
        {
          "output_type": "display_data",
          "data": {
            "image/png": "[encoded data removed]",
            "text/plain": [
              "<Figure size 432x288 with 1 Axes>"
            ]
          },
          "metadata": {
            "tags": [],
            "needs_background": "light"
          }
        }
      ]
    },
    {
      "cell_type": "code",
      "metadata": {
        "colab": {
          "base_uri": "https://localhost:8080/",
          "height": 296
        },
        "id": "c0dbWXs7B_n3",
        "outputId": "b44c84f9-1ad1-4fac-cda2-bdfcc36f62a7"
      },
      "source": [
        "# to plot the mean_squared_error\r\n",
        "\r\n",
        "plt.plot(mse)\r\n",
        "plt.xlabel('Iteration Number')\r\n",
        "plt.ylabel('The Mean Squared Error')\r\n",
        "plt.grid()\r\n",
        "print('Learning rate = ', learning_rate)"
      ],
      "execution_count": 4,
      "outputs": [
        {
          "output_type": "stream",
          "text": [
            "Learning rate =  0.2\n"
          ],
          "name": "stdout"
        },
        {
          "output_type": "display_data",
          "data": {
            "image/png": "[encoded data removed]",
            "text/plain": [
              "<Figure size 432x288 with 1 Axes>"
            ]
          },
          "metadata": {
            "tags": [],
            "needs_background": "light"
          }
        }
      ]
    },
    {
      "cell_type": "code",
      "metadata": {
        "colab": {
          "base_uri": "https://localhost:8080/",
          "height": 265
        },
        "id": "4yntA4zYCBBG",
        "outputId": "41782a57-709c-40d9-c99b-4d330881e54d"
      },
      "source": [
        "# Example 2: here we take data for linear regression, with y=mx + b\r\n",
        "\r\n",
        "#X=np.array([1, 2, 3 , 4, 5, 6, 7, 8 ])\r\n",
        "#mew=np.mean(X)\r\n",
        "#sigma=np.std(X)\r\n",
        "#X=(X-mew)/sigma\r\n",
        "\r\n",
        "X= np.array([-1.6, -1.1, -0.6, -0.2, 0.2, 0.6, 1.1, 1.6])\r\n",
        "y=6*X+9\r\n",
        "\r\n",
        "N=len(X)\r\n",
        "plt.scatter(X,y)\r\n",
        "plt.grid()\r\n",
        "\r\n",
        "# some initializations\r\n",
        "m=0.1\r\n",
        "b=0\r\n",
        "learning_rate = 0.2\r\n",
        "mse = []\r\n"
      ],
      "execution_count": 5,
      "outputs": [
        {
          "output_type": "display_data",
          "data": {
            "image/png": "[encoded data removed]",
            "text/plain": [
              "<Figure size 432x288 with 1 Axes>"
            ]
          },
          "metadata": {
            "tags": [],
            "needs_background": "light"
          }
        }
      ]
    },
    {
      "cell_type": "code",
      "metadata": {
        "colab": {
          "base_uri": "https://localhost:8080/",
          "height": 315
        },
        "id": "MnStKmouCIJM",
        "outputId": "41b070dd-09ca-4df2-96ed-a4f54c013e5a"
      },
      "source": [
        "# The steps in ONE iteration\r\n",
        "# compute y_hat for the present value of m, and b \r\n",
        "\r\n",
        "y_hat= m*X + b\r\n",
        "\r\n",
        "the_difference = y-y_hat\r\n",
        "\r\n",
        "b_gradient = (-2/N) * np.sum(the_difference)\r\n",
        "m_gradient = (-2/N) * np.dot(the_difference,X)  \r\n",
        "\r\n",
        "m = m - learning_rate * m_gradient\r\n",
        "b = b - learning_rate * b_gradient\r\n",
        "\r\n",
        "mean_sq_error=np.mean((the_difference)**2)\r\n",
        "mse.append(mean_sq_error)\r\n",
        "\r\n",
        "# repeat the above steps\r\n",
        "\r\n",
        "plt.scatter(X,y,c='c', label='our data', s=90)\r\n",
        "plt.scatter(X,y_hat,c='r', label='predict', s=20)\r\n",
        "plt.grid()\r\n",
        "plt.legend()\r\n",
        "\r\n",
        "print(m_gradient, b_gradient)\r\n",
        "print('m new = ', m)\r\n",
        "print('b new = ', b)\r\n"
      ],
      "execution_count": 6,
      "outputs": [
        {
          "output_type": "stream",
          "text": [
            "-12.301500000000003 -18.0\n",
            "m new =  2.5603000000000007\n",
            "b new =  3.6\n"
          ],
          "name": "stdout"
        },
        {
          "output_type": "display_data",
          "data": {
            "image/png": "[encoded data removed]",
            "text/plain": [
              "<Figure size 432x288 with 1 Axes>"
            ]
          },
          "metadata": {
            "tags": [],
            "needs_background": "light"
          }
        }
      ]
    },
    {
      "cell_type": "code",
      "metadata": {
        "colab": {
          "base_uri": "https://localhost:8080/"
        },
        "id": "-1UZU7xiCLIx",
        "outputId": "954888b5-2981-426a-a7c9-e5196839df51"
      },
      "source": [
        "print(mse)"
      ],
      "execution_count": 7,
      "outputs": [
        {
          "output_type": "stream",
          "text": [
            "[117.28942500000001]\n"
          ],
          "name": "stdout"
        }
      ]
    },
    {
      "cell_type": "code",
      "metadata": {
        "colab": {
          "base_uri": "https://localhost:8080/",
          "height": 313
        },
        "id": "k2bEVrdWCMM5",
        "outputId": "633321bf-74d9-4923-8f91-f230023785fa"
      },
      "source": [
        "# to plot the mean_squared_error\r\n",
        "M = len(mse)\r\n",
        "i=np.arange(1,M+1)\r\n",
        "plt.plot(i,mse)\r\n",
        "plt.xlabel('Iteration Number')\r\n",
        "plt.ylabel('The Mean Squared Error')\r\n",
        "plt.grid()\r\n",
        "print('Learning rate = ', learning_rate)\r\n",
        "print(m,b)"
      ],
      "execution_count": 8,
      "outputs": [
        {
          "output_type": "stream",
          "text": [
            "Learning rate =  0.2\n",
            "2.5603000000000007 3.6\n"
          ],
          "name": "stdout"
        },
        {
          "output_type": "display_data",
          "data": {
            "image/png": "[encoded data removed]",
            "text/plain": [
              "<Figure size 432x288 with 1 Axes>"
            ]
          },
          "metadata": {
            "tags": [],
            "needs_background": "light"
          }
        }
      ]
    },
    {
      "cell_type": "code",
      "metadata": {
        "colab": {
          "base_uri": "https://localhost:8080/",
          "height": 298
        },
        "id": "mPHqG2sbCPCU",
        "outputId": "828a60a2-476d-44f5-c66d-f493d43482a9"
      },
      "source": [
        "# Example I \r\n",
        "# line with added Gaussian noise\r\n",
        "\r\n",
        "N=90\r\n",
        "X=np.linspace(10,20,N)\r\n",
        "mew=np.mean(X)\r\n",
        "sigma=np.std(X)\r\n",
        "X=(X-mew)/sigma\r\n",
        "y=9*X+15\r\n",
        "\r\n",
        "noise =np.random.randn(N)\r\n",
        "y = y + noise\r\n",
        "\r\n",
        "m,b,mse = my_LinearRegression(X,y,21,0.1)\r\n",
        "\r\n",
        "plt.plot(mse)\r\n",
        "plt.show()\r\n",
        "\r\n",
        "print('\\n m = ',m,'b = ',b,'mse = ',mse[-1])\r\n"
      ],
      "execution_count": 12,
      "outputs": [
        {
          "output_type": "display_data",
          "data": {
            "image/png": "[encoded data removed]",
            "text/plain": [
              "<Figure size 432x288 with 1 Axes>"
            ]
          },
          "metadata": {
            "tags": [],
            "needs_background": "light"
          }
        },
        {
          "output_type": "stream",
          "text": [
            "\n",
            " m =  8.990755770725642 b =  14.733750690045456 mse =  0.8230251680300953\n"
          ],
          "name": "stdout"
        }
      ]
    },
    {
      "cell_type": "code",
      "metadata": {
        "id": "CRfs4E05CcWC"
      },
      "source": [
        "# Our function for Linear Regression\r\n",
        "\r\n",
        "def my_LinearRegression(X,y,Iterations, learning_rate):\r\n",
        "    \r\n",
        "    # normalize the input\r\n",
        "    mew=np.mean(X)\r\n",
        "    sigma=np.std(X)\r\n",
        "    X=(X-mew)/sigma\r\n",
        "    N=len(X)\r\n",
        "    \r\n",
        "    # some initializations\r\n",
        "    m=0.1\r\n",
        "    b=0\r\n",
        "    mse = []\r\n",
        "\r\n",
        "    for i in range(Iterations):\r\n",
        "        # The steps in one iteration\r\n",
        "        y_hat= m*X + b\r\n",
        "        the_difference = y-y_hat\r\n",
        "        b_gradient = (-2/N) * np.sum(the_difference)\r\n",
        "        m_gradient = (-2/N) * np.dot(the_difference,X)  \r\n",
        "        m = m - learning_rate * m_gradient\r\n",
        "        b = b - learning_rate * b_gradient\r\n",
        "        mean_sq_error=np.mean((the_difference)**2)\r\n",
        "        mse.append(mean_sq_error)\r\n",
        "\r\n",
        "    return m, b, mse"
      ],
      "execution_count": 11,
      "outputs": []
    },
    {
      "cell_type": "code",
      "metadata": {
        "colab": {
          "base_uri": "https://localhost:8080/",
          "height": 399
        },
        "id": "Tgp2d5yYCj_m",
        "outputId": "4be4da9b-6ce9-462f-d95f-399a2e0d40b1"
      },
      "source": [
        "# Doing the same using the inbuilt Function from sklearn\r\n",
        "\r\n",
        "from sklearn.linear_model import LinearRegression \r\n",
        "\r\n",
        "# data set I\r\n",
        "#X=np.array([20, 35, 40, 25, 38, 30, 33, 27, 32, 36])\r\n",
        "#y=np.array([60, 75, 95, 70, 85, 75, 80, 75, 72, 88])\r\n",
        "\r\n",
        "\r\n",
        "# data set II\r\n",
        "N=20\r\n",
        "X=np.linspace(0,10,N)\r\n",
        "y=5*X + 9\r\n",
        "noise = np.random.randn(N)\r\n",
        "y =y+noise\r\n",
        "N=len(X)\r\n",
        "X=X.reshape(N,1)\r\n",
        "\r\n",
        "model=LinearRegression()\r\n",
        "model.fit(X,y)\r\n",
        "y_hat=model.predict(X)\r\n",
        "\r\n",
        "print('initial y = ', y)\r\n",
        "print('predicted y = ', y_hat)\r\n",
        "\r\n",
        "plt.scatter(X,y,c='c',label='Actual Data', s=90)\r\n",
        "plt.scatter(X,y_hat,c='r', label='Predicted ', s=15)\r\n",
        "plt.legend()\r\n",
        "plt.grid()\r\n",
        "\r\n"
      ],
      "execution_count": 13,
      "outputs": [
        {
          "output_type": "stream",
          "text": [
            "initial y =  [ 9.88350313 10.85627059 14.02347036 15.38530308 19.87981201 23.78445012\n",
            " 24.30490396 26.52684919 29.80847754 32.01790514 35.79233304 39.26356366\n",
            " 41.21567196 42.58032634 46.1471949  49.34502877 51.49949614 52.83088115\n",
            " 58.92120984 58.87035417]\n",
            "predicted y =  [ 8.73010988 11.40555623 14.08100259 16.75644894 19.4318953  22.10734165\n",
            " 24.78278801 27.45823437 30.13368072 32.80912708 35.48457343 38.16001979\n",
            " 40.83546614 43.5109125  46.18635885 48.86180521 51.53725157 54.21269792\n",
            " 56.88814428 59.56359063]\n"
          ],
          "name": "stdout"
        },
        {
          "output_type": "display_data",
          "data": {
            "image/png": "[encoded data removed]",
            "text/plain": [
              "<Figure size 432x288 with 1 Axes>"
            ]
          },
          "metadata": {
            "tags": [],
            "needs_background": "light"
          }
        }
      ]
    },
    {
      "cell_type": "code",
      "metadata": {
        "colab": {
          "base_uri": "https://localhost:8080/",
          "height": 433
        },
        "id": "aTbQg3OpCoIE",
        "outputId": "b8e5d570-1d1b-4025-eb1b-9fa1317e9b3a"
      },
      "source": [
        "# An interesting example\r\n",
        "\r\n",
        "from sklearn.linear_model import LinearRegression \r\n",
        "\r\n",
        "# data set II\r\n",
        "N=20\r\n",
        "X=np.linspace(0,10,N)\r\n",
        "\r\n",
        "y = 3*X**2  - 5*X + 9\r\n",
        "\r\n",
        "#y= 5*X + 9\r\n",
        "\r\n",
        "noise = np.random.randn(N)\r\n",
        "y =y + 1.5*noise\r\n",
        "N=len(X)\r\n",
        "X=X.reshape(N,1)\r\n",
        "\r\n",
        "model=LinearRegression()\r\n",
        "model.fit(X,y)\r\n",
        "y_hat=model.predict(X)\r\n",
        "\r\n",
        "print('initial y = ', y)\r\n",
        "print('predicted y = ', y_hat)\r\n",
        "\r\n",
        "plt.scatter(X,y,c='c',label='Actual Data', s=30)\r\n",
        "plt.scatter(X,y_hat,c='r', label='Predicted ', s=15)\r\n",
        "plt.legend()\r\n",
        "plt.grid()\r\n",
        "\r\n",
        "difference = (y-y_hat)\r\n",
        "mean_square_error = np.sum(np.power(difference,2))/N \r\n",
        "print('variance  = ', round(mean_square_error,2))\r\n",
        "mean_error = np.sum(np.absolute(difference))/N\r\n",
        "print('Mean = ', round(mean_error,4))\r\n",
        "\r\n"
      ],
      "execution_count": 14,
      "outputs": [
        {
          "output_type": "stream",
          "text": [
            "initial y =  [  9.97285436   6.21230921   9.38180178   7.86047167  10.96075619\n",
            "  15.89151045  25.5404575   32.82003877  42.59569696  52.25675319\n",
            "  63.74963425  81.1117342   94.09476189 117.15584481 135.57008562\n",
            " 158.39428913 181.84084771 204.69225502 230.37683246 260.58625994]\n",
            "predicted y =  [-38.21425201 -25.02819814 -11.84214427   1.3439096   14.52996347\n",
            "  27.71601734  40.90207121  54.08812508  67.27417895  80.46023282\n",
            "  93.64628669 106.83234056 120.01839443 133.2044483  146.39050217\n",
            " 159.57655604 172.76260991 185.94866378 199.13471765 212.32077152]\n",
            "variance  =  618.95\n",
            "Mean =  21.4498\n"
          ],
          "name": "stdout"
        },
        {
          "output_type": "display_data",
          "data": {
            "image/png": "[encoded data removed]",
            "text/plain": [
              "<Figure size 432x288 with 1 Axes>"
            ]
          },
          "metadata": {
            "tags": [],
            "needs_background": "light"
          }
        }
      ]
    },
    {
      "cell_type": "code",
      "metadata": {
        "colab": {
          "base_uri": "https://localhost:8080/",
          "height": 262
        },
        "id": "lXpHg4ykCqTb",
        "outputId": "f70c4ccb-9d44-4147-ec4c-0621f2259e13"
      },
      "source": [
        "# compute the averages\r\n",
        "# slope of linear regression =(E(xy)-E(x)E(y))/variance(x)\r\n",
        "#  bias of linear regression = E(y) - slope* E(x)\r\n",
        "N=len(x)\r\n",
        "mew_x = np.sum(x)/N\r\n",
        "mew_y = np.sum(y)/N\r\n",
        "sigma_x = np.std(x)\r\n",
        "sigma_y = np.std(y)\r\n",
        "mew_xy = np.dot(x,y)/N\r\n",
        "\r\n",
        "cov_xy = mew_xy - mew_x*mew_y\r\n",
        "m_stat = cov_xy/(sigma_x *sigma_s)    # correct values from statistics\r\n",
        "b_stat = mew_y - m_stat*mew_x         # correct values from statistics\r\n",
        "\r\n",
        "print('\\nSlope of linear regression = ', m_stat)\r\n",
        "print('\\nIntercept of linear regression = ', b_stat )\r\n",
        "print('\\n\\n')\r\n",
        "\r\n",
        "x_test=np.linspace(-2,2,25)\r\n",
        "y_predict= m_stat*x_test + b_stat\r\n",
        "\r\n",
        "plt.plot(x_test, y_predict, label = 'Linear model', lw=3)\r\n",
        "plt.scatter(x,y, label='given data', c='g')\r\n",
        "plt.legend()"
      ],
      "execution_count": 15,
      "outputs": [
        {
          "output_type": "error",
          "ename": "ValueError",
          "evalue": "ignored",
          "traceback": [
            "\u001b[0;31m---------------------------------------------------------------------------\u001b[0m",
            "\u001b[0;31mValueError\u001b[0m                                Traceback (most recent call last)",
            "\u001b[0;32m<ipython-input-15-8959fd880f95>\u001b[0m in \u001b[0;36m<module>\u001b[0;34m()\u001b[0m\n\u001b[1;32m      7\u001b[0m \u001b[0msigma_x\u001b[0m \u001b[0;34m=\u001b[0m \u001b[0mnp\u001b[0m\u001b[0;34m.\u001b[0m\u001b[0mstd\u001b[0m\u001b[0;34m(\u001b[0m\u001b[0mx\u001b[0m\u001b[0;34m)\u001b[0m\u001b[0;34m\u001b[0m\u001b[0;34m\u001b[0m\u001b[0m\n\u001b[1;32m      8\u001b[0m \u001b[0msigma_y\u001b[0m \u001b[0;34m=\u001b[0m \u001b[0mnp\u001b[0m\u001b[0;34m.\u001b[0m\u001b[0mstd\u001b[0m\u001b[0;34m(\u001b[0m\u001b[0my\u001b[0m\u001b[0;34m)\u001b[0m\u001b[0;34m\u001b[0m\u001b[0;34m\u001b[0m\u001b[0m\n\u001b[0;32m----> 9\u001b[0;31m \u001b[0mmew_xy\u001b[0m \u001b[0;34m=\u001b[0m \u001b[0mnp\u001b[0m\u001b[0;34m.\u001b[0m\u001b[0mdot\u001b[0m\u001b[0;34m(\u001b[0m\u001b[0mx\u001b[0m\u001b[0;34m,\u001b[0m\u001b[0my\u001b[0m\u001b[0;34m)\u001b[0m\u001b[0;34m/\u001b[0m\u001b[0mN\u001b[0m\u001b[0;34m\u001b[0m\u001b[0;34m\u001b[0m\u001b[0m\n\u001b[0m\u001b[1;32m     10\u001b[0m \u001b[0;34m\u001b[0m\u001b[0m\n\u001b[1;32m     11\u001b[0m \u001b[0mcov_xy\u001b[0m \u001b[0;34m=\u001b[0m \u001b[0mmew_xy\u001b[0m \u001b[0;34m-\u001b[0m \u001b[0mmew_x\u001b[0m\u001b[0;34m*\u001b[0m\u001b[0mmew_y\u001b[0m\u001b[0;34m\u001b[0m\u001b[0;34m\u001b[0m\u001b[0m\n",
            "\u001b[0;32m<__array_function__ internals>\u001b[0m in \u001b[0;36mdot\u001b[0;34m(*args, **kwargs)\u001b[0m\n",
            "\u001b[0;31mValueError\u001b[0m: shapes (8,) and (20,) not aligned: 8 (dim 0) != 20 (dim 0)"
          ]
        }
      ]
    }
  ]
}