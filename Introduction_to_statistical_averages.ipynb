{
  "nbformat": 4,
  "nbformat_minor": 0,
  "metadata": {
    "colab": {
      "name": "Introduction to statistical averages.ipynb",
      "provenance": [],
      "collapsed_sections": [],
      "authorship_tag": "ABX9TyNz1VRYk9TzqdI1U71w7Z3w",
      "include_colab_link": true
    },
    "kernelspec": {
      "name": "python3",
      "display_name": "Python 3"
    }
  },
  "cells": [
    {
      "cell_type": "markdown",
      "metadata": {
        "id": "view-in-github",
        "colab_type": "text"
      },
      "source": [
        "<a href=\"https://colab.research.google.com/github/sahanal2603/Data-Science-and-Analytics/blob/master/Introduction_to_statistical_averages.ipynb\" target=\"_parent\"><img src=\"https://colab.research.google.com/assets/colab-badge.svg\" alt=\"Open In Colab\"/></a>"
      ]
    },
    {
      "cell_type": "code",
      "metadata": {
        "id": "C0rvM2mXZ_Kk"
      },
      "source": [
        "import numpy as np\r\n",
        "\r\n"
      ],
      "execution_count": 23,
      "outputs": []
    },
    {
      "cell_type": "code",
      "metadata": {
        "colab": {
          "base_uri": "https://localhost:8080/"
        },
        "id": "TURzBSmvanAu",
        "outputId": "64ae6dcb-e003-4762-eadb-fbf7438aef2f"
      },
      "source": [
        "x=np.array([10, 15, 20, 25, 30])\r\n",
        "N=len(x)\r\n",
        "print('length of the array = ', N)\r\n",
        "\r\n",
        "print('x[1] = ',x[1])\r\n",
        "\r\n",
        "\r\n",
        "\r\n"
      ],
      "execution_count": 6,
      "outputs": [
        {
          "output_type": "stream",
          "text": [
            "length of the array =  5\n",
            "x[1] =  15\n"
          ],
          "name": "stdout"
        }
      ]
    },
    {
      "cell_type": "code",
      "metadata": {
        "colab": {
          "base_uri": "https://localhost:8080/"
        },
        "id": "sxIytWwBbo84",
        "outputId": "5d884e31-2ef1-4ed8-cb7c-292f68a24dcb"
      },
      "source": [
        "N = 5\r\n",
        "\r\n",
        "for i in range(N):\r\n",
        "    print(2*i)\r\n",
        "    print('Within the loop')"
      ],
      "execution_count": 10,
      "outputs": [
        {
          "output_type": "stream",
          "text": [
            "0\n",
            "Within the loop\n",
            "2\n",
            "Within the loop\n",
            "4\n",
            "Within the loop\n",
            "6\n",
            "Within the loop\n",
            "8\n",
            "Within the loop\n"
          ],
          "name": "stdout"
        }
      ]
    },
    {
      "cell_type": "code",
      "metadata": {
        "id": "VipCdah4aE2m"
      },
      "source": [
        "# Example 1\r\n",
        "# Consider the data as CIE of students\r\n",
        "\r\n",
        "data=np.array([20, 25, 40, 31, 35, 27, 29, 26, 38, 39])\r\n",
        "N=len(data)\r\n"
      ],
      "execution_count": 3,
      "outputs": []
    },
    {
      "cell_type": "code",
      "metadata": {
        "colab": {
          "base_uri": "https://localhost:8080/"
        },
        "id": "UyCXfQHhbBWL",
        "outputId": "6fce260a-ac53-41d3-fc6a-a543859cd8b1"
      },
      "source": [
        "# Example 1a\r\n",
        "#To obtain the average of a given sequence\r\n",
        "\r\n",
        "data=np.array([20, 25, 40, 31, 35, 27, 29, 26, 38, 39])\r\n",
        "N=len(data)\r\n",
        "\r\n",
        "sum=0\r\n",
        "for i in range(N):\r\n",
        "    sum = sum + data[i]\r\n",
        "    #print(i, sum)\r\n",
        "\r\n",
        "our_avg=sum/N\r\n",
        "print('\\n Our average = ', our_avg)\r\n",
        "\r\n",
        "print('\\n Average from built in function = ',np.mean(data))\r\n",
        "\r\n"
      ],
      "execution_count": 12,
      "outputs": [
        {
          "output_type": "stream",
          "text": [
            "\n",
            " Our average =  31.0\n",
            "\n",
            " Average from built in function =  31.0\n"
          ],
          "name": "stdout"
        }
      ]
    },
    {
      "cell_type": "code",
      "metadata": {
        "colab": {
          "base_uri": "https://localhost:8080/"
        },
        "id": "1DomJmcidJnO",
        "outputId": "e4455e27-a4aa-4ed4-ad9d-f71bd8b9c635"
      },
      "source": [
        "# Example 1b\r\n",
        "# To obtain the variance of the given sequence\r\n",
        "# Variance is given by the average of ((x-mean)^2)\r\n",
        "\r\n",
        "sum=0\r\n",
        "for i in range(N):\r\n",
        "  sum = sum + (data[i]-our_avg)**2\r\n",
        "\r\n",
        "our_variance=sum/N\r\n",
        "print('\\n Our Variance = ', our_variance)\r\n",
        "\r\n",
        "print('\\n Variance from built in function = ', np.var(data))"
      ],
      "execution_count": 13,
      "outputs": [
        {
          "output_type": "stream",
          "text": [
            "\n",
            " Our Variance =  41.2\n",
            "\n",
            " Variance from built in function =  41.2\n"
          ],
          "name": "stdout"
        }
      ]
    },
    {
      "cell_type": "code",
      "metadata": {
        "colab": {
          "base_uri": "https://localhost:8080/"
        },
        "id": "yPaChAWpd65Q",
        "outputId": "79e5a874-54a0-49d5-b385-314e18b0976d"
      },
      "source": [
        "# Example 1c\r\n",
        "# To obtain the standard deviation of the given sequence\r\n",
        "# Standard deviation is given by the square root of Variance\r\n",
        "\r\n",
        "our_std = np.sqrt(our_variance)\r\n",
        "print(' Our Standard Deviation = ', our_std)\r\n",
        "\r\n",
        "print('\\n Average from built in function = ', np.std(data))"
      ],
      "execution_count": 16,
      "outputs": [
        {
          "output_type": "stream",
          "text": [
            " Our Standard Deviation =  6.418722614352485\n",
            "\n",
            " Average from built in function =  6.418722614352485\n"
          ],
          "name": "stdout"
        }
      ]
    },
    {
      "cell_type": "code",
      "metadata": {
        "colab": {
          "base_uri": "https://localhost:8080/"
        },
        "id": "xKrj89gge7UO",
        "outputId": "624cb7e3-8c6f-4bcd-db45-763d20c1b751"
      },
      "source": [
        "# Example 1d\r\n",
        "# Relating the mean, variance and mean of x^2\r\n",
        "\r\n",
        "sum_x=0\r\n",
        "sum_x_square=0\r\n",
        "for i in range(N):\r\n",
        "    sum_x = sum_x + data[i]\r\n",
        "    sum_x_square = sum_x_square + (data[i])**2\r\n",
        "\r\n",
        "mean_x=sum_x/N\r\n",
        "mean_x_square=sum_x_square/N\r\n",
        "\r\n",
        "the_diff= mean_x_square - (mean_x)**2\r\n",
        "\r\n",
        "print('The difference = ', the_diff )\r\n",
        "\r\n",
        "print('The variance of the data = ', np.var(data))\r\n",
        "\r\n",
        "print('\\n Hence, variance = E(x^2) - E(x)^2')\r\n"
      ],
      "execution_count": 24,
      "outputs": [
        {
          "output_type": "stream",
          "text": [
            "The difference =  41.200000000000045\n",
            "The variance of the data =  41.2\n",
            "\n",
            " Hence, variance = E(x^2) - E(x)^2\n"
          ],
          "name": "stdout"
        }
      ]
    },
    {
      "cell_type": "code",
      "metadata": {
        "colab": {
          "base_uri": "https://localhost:8080/"
        },
        "id": "5VrRrJbZreMJ",
        "outputId": "f5dcd5d7-c855-43eb-ceb3-73fcaa039948"
      },
      "source": [
        "# Example 1e\r\n",
        "# To obtain the standard deviation of the given sequence\r\n",
        "# Variance is given by the Square_root of the variance\r\n",
        "\r\n",
        "sample1= np.random.choice(data,4)\r\n",
        "\r\n",
        "print('Random selection of samples = ', sample1)\r\n",
        "\r\n",
        "print('\\n Variance of the sample = ', np.var(sample1))\r\n",
        "\r\n",
        "print('\\n Recall, that the variance of the whole data = ', np.var(data))\r\n",
        "\r\n",
        "print('\\n Variance of the sample with Bessel correction = ', np.var(sample1)*N/(N-1))"
      ],
      "execution_count": 25,
      "outputs": [
        {
          "output_type": "stream",
          "text": [
            "Random selection of samples =  [38 31 38 27]\n",
            "\n",
            " Variance of the sample =  22.25\n",
            "\n",
            " Recall, that the variance of the whole data =  41.2\n",
            "\n",
            " Variance of the sample with Bessel correction =  24.72222222222222\n"
          ],
          "name": "stdout"
        }
      ]
    },
    {
      "cell_type": "code",
      "metadata": {
        "colab": {
          "base_uri": "https://localhost:8080/"
        },
        "id": "G0HHuZCnrmAe",
        "outputId": "c838a035-a373-47d2-dd01-6773facf237b"
      },
      "source": [
        "# Example 1f\r\n",
        "\r\n",
        "mew=np.mean(data)\r\n",
        "new_data=data - mew\r\n",
        "\r\n",
        "new_mean=np.mean(new_data)\r\n",
        "print('new mean =', new_mean)\r\n",
        "print('Hence, when we subtract mean from every element, mean of new distribution = 0')"
      ],
      "execution_count": 26,
      "outputs": [
        {
          "output_type": "stream",
          "text": [
            "new mean = 0.0\n",
            "Hence, when we subtract mean from every element, mean of new distribution = 0\n"
          ],
          "name": "stdout"
        }
      ]
    },
    {
      "cell_type": "code",
      "metadata": {
        "colab": {
          "base_uri": "https://localhost:8080/"
        },
        "id": "fC6Kx4R52Ar1",
        "outputId": "fcd82bce-8c58-4ad6-c61f-3d7d3a915033"
      },
      "source": [
        "# Example 1g\r\n",
        "\r\n",
        "data=np.array([20, 25, 40, 31, 35, 27, 29, 26, 38, 39 ])\r\n",
        "N=len(data)\r\n",
        "\r\n",
        "mew=np.mean(data)\r\n",
        "sigma=np.std(data)\r\n",
        "new_data=(data - mew)/sigma\r\n",
        "\r\n",
        "new_mean=np.mean(new_data)\r\n",
        "new_sigma=np.std(new_data)\r\n",
        "print('\\n new mean =', new_mean)\r\n",
        "print('\\n new standard Deviation = ', new_sigma)\r\n",
        "print('\\n Hence, when we subtract mean from every element and divide by Standard deviation')\r\n",
        "print('\\n the new distribution has Zero mean and Unit Standard deviation')"
      ],
      "execution_count": 27,
      "outputs": [
        {
          "output_type": "stream",
          "text": [
            "\n",
            " new mean = 0.0\n",
            "\n",
            " new standard Deviation =  1.0\n",
            "\n",
            " Hence, when we subtract mean from every element and divide by Standard deviation\n",
            "\n",
            " the new distribution has Zero mean and Unit Standard deviation\n"
          ],
          "name": "stdout"
        }
      ]
    },
    {
      "cell_type": "code",
      "metadata": {
        "colab": {
          "base_uri": "https://localhost:8080/",
          "height": 350
        },
        "id": "IQwMb3aE2L2n",
        "outputId": "ec7f9f29-9114-4a86-98d3-a15e82a74ef9"
      },
      "source": [
        "# Example 2\r\n",
        "# Marks scored in CIE, this is our input variable\r\n",
        "# Marks scored in SEE, this is our output variable\r\n",
        "\r\n",
        "CIE=np.array([20, 25, 40, 31, 35, 27, 29, 26, 38, 39])\r\n",
        "SEE=np.array([50, 60, 75, 72, 80, 55, 68, 60, 75, 95])\r\n",
        "\r\n",
        "# let us observe the data\r\n",
        "\r\n",
        "plt.scatter(CIE,SEE, marker='x')\r\n",
        "plt.axis([15, 45, 0, 100])\r\n",
        "plt.grid()\r\n",
        "plt.xlabel('CIE')\r\n",
        "plt.ylabel('SEE')\r\n",
        "\r\n",
        "# to compute the Covariance, Correlation\r\n",
        "\r\n",
        "N=len(CIE)\r\n",
        "mew_CIE = np.mean(CIE)\r\n",
        "mew_SEE = np.mean(SEE)\r\n",
        "sigma_CIE = np.std(CIE)\r\n",
        "sigma_SEE = np.std(SEE)\r\n",
        "mew_CIE_SEE = np.dot(CIE,SEE)/N\r\n",
        "\r\n",
        "covariance = (mew_CIE_SEE) - (mew_CIE)*(mew_SEE)\r\n",
        "correlation = covariance /(sigma_CIE * sigma_SEE)\r\n",
        "\r\n",
        "print('\\n Covariance of CIE and SEE = ',covariance )\r\n",
        "print('\\n Correlation of CIE and SEE = ',correlation )"
      ],
      "execution_count": 28,
      "outputs": [
        {
          "output_type": "stream",
          "text": [
            "\n",
            " Covariance of CIE and SEE =  71.40000000000009\n",
            "\n",
            " Correlation of CIE and SEE =  0.8799565255641197\n"
          ],
          "name": "stdout"
        },
        {
          "output_type": "display_data",
          "data": {
            "image/png": "[encoded data removed]",
            "text/plain": [
              "<Figure size 432x288 with 1 Axes>"
            ]
          },
          "metadata": {
            "tags": [],
            "needs_background": "light"
          }
        }
      ]
    },
    {
      "cell_type": "code",
      "metadata": {
        "colab": {
          "base_uri": "https://localhost:8080/",
          "height": 350
        },
        "id": "n5D0jvY-2bdS",
        "outputId": "2faaf503-4a27-40b1-90ae-e698d478ffe8"
      },
      "source": [
        "# Example 3\r\n",
        "# Hours spent on the mobile phone per day, this is our input variable\r\n",
        "# Marks scored in SEE, this is our output variable\r\n",
        "\r\n",
        "CIE=np.array([3, 3, 4, 4, 5, 5, 6, 6, 7, 7, 8, 8, 9, 9])\r\n",
        "SEE=np.array([95, 60, 85, 80, 75, 55, 65, 60, 55, 50, 45, 40, 5,85 ])\r\n",
        "\r\n",
        "# let us observe the data\r\n",
        "plt.scatter(CIE,SEE, marker='x')\r\n",
        "plt.axis([0, 10, 0, 100])\r\n",
        "plt.grid()\r\n",
        "plt.xlabel('CIE')\r\n",
        "plt.ylabel('SEE')\r\n",
        "\r\n",
        "# to compute the Covariance, Correlation\r\n",
        "\r\n",
        "N=len(CIE)\r\n",
        "mew_CIE = np.mean(CIE)\r\n",
        "mew_SEE = np.mean(SEE)\r\n",
        "sigma_CIE = np.std(CIE)\r\n",
        "sigma_SEE = np.std(SEE)\r\n",
        "mew_CIE_SEE = np.dot(CIE,SEE)/N\r\n",
        "\r\n",
        "covariance = (mew_CIE_SEE) - (mew_CIE)*(mew_SEE)\r\n",
        "correlation = covariance /(sigma_CIE * sigma_SEE)\r\n",
        "print('\\n Covariance of CIE and SEE = ',covariance )\r\n",
        "print('\\n Correlation of CIE and SEE = ',correlation )"
      ],
      "execution_count": 29,
      "outputs": [
        {
          "output_type": "stream",
          "text": [
            "\n",
            " Covariance of CIE and SEE =  -27.142857142857167\n",
            "\n",
            " Correlation of CIE and SEE =  -0.6109198433943572\n"
          ],
          "name": "stdout"
        },
        {
          "output_type": "display_data",
          "data": {
            "image/png": "[encoded data removed]",
            "text/plain": [
              "<Figure size 432x288 with 1 Axes>"
            ]
          },
          "metadata": {
            "tags": [],
            "needs_background": "light"
          }
        }
      ]
    },
    {
      "cell_type": "code",
      "metadata": {
        "colab": {
          "base_uri": "https://localhost:8080/"
        },
        "id": "_CO2Lo5A2kYR",
        "outputId": "434e50e1-f239-4221-e5d5-bc079013cf52"
      },
      "source": [
        "# Example 4\r\n",
        "# To print the letter Grade based on Score, Absolute Grading System\r\n",
        "# S if greater than 90\r\n",
        "# A if greater than 75\r\n",
        "# B if greater than 60\r\n",
        "# C if greater than 40\r\n",
        "# F is less than 40\r\n",
        "\r\n",
        "score = 92\r\n",
        "if score >= 90:\r\n",
        "  grade = 'S'\r\n",
        "if score >= 75 and score <90:\r\n",
        "  grade = 'A'\r\n",
        "if score >= 60 and score < 75:\r\n",
        "  grade = 'B'\r\n",
        "if score >= 40 and score <60:\r\n",
        "  grade = 'C'\r\n",
        "if score < 40:\r\n",
        "  grade = 'F'\r\n",
        "print('Grade is = ', grade)"
      ],
      "execution_count": 32,
      "outputs": [
        {
          "output_type": "stream",
          "text": [
            "Grade is =  S\n"
          ],
          "name": "stdout"
        }
      ]
    },
    {
      "cell_type": "code",
      "metadata": {
        "colab": {
          "base_uri": "https://localhost:8080/"
        },
        "id": "ntwyxH1b2vvT",
        "outputId": "e2ec2b81-ebc7-4a64-a7bc-acecdbc22f79"
      },
      "source": [
        "# Example 5\r\n",
        "# To print the letter Grade based on Score, and class performance\r\n",
        "# Relgative Grading System\r\n",
        "# S if greater than mew+1.5sigma\r\n",
        "# A if greater than mew+0.5sigma\r\n",
        "# B if greater than mew-0.5sigma\r\n",
        "# C if greater than mew-1.5sigma\r\n",
        "# F if less than mew-1.5sigma\r\n",
        "\r\n",
        "#SEE=np.array([95, 60, 85, 80,75, 55, 65, 60, 55, 50, 45,40,35, 85 ])\r\n",
        "\r\n",
        "SEE=np.array([75, 40, 65, 60,55, 35, 45, 40, 35, 30, 25, 20,15, 65 ])\r\n",
        "\r\n",
        "mew=np.mean(SEE)\r\n",
        "sigma=np.std(SEE)\r\n",
        "\r\n",
        "score = 75\r\n",
        "if score >= (mew + 1.5*sigma):\r\n",
        "  grade = 'S'\r\n",
        "if score >= (mew + 0.5*sigma) and score < (mew + 1.5*sigma):\r\n",
        "  grade = 'A'\r\n",
        "if score >= (mew - 0.5*sigma) and score < (mew + 0.5*sigma):\r\n",
        "  grade = 'B'\r\n",
        "if score >= (mew - 1.5*sigma) and score <(mew - 0.5*sigma):\r\n",
        "  grade = 'C'\r\n",
        "if score < (mew - 1.5*sigma):\r\n",
        "  grade = 'F'\r\n",
        "\r\n",
        "print('\\n Class average = ', mew )\r\n",
        "print('\\n Class Standard Deviation = ', sigma)\r\n",
        "print('\\n Your Score = ', score)\r\n",
        "print('\\n hence Grade is = ', grade)\r\n",
        "print('\\n',round(mew+1.5*sigma), round(mew+0.5*sigma), round(mew-0.5*sigma), round(mew-1.5*sigma) )"
      ],
      "execution_count": 33,
      "outputs": [
        {
          "output_type": "stream",
          "text": [
            "\n",
            " Class average =  43.214285714285715\n",
            "\n",
            " Class Standard Deviation =  17.688489281485417\n",
            "\n",
            " Your Score =  75\n",
            "\n",
            " hence Grade is =  S\n",
            "\n",
            " 70 52 34 17\n"
          ],
          "name": "stdout"
        }
      ]
    }
  ]
}