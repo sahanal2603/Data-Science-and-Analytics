{
  "nbformat": 4,
  "nbformat_minor": 0,
  "metadata": {
    "colab": {
      "name": "Naive Bayes.ipynb",
      "provenance": [],
      "collapsed_sections": [],
      "authorship_tag": "ABX9TyNm5h4YYQDa7FjCHkn7VBAW",
      "include_colab_link": true
    },
    "kernelspec": {
      "name": "python3",
      "display_name": "Python 3"
    },
    "language_info": {
      "name": "python"
    }
  },
  "cells": [
    {
      "cell_type": "markdown",
      "metadata": {
        "id": "view-in-github",
        "colab_type": "text"
      },
      "source": [
        "<a href=\"https://colab.research.google.com/github/sahanal2603/Data-Science-and-Analytics/blob/master/Naive_Bayes.ipynb\" target=\"_parent\"><img src=\"https://colab.research.google.com/assets/colab-badge.svg\" alt=\"Open In Colab\"/></a>"
      ]
    },
    {
      "cell_type": "code",
      "metadata": {
        "id": "SbT_CO0hoAjM"
      },
      "source": [
        "import numpy as np\n",
        "import matplotlib.pyplot as plt\n",
        "import pandas as pd "
      ],
      "execution_count": 1,
      "outputs": []
    },
    {
      "cell_type": "code",
      "metadata": {
        "colab": {
          "base_uri": "https://localhost:8080/"
        },
        "id": "BWTCxZB3oHA5",
        "outputId": "9e9e2e2d-6340-4405-eb02-27ea2eb6a770"
      },
      "source": [
        "XX = np.array([2.3, 3.6, 1.2, 2.1 ])\n",
        "N = len(XX)\n",
        "mew = np.mean(XX)\n",
        "var=np.var(XX)\n",
        "var=var*N/(N-1)       # Apply the Bessel Correction for sample variance\n",
        "sigma=np.sqrt(var)\n",
        "\n",
        "print('mean =', round(mew,2), '\\t Sigma = ', round(sigma,2))\n",
        "print('var =', var)"
      ],
      "execution_count": 2,
      "outputs": [
        {
          "output_type": "stream",
          "text": [
            "mean = 2.3 \t Sigma =  0.99\n",
            "var = 0.9800000000000001\n"
          ],
          "name": "stdout"
        }
      ]
    },
    {
      "cell_type": "code",
      "metadata": {
        "id": "dzTWiq-3oTFY"
      },
      "source": [
        "# the function to compute the Gaussian distribution \n",
        "def my_gaussian_at(mew,sigma,x):\n",
        "    \n",
        "    temp1=((x-mew)/sigma)**2\n",
        "    temp2=1/(sigma*np.sqrt(2*np.pi))\n",
        "    f_x=temp2*np.exp(-0.5*temp1)\n",
        "      \n",
        "    return f_x"
      ],
      "execution_count": 4,
      "outputs": []
    },
    {
      "cell_type": "code",
      "metadata": {
        "colab": {
          "base_uri": "https://localhost:8080/"
        },
        "id": "SXziPJqXoLw9",
        "outputId": "1e3908f1-8bc2-4018-d5cf-0bc054f6f10c"
      },
      "source": [
        "# to evaluate the value of the probability density, f(x)\n",
        "# for the given x, assuming Gaussian Distribution with mew and sigma\n",
        "\n",
        "mew =2.3\n",
        "sigma =0.86\n",
        "x=3.5\n",
        "prob_at_x =my_gaussian_at(mew,sigma,x)\n",
        "print(round(prob_at_x,2))"
      ],
      "execution_count": 5,
      "outputs": [
        {
          "output_type": "stream",
          "text": [
            "0.18\n"
          ],
          "name": "stdout"
        }
      ]
    },
    {
      "cell_type": "code",
      "metadata": {
        "colab": {
          "base_uri": "https://localhost:8080/"
        },
        "id": "OjV8qL9aoVjZ",
        "outputId": "085d68ed-d33b-48f8-9486-cbab08f1bbde"
      },
      "source": [
        "# creating the given data set\n",
        "# first enter the data as a dictionary\n",
        "# then use pandas and convert to dataframe\n",
        "\n",
        "data={'Coding': [3,2.3,1.5,5,3.6, 2.8,1.2, 2.1, 3.2],\n",
        "      'Lectures': [3,2.5,4,1.4,2, 3.5, 1.3, 1.8, 2.7],\n",
        "      'Wattsapp': [1.3,2,0.6,3,2.5, 1.2, 3.5, 4.1, 1.8],\n",
        "      'Result': ['Pass', 'Fail', 'Pass', 'Pass', 'Fail', 'Pass', 'Fail', 'Fail', 'Pass']}\n",
        "\n",
        "our_data=pd.DataFrame(data)\n",
        "print(our_data)\n",
        "our_data.shape"
      ],
      "execution_count": 6,
      "outputs": [
        {
          "output_type": "stream",
          "text": [
            "   Coding  Lectures  Wattsapp Result\n",
            "0     3.0       3.0       1.3   Pass\n",
            "1     2.3       2.5       2.0   Fail\n",
            "2     1.5       4.0       0.6   Pass\n",
            "3     5.0       1.4       3.0   Pass\n",
            "4     3.6       2.0       2.5   Fail\n",
            "5     2.8       3.5       1.2   Pass\n",
            "6     1.2       1.3       3.5   Fail\n",
            "7     2.1       1.8       4.1   Fail\n",
            "8     3.2       2.7       1.8   Pass\n"
          ],
          "name": "stdout"
        },
        {
          "output_type": "execute_result",
          "data": {
            "text/plain": [
              "(9, 4)"
            ]
          },
          "metadata": {
            "tags": []
          },
          "execution_count": 6
        }
      ]
    },
    {
      "cell_type": "code",
      "metadata": {
        "colab": {
          "base_uri": "https://localhost:8080/"
        },
        "id": "C5tME5lhoYlR",
        "outputId": "a08a9f1e-de21-41b6-c37d-5bc8022922d9"
      },
      "source": [
        "# to get the Pass Class\n",
        "\n",
        "Pass_Class=our_data[our_data['Result']=='Pass']\n",
        "print(Pass_Class)"
      ],
      "execution_count": 7,
      "outputs": [
        {
          "output_type": "stream",
          "text": [
            "   Coding  Lectures  Wattsapp Result\n",
            "0     3.0       3.0       1.3   Pass\n",
            "2     1.5       4.0       0.6   Pass\n",
            "3     5.0       1.4       3.0   Pass\n",
            "5     2.8       3.5       1.2   Pass\n",
            "8     3.2       2.7       1.8   Pass\n"
          ],
          "name": "stdout"
        }
      ]
    },
    {
      "cell_type": "code",
      "metadata": {
        "colab": {
          "base_uri": "https://localhost:8080/"
        },
        "id": "-IkAf6jIobGU",
        "outputId": "bae745b2-d081-4804-ab80-e0f556afd996"
      },
      "source": [
        "# to get the Fail Class\n",
        "\n",
        "Fail_Class=our_data[our_data['Result']=='Fail']\n",
        "print(Fail_Class)"
      ],
      "execution_count": 8,
      "outputs": [
        {
          "output_type": "stream",
          "text": [
            "   Coding  Lectures  Wattsapp Result\n",
            "1     2.3       2.5       2.0   Fail\n",
            "4     3.6       2.0       2.5   Fail\n",
            "6     1.2       1.3       3.5   Fail\n",
            "7     2.1       1.8       4.1   Fail\n"
          ],
          "name": "stdout"
        }
      ]
    }
  ]
}