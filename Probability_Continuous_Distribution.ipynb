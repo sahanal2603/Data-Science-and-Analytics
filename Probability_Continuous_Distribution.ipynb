{
  "nbformat": 4,
  "nbformat_minor": 0,
  "metadata": {
    "colab": {
      "name": "Probability Continuous Distribution.ipynb",
      "provenance": [],
      "authorship_tag": "ABX9TyMc8m+rNM8cjF6gtcgQScAp",
      "include_colab_link": true
    },
    "kernelspec": {
      "name": "python3",
      "display_name": "Python 3"
    }
  },
  "cells": [
    {
      "cell_type": "markdown",
      "metadata": {
        "id": "view-in-github",
        "colab_type": "text"
      },
      "source": [
        "<a href=\"https://colab.research.google.com/github/sahanal2603/Data-Science-and-Analytics/blob/master/Probability_Continuous_Distribution.ipynb\" target=\"_parent\"><img src=\"https://colab.research.google.com/assets/colab-badge.svg\" alt=\"Open In Colab\"/></a>"
      ]
    },
    {
      "cell_type": "code",
      "metadata": {
        "id": "CBe_pvurCwIN"
      },
      "source": [
        "import numpy as np\r\n",
        "import matplotlib.pyplot as plt"
      ],
      "execution_count": 1,
      "outputs": []
    },
    {
      "cell_type": "code",
      "metadata": {
        "id": "6xHRUEUxDFPC"
      },
      "source": [
        "# to define a function for integration \r\n",
        "# takes as input, an array of x, and returns its integral\r\n",
        "# to integrate a function of x; \r\n",
        "# integral = area under the curve, area upto the point\r\n",
        "# delta_x = x[i+1] - x[i]\r\n",
        "# integral[i] = integral[i-1] + delta_x * (y[i+1] + y[i]) * 0.5\r\n",
        "\r\n",
        "def my_integral(x,y):\r\n",
        "    N = len(x)\r\n",
        "    integral = []\r\n",
        "    integral.append(0)\r\n",
        "\r\n",
        "    delta_x = x[1] - x[0]\r\n",
        "    for i in range(N-1):\r\n",
        "        temp1 = delta_x * (y[i+1] + y[i]) * 0.5\r\n",
        "        temp2 = integral[i] + temp1\r\n",
        "        integral.append(temp2)\r\n",
        "    return integral"
      ],
      "execution_count": 2,
      "outputs": []
    },
    {
      "cell_type": "code",
      "metadata": {
        "id": "ZeciKKXDDGVc"
      },
      "source": [
        "# To have a function that generates the Gaussian Distribution \r\n",
        "# Mean = average = mew \r\n",
        "# Standard Deviation = Sigma\r\n",
        "# for given input array x\r\n",
        "\r\n",
        "def my_gaussian(mew,sigma,x):\r\n",
        "    N = len(x)\r\n",
        "    y = []\r\n",
        "\r\n",
        "    const1 = sigma**2\r\n",
        "    const2 = 2*np.pi\r\n",
        "    const3 = 1/sigma/np.sqrt(const2)\r\n",
        "\r\n",
        "    for i in range(N):\r\n",
        "        temp1 = (x[i] - mew)**2\r\n",
        "        temp2 = 0.5 * temp1 / const1\r\n",
        "        temp3 = np.exp(-temp2) \r\n",
        "        temp4 = const3*temp3\r\n",
        "        y.append(temp4)\r\n",
        "    \r\n",
        "    return y"
      ],
      "execution_count": 3,
      "outputs": []
    },
    {
      "cell_type": "code",
      "metadata": {
        "id": "x512Iwp2DJyq"
      },
      "source": [
        "# To have a function that generates the Uniform Distribution \r\n",
        "# f(x) = 1/(b-a)   for a <= x  <= b, and 0 otherwise\r\n",
        "# for given input array x\r\n",
        "\r\n",
        "def my_uniform(a,b,x): \r\n",
        "    y=[]\r\n",
        "    N=len(x)\r\n",
        "    for i in range(N):\r\n",
        "        if x[i] > a and x[i] < b:\r\n",
        "            temp = 1/(b-a)\r\n",
        "        else:\r\n",
        "            temp = 0\r\n",
        "        y.append(temp)\r\n",
        "    \r\n",
        "    return y\r\n",
        "\r\n"
      ],
      "execution_count": 4,
      "outputs": []
    },
    {
      "cell_type": "code",
      "metadata": {
        "id": "ISCOjlOdDNBl"
      },
      "source": [
        "# To have a function that generates the Exponential Distribution \r\n",
        "# f(x) = (a) exp(-ax)   for x >=0 , and 0 otherwise\r\n",
        "# for given input array x\r\n",
        "\r\n",
        "def my_exponential(a,x):\r\n",
        "    y=[]\r\n",
        "    N=len(x)\r\n",
        "\r\n",
        "    for i in range(N):\r\n",
        "        if x[i] > 0:\r\n",
        "            temp = (a) * np.exp( -a * x[i] )\r\n",
        "        else:\r\n",
        "            temp = 0\r\n",
        "        y.append(temp)\r\n",
        "    \r\n",
        "    return y\r\n"
      ],
      "execution_count": 5,
      "outputs": []
    },
    {
      "cell_type": "code",
      "metadata": {
        "colab": {
          "base_uri": "https://localhost:8080/",
          "height": 421
        },
        "id": "JH0XkEh8DRM_",
        "outputId": "d64d696f-9e28-46a0-a9fc-23cacd26ad9c"
      },
      "source": [
        "# Example 1\r\n",
        "# to generate a Uniform Distribution, in the limits of x=(a,b)\r\n",
        "# and then integrate it\r\n",
        "\r\n",
        "a=-2\r\n",
        "b=2\r\n",
        "N=500\r\n",
        "x = np.linspace(a-5, b+5, N)\r\n",
        "\r\n",
        "y=my_uniform(a,b,x)\r\n",
        " \r\n",
        "integral_fx = my_integral(x,y)\r\n",
        "\r\n",
        "plt.figure(figsize=(8,6))\r\n",
        "plt.plot(x,y, label='f(x)', lw=4)\r\n",
        "plt.plot(x,integral_fx, label= ' integral f(x)')\r\n",
        "plt.axis([1.2*a,1.2*b,-0.2,1.2])\r\n",
        "plt.grid()\r\n",
        "plt.xlabel('x')\r\n",
        "plt.title('Uniform Distribution Function and its integral')\r\n",
        "plt.legend()"
      ],
      "execution_count": 6,
      "outputs": [
        {
          "output_type": "execute_result",
          "data": {
            "text/plain": [
              "<matplotlib.legend.Legend at 0x7f423d64b2d0>"
            ]
          },
          "metadata": {
            "tags": []
          },
          "execution_count": 6
        },
        {
          "output_type": "display_data",
          "data": {
            "image/png": "[encoded data removed]",
            "text/plain": [
              "<Figure size 576x432 with 1 Axes>"
            ]
          },
          "metadata": {
            "tags": [],
            "needs_background": "light"
          }
        }
      ]
    },
    {
      "cell_type": "code",
      "metadata": {
        "colab": {
          "base_uri": "https://localhost:8080/",
          "height": 438
        },
        "id": "LkgbItyMDXrw",
        "outputId": "9346f993-5be8-47c8-9e56-8427b1889b3e"
      },
      "source": [
        "# Example 2\r\n",
        "# to generate a Gaussian Distribution \r\n",
        "# of different mean and sigma, for comparison\r\n",
        "\r\n",
        "N=301\r\n",
        "x = np.linspace(-10, 10, N)\r\n",
        "\r\n",
        "mew1 = -5\r\n",
        "sigma1 = 1\r\n",
        "mew2=2.5\r\n",
        "sigma2=2\r\n",
        "\r\n",
        "y1= my_gaussian(mew1, sigma1, x)\r\n",
        "y2= my_gaussian(mew2, sigma2, x)\r\n",
        "\r\n",
        "integral_fx1 = my_integral(x,y1)\r\n",
        "integral_fx2 = my_integral(x,y2)\r\n",
        "\r\n",
        "plt.figure(figsize=(8,6))\r\n",
        "plt.plot(x,y1,lw=4)\r\n",
        "plt.plot(x,y2,lw=4 )\r\n",
        "plt.grid()\r\n",
        "plt.xlabel('x')\r\n",
        "plt.title('Gaussian Distribution Function ')\r\n",
        "plt.legend()"
      ],
      "execution_count": 7,
      "outputs": [
        {
          "output_type": "stream",
          "text": [
            "No handles with labels found to put in legend.\n"
          ],
          "name": "stderr"
        },
        {
          "output_type": "execute_result",
          "data": {
            "text/plain": [
              "<matplotlib.legend.Legend at 0x7f423d57fa90>"
            ]
          },
          "metadata": {
            "tags": []
          },
          "execution_count": 7
        },
        {
          "output_type": "display_data",
          "data": {
            "image/png": "[encoded data removed]",
            "text/plain": [
              "<Figure size 576x432 with 1 Axes>"
            ]
          },
          "metadata": {
            "tags": [],
            "needs_background": "light"
          }
        }
      ]
    },
    {
      "cell_type": "markdown",
      "metadata": {
        "id": "JXPtmAf2Dd9b"
      },
      "source": [
        "**Understanding Infinity**"
      ]
    },
    {
      "cell_type": "markdown",
      "metadata": {
        "id": "aspk18KKDu4r"
      },
      "source": [
        "**Mean of a Distribution**\r\n",
        "\r\n",
        "Mean is given by integral xf(x)"
      ]
    },
    {
      "cell_type": "code",
      "metadata": {
        "colab": {
          "base_uri": "https://localhost:8080/",
          "height": 346
        },
        "id": "1g83VD2eDZUc",
        "outputId": "aa757e3e-ec56-4838-a6ca-a18863a1d47d"
      },
      "source": [
        "# Example 5\r\n",
        "# to generate a Uniform Distribution, in the limits of x=(a,b)\r\n",
        "# to compute the mean of the Distribution\r\n",
        "\r\n",
        "a = 10\r\n",
        "b = 20\r\n",
        "x_lower = 0   # make this value lower than a\r\n",
        "x_upper = 30   # make this value greater than b \r\n",
        "\r\n",
        "N=300\r\n",
        "x = np.linspace(x_lower, x_upper, N)\r\n",
        "y = my_uniform(a, b, x)\r\n",
        "\r\n",
        "\r\n",
        "x_fx=[]     # building the array, x f(x)\r\n",
        "for i in range(N):\r\n",
        "    temp = x[i] * y[i]\r\n",
        "    x_fx.append(temp)\r\n",
        "\r\n",
        "integral_x_fx = my_integral(x, x_fx)\r\n",
        "\r\n",
        "our_mean = integral_x_fx[-1]      # taking the last value of the integration\r\n",
        "\r\n",
        "plt.plot(x,y)\r\n",
        "plt.xlabel('x')\r\n",
        "plt.ylabel('f(x)')\r\n",
        "plt.title('Uniform Distribution')\r\n",
        "plt.grid()\r\n",
        "\r\n",
        "print('\\n Mean of the distribution = ', round(our_mean,2), '\\n' )\r\n"
      ],
      "execution_count": 8,
      "outputs": [
        {
          "output_type": "stream",
          "text": [
            "\n",
            " Mean of the distribution =  15.05 \n",
            "\n"
          ],
          "name": "stdout"
        },
        {
          "output_type": "display_data",
          "data": {
            "image/png": "[encoded data removed]",
            "text/plain": [
              "<Figure size 432x288 with 1 Axes>"
            ]
          },
          "metadata": {
            "tags": [],
            "needs_background": "light"
          }
        }
      ]
    },
    {
      "cell_type": "code",
      "metadata": {
        "colab": {
          "base_uri": "https://localhost:8080/",
          "height": 396
        },
        "id": "LO1lcbdcD_Ch",
        "outputId": "a716d1d4-5237-46d8-af1d-c89ba7dbbc45"
      },
      "source": [
        "# Example 6\r\n",
        "# to generate a an exponential\r\n",
        "# to compute the mean of the Distribution\r\n",
        "\r\n",
        "a = 4    \r\n",
        "M = 10\r\n",
        "upper_limit = M* (1/a)\r\n",
        "N = 500\r\n",
        "x = np.linspace(-1, upper_limit, N)\r\n",
        "\r\n",
        "y=my_exponential(a,x)\r\n",
        "\r\n",
        "x_fx=[]     # building the array, x f(x)\r\n",
        "for i in range(N):\r\n",
        "    temp = x[i] * y[i]\r\n",
        "    x_fx.append(temp)\r\n",
        "\r\n",
        "integral_x_fx = my_integral(x, x_fx)\r\n",
        "\r\n",
        "our_mean = integral_x_fx[-1]      # taking the last value of the integration\r\n",
        "\r\n",
        "plt.plot(x,y)\r\n",
        "plt.xlabel('x')\r\n",
        "plt.ylabel('f(x)')\r\n",
        "plt.title('Exponential Distribution')\r\n",
        "plt.grid()\r\n",
        "\r\n",
        "print('\\n Mean of the distribution = ', round(our_mean,2), '\\n' )\r\n",
        "\r\n",
        "print('\\n We can recognize that the mean 1/a, as a = ', a, '\\n')\r\n"
      ],
      "execution_count": 9,
      "outputs": [
        {
          "output_type": "stream",
          "text": [
            "\n",
            " Mean of the distribution =  0.25 \n",
            "\n",
            "\n",
            " We can recognize that the mean 1/a, as a =  4 \n",
            "\n"
          ],
          "name": "stdout"
        },
        {
          "output_type": "display_data",
          "data": {
            "image/png": "[encoded data removed]",
            "text/plain": [
              "<Figure size 432x288 with 1 Axes>"
            ]
          },
          "metadata": {
            "tags": [],
            "needs_background": "light"
          }
        }
      ]
    },
    {
      "cell_type": "code",
      "metadata": {
        "colab": {
          "base_uri": "https://localhost:8080/",
          "height": 396
        },
        "id": "41H5JbG8EHMO",
        "outputId": "65df10ee-e653-4014-8845-c35b76a7cb01"
      },
      "source": [
        "# Example 7\r\n",
        "# to generate a Gaussian Distribution \r\n",
        "# to compute the mean of the Distribution\r\n",
        "\r\n",
        "M = 5\r\n",
        "mew = 2.5\r\n",
        "sigma = 1.5\r\n",
        "lower_limit = mew - M*sigma\r\n",
        "upper_limit = mew + M*sigma\r\n",
        "N=100\r\n",
        "x = np.linspace(lower_limit , upper_limit, N)\r\n",
        "y= my_gaussian(mew, sigma, x)\r\n",
        "\r\n",
        "x_fx=[]     # building the array, x f(x)\r\n",
        "for i in range(N):\r\n",
        "    temp = x[i] * y[i]\r\n",
        "    x_fx.append(temp)\r\n",
        "\r\n",
        "integral_x_fx = my_integral(x, x_fx)\r\n",
        "\r\n",
        "our_mean = integral_x_fx[-1]      # taking the last value of the integration\r\n",
        "\r\n",
        "plt.plot(x,y)\r\n",
        "plt.xlabel('x')\r\n",
        "plt.ylabel('f(x)')\r\n",
        "plt.title('Gaussian Distribution')\r\n",
        "plt.grid()\r\n",
        "plt.axis([-10,10, 0, 0.6])\r\n",
        "\r\n",
        "print('\\n Mean of the distribution = ', round(our_mean,2), '\\n' )\r\n",
        "\r\n",
        "print('\\n We can recognize that the mean = mew, as mew = ', mew, '\\n')\r\n"
      ],
      "execution_count": 10,
      "outputs": [
        {
          "output_type": "stream",
          "text": [
            "\n",
            " Mean of the distribution =  2.5 \n",
            "\n",
            "\n",
            " We can recognize that the mean = mew, as mew =  2.5 \n",
            "\n"
          ],
          "name": "stdout"
        },
        {
          "output_type": "display_data",
          "data": {
            "image/png": "[encoded data removed]",
            "text/plain": [
              "<Figure size 432x288 with 1 Axes>"
            ]
          },
          "metadata": {
            "tags": [],
            "needs_background": "light"
          }
        }
      ]
    },
    {
      "cell_type": "markdown",
      "metadata": {
        "id": "BeqHke2uEKEl"
      },
      "source": [
        "**Variance and Standard Deviation of a Distribution**\r\n",
        "\r\n",
        "Variance is given by mean of (x-mew)^2\r\n",
        "\r\n",
        "Standard Deviation is sqrt(variance)\r\n",
        "\r\n"
      ]
    },
    {
      "cell_type": "code",
      "metadata": {
        "colab": {
          "base_uri": "https://localhost:8080/",
          "height": 446
        },
        "id": "Z-wVMSKAEOu7",
        "outputId": "5d2f228b-3845-457b-a1b7-c450f7598689"
      },
      "source": [
        "# Example 8\r\n",
        "# to generate a Uniform Distribution, in the limits of x=(a,b)\r\n",
        "# to compute the mean of the Distribution\r\n",
        "# to compute the variance and standard deviation \r\n",
        "\r\n",
        "a = -10\r\n",
        "b = 10\r\n",
        "x_lower = -20   # make this value lower than a\r\n",
        "x_upper = 20   # make this value greater than b \r\n",
        "\r\n",
        "N=300\r\n",
        "x = np.linspace(x_lower, x_upper, N)\r\n",
        "y = my_uniform(a, b, x)\r\n",
        "\r\n",
        "\r\n",
        "x_fx=[]     # building the array, x f(x)\r\n",
        "for i in range(N):\r\n",
        "    temp = x[i] * y[i]\r\n",
        "    x_fx.append(temp)\r\n",
        "integral_x_fx = my_integral(x, x_fx)\r\n",
        "our_mean = integral_x_fx[-1]      # taking the last value of the integration\r\n",
        "\r\n",
        "\r\n",
        "x_minus_mean_squared_fx=[]     # building the array, (x-mean)^2 * f(x)\r\n",
        "for i in range(N):\r\n",
        "    temp1 = (x[i] - our_mean)**2\r\n",
        "    temp2 = temp1 * y[i]\r\n",
        "    x_minus_mean_squared_fx.append(temp2)\r\n",
        "\r\n",
        "integral_for_variance = my_integral(x, x_minus_mean_squared_fx)\r\n",
        "our_variance = integral_for_variance[-1]      # taking the last value of the integration\r\n",
        "our_standard_deviation = np.sqrt(our_variance)\r\n",
        "\r\n",
        "plt.plot(x,y)\r\n",
        "plt.xlabel('x')\r\n",
        "plt.ylabel('f(x)')\r\n",
        "plt.title('Uniform Distribution')\r\n",
        "plt.grid()\r\n",
        "\r\n",
        "print('\\n Mean of the distribution = ', round(our_mean,2), '\\n' )\r\n",
        "\r\n",
        "print('\\n Variance of the distribution = ', round(our_variance,2), '\\n' )\r\n",
        "\r\n",
        "print('\\n Standard Deviation of the distribution = ', round(our_standard_deviation,2), '\\n' )\r\n"
      ],
      "execution_count": 11,
      "outputs": [
        {
          "output_type": "stream",
          "text": [
            "\n",
            " Mean of the distribution =  0.0 \n",
            "\n",
            "\n",
            " Variance of the distribution =  33.67 \n",
            "\n",
            "\n",
            " Standard Deviation of the distribution =  5.8 \n",
            "\n"
          ],
          "name": "stdout"
        },
        {
          "output_type": "display_data",
          "data": {
            "image/png": "[encoded data removed]",
            "text/plain": [
              "<Figure size 432x288 with 1 Axes>"
            ]
          },
          "metadata": {
            "tags": [],
            "needs_background": "light"
          }
        }
      ]
    },
    {
      "cell_type": "code",
      "metadata": {
        "colab": {
          "base_uri": "https://localhost:8080/",
          "height": 530
        },
        "id": "-6E1gl8oEVEg",
        "outputId": "67ec6c91-7fd6-4d41-a7df-3f40f358e046"
      },
      "source": [
        "# Example 9\r\n",
        "# to generate a an exponential\r\n",
        "# to compute the mean of the Distribution\r\n",
        "# to compute the variance and standard deviation\r\n",
        "\r\n",
        "a = 4    \r\n",
        "M = 10\r\n",
        "upper_limit = M* (1/a)\r\n",
        "N = 500\r\n",
        "x = np.linspace(-1, upper_limit, N)\r\n",
        "\r\n",
        "y=my_exponential(a,x)\r\n",
        "\r\n",
        "x_fx=[]     # building the array, x f(x)\r\n",
        "for i in range(N):\r\n",
        "    temp = x[i] * y[i]\r\n",
        "    x_fx.append(temp)\r\n",
        "\r\n",
        "integral_x_fx = my_integral(x, x_fx)\r\n",
        "our_mean = integral_x_fx[-1]      # taking the last value of the integration\r\n",
        "\r\n",
        "\r\n",
        "\r\n",
        "x_minus_mean_squared_fx=[]     # building the array, (x-mean)^2 * f(x)\r\n",
        "for i in range(N):\r\n",
        "    temp1 = (x[i] - our_mean)**2\r\n",
        "    temp2 = temp1 * y[i]\r\n",
        "    x_minus_mean_squared_fx.append(temp2)\r\n",
        "\r\n",
        "integral_for_variance = my_integral(x, x_minus_mean_squared_fx)\r\n",
        "our_variance = integral_for_variance[-1]      # taking the last value of the integration\r\n",
        "our_standard_deviation = np.sqrt(our_variance)\r\n",
        "\r\n",
        "\r\n",
        "plt.plot(x,y)\r\n",
        "plt.xlabel('x')\r\n",
        "plt.ylabel('f(x)')\r\n",
        "plt.title('Exponential Distribution')\r\n",
        "plt.grid()\r\n",
        "\r\n",
        "print('\\n Mean of the distribution = ', round(our_mean,2), '\\n' )\r\n",
        "\r\n",
        "print('\\n We can recognize that the mean 1/a, as a = ', a, '\\n')\r\n",
        "\r\n",
        "print('\\n Variance of the distribution = ', round(our_variance,2), '\\n' )\r\n",
        "\r\n",
        "print('\\n Standard Deviation of the distribution = ', round(our_standard_deviation,2), '\\n' )\r\n",
        "\r\n",
        "print('\\n We can recognize that the exponential distribution has mean and standard deviation identical')"
      ],
      "execution_count": 12,
      "outputs": [
        {
          "output_type": "stream",
          "text": [
            "\n",
            " Mean of the distribution =  0.25 \n",
            "\n",
            "\n",
            " We can recognize that the mean 1/a, as a =  4 \n",
            "\n",
            "\n",
            " Variance of the distribution =  0.06 \n",
            "\n",
            "\n",
            " Standard Deviation of the distribution =  0.25 \n",
            "\n",
            "\n",
            " We can recognize that the exponential distribution has mean and standard deviation identical\n"
          ],
          "name": "stdout"
        },
        {
          "output_type": "display_data",
          "data": {
            "image/png": "[encoded data removed]",
            "text/plain": [
              "<Figure size 432x288 with 1 Axes>"
            ]
          },
          "metadata": {
            "tags": [],
            "needs_background": "light"
          }
        }
      ]
    },
    {
      "cell_type": "code",
      "metadata": {
        "colab": {
          "base_uri": "https://localhost:8080/",
          "height": 547
        },
        "id": "GqtwtkqkEZVR",
        "outputId": "34e6d3e2-3a77-47e6-e534-56bf5c6bacc3"
      },
      "source": [
        "# Example 10\r\n",
        "# to generate a Gaussian Distribution \r\n",
        "# to compute the mean of the Distribution\r\n",
        "# to compute the variance and standard deviation\r\n",
        "\r\n",
        "M = 5\r\n",
        "mew = 1\r\n",
        "sigma = 3\r\n",
        "lower_limit = mew - M*sigma\r\n",
        "upper_limit = mew + M*sigma\r\n",
        "N=100\r\n",
        "x = np.linspace(lower_limit , upper_limit, N)\r\n",
        "y= my_gaussian(mew, sigma, x)\r\n",
        "\r\n",
        "x_fx=[]     # building the array, x f(x)\r\n",
        "for i in range(N):\r\n",
        "    temp = x[i] * y[i]\r\n",
        "    x_fx.append(temp)\r\n",
        "\r\n",
        "integral_x_fx = my_integral(x, x_fx)\r\n",
        "\r\n",
        "our_mean = integral_x_fx[-1]      # taking the last value of the integration\r\n",
        "\r\n",
        "\r\n",
        "x_minus_mean_squared_fx=[]     # building the array, (x-mean)^2 * f(x)\r\n",
        "for i in range(N):\r\n",
        "    temp1 = (x[i] - our_mean)**2\r\n",
        "    temp2 = temp1 * y[i]\r\n",
        "    x_minus_mean_squared_fx.append(temp2)\r\n",
        "\r\n",
        "integral_for_variance = my_integral(x, x_minus_mean_squared_fx)\r\n",
        "our_variance = integral_for_variance[-1]      # taking the last value of the integration\r\n",
        "our_standard_deviation = np.sqrt(our_variance)\r\n",
        "\r\n",
        "plt.plot(x,y)\r\n",
        "plt.xlabel('x')\r\n",
        "plt.ylabel('f(x)')\r\n",
        "plt.title('Gaussian Distribution')\r\n",
        "plt.grid()\r\n",
        "plt.axis([-10,10, 0, 0.6])\r\n",
        "\r\n",
        "print('\\n Mean of the distribution = ', round(our_mean,2), '\\n' )\r\n",
        "\r\n",
        "print('\\n We can recognize that the mean = mew, as mew = ', mew, '\\n')\r\n",
        "\r\n",
        "print('\\n Variance of the distribution = ', round(our_variance,2), '\\n' )\r\n",
        "\r\n",
        "print('\\n Standard Deviation of the distribution = ', round(our_standard_deviation,2), '\\n' )\r\n",
        "\r\n",
        "\r\n",
        "print('\\n We can recognize that the standard deviation = sigma, as sigma = ', sigma, '\\n')\r\n"
      ],
      "execution_count": 13,
      "outputs": [
        {
          "output_type": "stream",
          "text": [
            "\n",
            " Mean of the distribution =  1.0 \n",
            "\n",
            "\n",
            " We can recognize that the mean = mew, as mew =  1 \n",
            "\n",
            "\n",
            " Variance of the distribution =  9.0 \n",
            "\n",
            "\n",
            " Standard Deviation of the distribution =  3.0 \n",
            "\n",
            "\n",
            " We can recognize that the standard deviation = sigma, as sigma =  3 \n",
            "\n"
          ],
          "name": "stdout"
        },
        {
          "output_type": "display_data",
          "data": {
            "image/png": "[encoded data removed]",
            "text/plain": [
              "<Figure size 432x288 with 1 Axes>"
            ]
          },
          "metadata": {
            "tags": [],
            "needs_background": "light"
          }
        }
      ]
    }
  ]
}