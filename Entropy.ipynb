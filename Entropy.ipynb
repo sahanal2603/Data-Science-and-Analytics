{
  "nbformat": 4,
  "nbformat_minor": 0,
  "metadata": {
    "colab": {
      "name": "Entropy.ipynb",
      "provenance": [],
      "authorship_tag": "ABX9TyOgFCU3t/g3F9nyHX8kH7/3",
      "include_colab_link": true
    },
    "kernelspec": {
      "name": "python3",
      "display_name": "Python 3"
    }
  },
  "cells": [
    {
      "cell_type": "markdown",
      "metadata": {
        "id": "view-in-github",
        "colab_type": "text"
      },
      "source": [
        "<a href=\"https://colab.research.google.com/github/sahanal2603/Data-Science-and-Analytics/blob/master/Entropy.ipynb\" target=\"_parent\"><img src=\"https://colab.research.google.com/assets/colab-badge.svg\" alt=\"Open In Colab\"/></a>"
      ]
    },
    {
      "cell_type": "code",
      "metadata": {
        "id": "fhuE6FUshg_W"
      },
      "source": [
        "import numpy as np\r\n",
        "import matplotlib.pyplot as plt"
      ],
      "execution_count": 1,
      "outputs": []
    },
    {
      "cell_type": "code",
      "metadata": {
        "colab": {
          "base_uri": "https://localhost:8080/"
        },
        "id": "V2z3VAITho8o",
        "outputId": "95c8ac80-bf68-402c-b974-fcf159c209c1"
      },
      "source": [
        "# computing log of a number\r\n",
        "\r\n",
        "A = np.exp(2)\r\n",
        "B = 1000\r\n",
        "C = 32\r\n",
        "print(np.log(A))\r\n",
        "print(np.log10(B))\r\n",
        "print(np.log2(C))"
      ],
      "execution_count": 2,
      "outputs": [
        {
          "output_type": "stream",
          "text": [
            "2.0\n",
            "3.0\n",
            "5.0\n"
          ],
          "name": "stdout"
        }
      ]
    },
    {
      "cell_type": "code",
      "metadata": {
        "id": "VDibLBZphqZJ"
      },
      "source": [
        "# to have a function to compute nCk\r\n",
        "# nCk = n!/(k! (n-k)!)\r\n",
        "\r\n",
        "def NCK(N,k):\r\n",
        "    num=1\r\n",
        "    den=1\r\n",
        "    A = min(k,(N-k))\r\n",
        "    for i in range(A):\r\n",
        "        num = num*(N-i)\r\n",
        "        den = den*(i+1)\r\n",
        "        \r\n",
        "    return (num/den)\r\n"
      ],
      "execution_count": 3,
      "outputs": []
    },
    {
      "cell_type": "code",
      "metadata": {
        "id": "KzcdA_ckhxw0"
      },
      "source": [
        "def my_binomial_dist(N,p):\r\n",
        "    q = (1-p)\r\n",
        "    PK = []\r\n",
        "    for i in range(N+1):\r\n",
        "        C1 = NCK(N,i)\r\n",
        "        C2 = np.power(p,i)\r\n",
        "        C3 = np.power(q,(N-i))\r\n",
        "        PK.append(C1*C2*C3)\r\n",
        "    \r\n",
        "    return PK"
      ],
      "execution_count": 4,
      "outputs": []
    },
    {
      "cell_type": "code",
      "metadata": {
        "colab": {
          "base_uri": "https://localhost:8080/"
        },
        "id": "hX7Yymg0hyz3",
        "outputId": "4b6d3003-d173-419c-946c-a5e64040e72b"
      },
      "source": [
        "def my_entropy(prob_dist):\r\n",
        "    ent = 0\r\n",
        "    N = len(prob_dist)\r\n",
        "    for i in range(N):\r\n",
        "        C1 = - prob_dist[i]\r\n",
        "        C2 = np.log2(prob_dist[i])\r\n",
        "        ent = ent + C1*C2\r\n",
        "    \r\n",
        "    return ent\r\n",
        "\r\n",
        "#prob_dist = np.array([ 1/6, 1/6, 1/6, 1/6, 1/6, 1/6])   \r\n",
        "#prob_dist = np.array([ 1/12, 2/12, 3/12, 3/12, 2/12, 1/12]) \r\n",
        "#prob_dist = np.array([1/16, 10/16, 4/16,  1/16]) \r\n",
        "prob_dist = np.array([ 2/4, 2/4])\r\n",
        "print(my_entropy(prob_dist))\r\n",
        "print(sum(prob_dist))\r\n"
      ],
      "execution_count": 5,
      "outputs": [
        {
          "output_type": "stream",
          "text": [
            "1.0\n",
            "1.0\n"
          ],
          "name": "stdout"
        }
      ]
    },
    {
      "cell_type": "code",
      "metadata": {
        "colab": {
          "base_uri": "https://localhost:8080/",
          "height": 430
        },
        "id": "dpqA4cgUh4S9",
        "outputId": "5cf63cdb-1c69-45ae-d7ef-7e2a8cc8ef79"
      },
      "source": [
        "# to generate the binomial disribution\r\n",
        "# given p and N\r\n",
        "\r\n",
        "N=4\r\n",
        "p=0.35\r\n",
        "prob_binomial_dist = my_binomial_dist(N,p)\r\n",
        "\r\n",
        "k=np.arange(N+1)\r\n",
        "plt.bar(k,prob_binomial_dist)\r\n",
        "plt.xlabel('Number of Heads - k')\r\n",
        "plt.ylabel('Probability of k Heads - P(k)')\r\n",
        "plt.title(' The Binomial Distribution')\r\n",
        "\r\n",
        "print('\\n sum of probabilities = ',np.sum(prob_binomial_dist))\r\n",
        "print('\\n Probability Distribution = ',prob_binomial_dist)\r\n",
        "print('\\n Entropy of the Binomial Distribution = ',my_entropy(prob_binomial_dist))\r\n",
        "print('\\n')"
      ],
      "execution_count": 6,
      "outputs": [
        {
          "output_type": "stream",
          "text": [
            "\n",
            " sum of probabilities =  0.9999999999999999\n",
            "\n",
            " Probability Distribution =  [0.17850625000000003, 0.384475, 0.31053749999999997, 0.11147499999999998, 0.015006249999999997]\n",
            "\n",
            " Entropy of the Binomial Distribution =  1.9416444289342678\n",
            "\n",
            "\n"
          ],
          "name": "stdout"
        },
        {
          "output_type": "display_data",
          "data": {
            "image/png": "[encoded data removed]",
            "text/plain": [
              "<Figure size 432x288 with 1 Axes>"
            ]
          },
          "metadata": {
            "tags": [],
            "needs_background": "light"
          }
        }
      ]
    },
    {
      "cell_type": "code",
      "metadata": {
        "id": "-reBbugCh6Br"
      },
      "source": [
        "# run the above for different p =0.1, 0.5 etc, and comment on the result\r\n",
        "# run the above for different N, = 10, 20, 30, what is your observation"
      ],
      "execution_count": 7,
      "outputs": []
    }
  ]
}