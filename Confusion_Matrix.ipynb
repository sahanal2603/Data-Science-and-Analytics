{
  "nbformat": 4,
  "nbformat_minor": 0,
  "metadata": {
    "colab": {
      "name": "Confusion Matrix.ipynb",
      "provenance": [],
      "collapsed_sections": [],
      "authorship_tag": "ABX9TyOgf5s4c+QrFjAtKlDy5EI+",
      "include_colab_link": true
    },
    "kernelspec": {
      "name": "python3",
      "display_name": "Python 3"
    }
  },
  "cells": [
    {
      "cell_type": "markdown",
      "metadata": {
        "id": "view-in-github",
        "colab_type": "text"
      },
      "source": [
        "<a href=\"https://colab.research.google.com/github/sahanal2603/Data-Science-and-Analytics/blob/master/Confusion_Matrix.ipynb\" target=\"_parent\"><img src=\"https://colab.research.google.com/assets/colab-badge.svg\" alt=\"Open In Colab\"/></a>"
      ]
    },
    {
      "cell_type": "code",
      "metadata": {
        "id": "oyRNRkw_Wk0B"
      },
      "source": [
        "import numpy as np"
      ],
      "execution_count": 1,
      "outputs": []
    },
    {
      "cell_type": "code",
      "metadata": {
        "colab": {
          "base_uri": "https://localhost:8080/"
        },
        "id": "wd_ibxCEWnTf",
        "outputId": "f5f68fe6-774a-4065-c349-e37f3bd768ae"
      },
      "source": [
        "y_actual=['cat','cat','cat','dog','dog','dog','cat','dog','cat']\r\n",
        "count_cats=0\r\n",
        "count_dogs=0\r\n",
        "for animal in y_actual:\r\n",
        "    if animal=='cat':\r\n",
        "        count_cats=count_cats+1\r\n",
        "    if animal == 'dog':\r\n",
        "        count_dogs+=1\r\n",
        "\r\n",
        "print('number of dogs =', count_dogs)\r\n",
        "print('number of cats = ', count_cats)\r\n"
      ],
      "execution_count": 2,
      "outputs": [
        {
          "output_type": "stream",
          "text": [
            "number of dogs = 4\n",
            "number of cats =  5\n"
          ],
          "name": "stdout"
        }
      ]
    },
    {
      "cell_type": "code",
      "metadata": {
        "colab": {
          "base_uri": "https://localhost:8080/"
        },
        "id": "pVMAfgN6WqaG",
        "outputId": "6ac6bf6f-715d-4cb5-9aa6-a122e066dace"
      },
      "source": [
        "y_actual=['cat',  'cat',  'cat',  'dog',  'dog',  'dog',  'cat',  'dog',  'cat',  'dog',  'cat']\r\n",
        "y_predict=['dog', 'cat',  'cat',  'cat',  'dog',  'dog',  'cat',  'dog',  'cat',  'cat',  'cat']\r\n",
        "count_correct_cats=0\r\n",
        "count_correct_dogs=0\r\n",
        "count_incorrect_cats=0\r\n",
        "count_incorrect_dogs=0\r\n",
        "N=len(y_actual)\r\n",
        "for i in np.arange(N):\r\n",
        "    if y_actual[i]==y_predict[i] and y_actual[i]=='cat':\r\n",
        "        count_correct_cats+=1\r\n",
        "    if y_actual[i]==y_predict[i] and y_actual[i]=='dog':\r\n",
        "        count_correct_dogs+=1\r\n",
        "    if y_actual[i]!=y_predict[i] and y_actual[i]=='cat':\r\n",
        "        count_incorrect_cats+=1\r\n",
        "    if y_actual[i]!=y_predict[i] and y_actual[i]=='dog':\r\n",
        "        count_incorrect_dogs+=1\r\n",
        "\r\n",
        "print(count_correct_cats)\r\n",
        "print(count_correct_dogs)\r\n",
        "\r\n",
        "print(count_incorrect_cats)\r\n",
        "print(count_incorrect_dogs)"
      ],
      "execution_count": 3,
      "outputs": [
        {
          "output_type": "stream",
          "text": [
            "5\n",
            "3\n",
            "1\n",
            "2\n"
          ],
          "name": "stdout"
        }
      ]
    },
    {
      "cell_type": "code",
      "metadata": {
        "colab": {
          "base_uri": "https://localhost:8080/"
        },
        "id": "smgTznQMWzA9",
        "outputId": "890c2131-c8ab-414d-d466-1d32eda3e556"
      },
      "source": [
        "# covid test results\r\n",
        "\r\n",
        "y_actual=['positive','positive','positive','negative','positive','positive','negative','negative',\r\n",
        "          'negative','negative','negative','negative','negative']\r\n",
        "          \r\n",
        "y_predict=['positive','negative','positive','negative','negative','positive','negative','negative',\r\n",
        "           'negative','negative','positive','negative','negative']\r\n",
        "\r\n",
        "count_correct_positive=0\r\n",
        "count_correct_negative=0\r\n",
        "count_incorrect_positive=0\r\n",
        "count_incorrect_negative=0\r\n",
        "N=len(y_actual)\r\n",
        "for i in np.arange(N):\r\n",
        "    if y_actual[i]==y_predict[i] and y_actual[i]=='positive':\r\n",
        "        count_correct_positive+=1\r\n",
        "    if y_actual[i]==y_predict[i] and y_actual[i]=='negative':\r\n",
        "        count_correct_negative+=1\r\n",
        "    if y_actual[i]!=y_predict[i] and y_actual[i]=='positive':\r\n",
        "        count_incorrect_positive+=1\r\n",
        "    if y_actual[i]!=y_predict[i] and y_actual[i]=='negative':\r\n",
        "        count_incorrect_negative+=1\r\n",
        "\r\n",
        "print(count_correct_positive)\r\n",
        "print(count_correct_negative)\r\n",
        "\r\n",
        "print(count_incorrect_positive)\r\n",
        "print(count_incorrect_negative)\r\n"
      ],
      "execution_count": 4,
      "outputs": [
        {
          "output_type": "stream",
          "text": [
            "3\n",
            "7\n",
            "2\n",
            "1\n"
          ],
          "name": "stdout"
        }
      ]
    },
    {
      "cell_type": "code",
      "metadata": {
        "colab": {
          "base_uri": "https://localhost:8080/"
        },
        "id": "10r2U4_jW4xi",
        "outputId": "0737824f-8579-4074-a4c2-5de717a2be00"
      },
      "source": [
        "# covid test results\r\n",
        "\r\n",
        "y_actual=['positive','positive','positive','negative',\r\n",
        "          'positive','positive','negative','negative',\r\n",
        "          'negative','negative','negative','negative']\r\n",
        "\r\n",
        "y_predict=['positive','negative','positive','negative',\r\n",
        "           'negative','positive','negative','negative',\r\n",
        "           'negative','negative','positive','negative']\r\n",
        "\r\n",
        "true_positive=0     # positive being identified as positive\r\n",
        "true_negative=0     # negative being identified as negative\r\n",
        "false_positive=0    # negative being identified as positive\r\n",
        "false_negative=0    # positive being identified as negative\r\n",
        "N=len(y_actual)\r\n",
        "for i in np.arange(N):\r\n",
        "    if y_actual[i]==y_predict[i] and y_actual[i]=='positive':\r\n",
        "        true_positive+=1\r\n",
        "    if y_actual[i]==y_predict[i] and y_actual[i]=='negative':\r\n",
        "        true_negative+=1\r\n",
        "    if y_actual[i]!=y_predict[i] and y_actual[i]=='positive':\r\n",
        "        false_negative +=1\r\n",
        "    if y_actual[i]!=y_predict[i] and y_actual[i]=='negative':\r\n",
        "        false_positive+=1\r\n",
        "\r\n",
        "#conf_matrix=np.zeros(2,2)\r\n",
        "conf_matrix=np.zeros((2,2))\r\n",
        "conf_matrix[0,0]=true_positive    # also known as hit rate, correct hit \r\n",
        "conf_matrix[0,1]=false_negative   # also known as Type II error, or miss or Over-estimation \r\n",
        "conf_matrix[1,0]=false_positive   # also known as Type I error, or known as False Alarm or Under-estimation\r\n",
        "conf_matrix[1,1]=true_negative    # also known as correct rejection\r\n",
        "\r\n",
        "print('Our Confusion Matrix is = \\n',conf_matrix)\r\n",
        "\r\n",
        "print('\\nDescription of our Confusion Matrix is = \\n')\r\n",
        "print('                  PREDICTED POSITIVE      PREDICTED NEGATIVE')\r\n",
        "print('ACTUAL-POSITIVE:   [True Positive,        False Negative]')\r\n",
        "print('ACTUAL- NEGATIVE:  [False Positive,       True Negative]' )\r\n"
      ],
      "execution_count": 5,
      "outputs": [
        {
          "output_type": "stream",
          "text": [
            "Our Confusion Matrix is = \n",
            " [[3. 2.]\n",
            " [1. 6.]]\n",
            "\n",
            "Description of our Confusion Matrix is = \n",
            "\n",
            "                  PREDICTED POSITIVE      PREDICTED NEGATIVE\n",
            "ACTUAL-POSITIVE:   [True Positive,        False Negative]\n",
            "ACTUAL- NEGATIVE:  [False Positive,       True Negative]\n"
          ],
          "name": "stdout"
        }
      ]
    },
    {
      "cell_type": "code",
      "metadata": {
        "colab": {
          "base_uri": "https://localhost:8080/"
        },
        "id": "NFc2ETpTW6ep",
        "outputId": "77a04b25-7957-4a6d-8f6c-2741b335c674"
      },
      "source": [
        "# Various metrics from confusion matrix\r\n",
        "# All diagonal elements are correct predictions\r\n",
        "print(conf_matrix)\r\n",
        "\r\n",
        "Accuracy=(conf_matrix[0,0] + conf_matrix[1,1])/(conf_matrix[0,0] + conf_matrix[0,1]+conf_matrix[1,0] + conf_matrix[1,1])\r\n",
        "print('\\n Accuracy = ', Accuracy)\r\n",
        "\r\n",
        "# True Positive Rate (TPR), OR recall, OR hit rate OR sensitivity\r\n",
        "#  TPR = (True Positive )/(Total Actual Positive)    \r\n",
        "# TPR= (True Positive)/(True Positive + False Negative )\r\n",
        "\r\n",
        "TPR= conf_matrix[0,0]/(conf_matrix[0,0] + conf_matrix[0,1])\r\n",
        "print('\\n TPR = Recall = hit rate = Sensistivity =  ', TPR)\r\n",
        "\r\n",
        "# True negative rate (TNR) OR Specificity OR Selectivity \r\n",
        "# TNR = (True Negative)/(Total Actual Negative)\r\n",
        "# TNR = (True Negative)/(True Negative + False Positive)\r\n",
        "TNR =conf_matrix[1,1]/(conf_matrix[1,0] + conf_matrix[1,1])\r\n",
        "print('\\n TNR = Specificity = Selectivity = ', TNR)\r\n",
        "\r\n",
        "# precision OR Positive Predictive Value = PPV\r\n",
        "# PPV = True Positive / (True Positive + False Positive)\r\n",
        "PPV = conf_matrix[0,0]/(conf_matrix[0,0] + conf_matrix[1,0])\r\n",
        "print('\\n PPV = Precision = ', PPV)\r\n",
        "\r\n",
        "# Balanced Accuracy = (TPR + TNR)/2\r\n",
        "balanced_accuracy = (TPR+TNR)/2\r\n",
        "print('\\n Balanced Accuracy = ', balanced_accuracy)\r\n",
        "\r\n",
        "# F1 score\r\n",
        "# F1 = (2*True_Positive)/ (2*True_Positive + False Positive + False Negative )\r\n",
        "\r\n",
        "F1= (2*conf_matrix[0,0])/ (2*conf_matrix[0,0] + conf_matrix[1,0] + conf_matrix[0,1])\r\n",
        "print('\\n F1 score = ', F1)\r\n"
      ],
      "execution_count": 6,
      "outputs": [
        {
          "output_type": "stream",
          "text": [
            "[[3. 2.]\n",
            " [1. 6.]]\n",
            "\n",
            " Accuracy =  0.75\n",
            "\n",
            " TPR = Recall = hit rate = Sensistivity =   0.6\n",
            "\n",
            " TNR = Specificity = Selectivity =  0.8571428571428571\n",
            "\n",
            " PPV = Precision =  0.75\n",
            "\n",
            " Balanced Accuracy =  0.7285714285714285\n",
            "\n",
            " F1 score =  0.6666666666666666\n"
          ],
          "name": "stdout"
        }
      ]
    },
    {
      "cell_type": "code",
      "metadata": {
        "colab": {
          "base_uri": "https://localhost:8080/"
        },
        "id": "sdxVMnJUXFRc",
        "outputId": "9e8906de-80b6-429d-a15f-c04a48910da2"
      },
      "source": [
        "# Example II\r\n",
        "# To compute all parameters, given the Confusion Matrix, Biased Dataset\r\n",
        "\r\n",
        "#conf_matrix=np.zeros(2,2)\r\n",
        "conf_matrix=np.zeros((2,2))\r\n",
        "conf_matrix[0,0] = 3\r\n",
        "conf_matrix[0,1] = 4\r\n",
        "conf_matrix[1,0] = 2\r\n",
        "conf_matrix[1,1] = 81\r\n",
        "\r\n",
        "print('Our Confusion Matrix is = \\n',conf_matrix)\r\n",
        "\r\n",
        "# Various metrics from confusion matrix\r\n",
        "\r\n",
        "Accuracy=(conf_matrix[0,0] + conf_matrix[1,1])/(conf_matrix[0,0] + conf_matrix[0,1]+conf_matrix[1,0] + conf_matrix[1,1])\r\n",
        "print('\\n Accuracy = ', Accuracy)\r\n",
        "\r\n",
        "# True Positive Rate (TPR), OR recall, OR hit rate OR sensitivity\r\n",
        "# TPR= (True Positive)/(True Positive + False Negative )\r\n",
        "\r\n",
        "TPR= conf_matrix[0,0]/(conf_matrix[0,0] + conf_matrix[0,1])\r\n",
        "print('\\n TPR = Recall = hit rate = Sensistivity =  ', TPR)\r\n",
        "\r\n",
        "# True negative rate (TNR) OR Specificity OR Selectivity \r\n",
        "# TNR = (True Negative)/(Total Actual Negative)\r\n",
        "# TNR = (True Negative)/(True Negative + False Positive)\r\n",
        "TNR =conf_matrix[1,1]/(conf_matrix[1,0] + conf_matrix[1,1])\r\n",
        "print('\\n TNR = Specificity = Selectivity = ', TNR)\r\n",
        "\r\n",
        "# precision OR Positive Predictive Value = PPV\r\n",
        "# PPV = True Positive / (True Positive + False Positive)\r\n",
        "PPV = conf_matrix[0,0]/(conf_matrix[0,0] + conf_matrix[1,0])\r\n",
        "print('\\n PPV = Precision = ', PPV)\r\n",
        "\r\n",
        "# Balanced Accuracy = (TPR + TNR)/2\r\n",
        "balanced_accuracy = (TPR+TNR)/2\r\n",
        "print('\\n Balanced Accuracy = ', balanced_accuracy)\r\n",
        "\r\n",
        "# F1 score\r\n",
        "# F1 = (2*True_Positive)/ (2*True_Positive + False Positive + False Negative )\r\n",
        "\r\n",
        "F1= (2*conf_matrix[0,0])/ (2*conf_matrix[0,0] + conf_matrix[1,0] + conf_matrix[0,1])\r\n",
        "print('\\n F1 score = ', F1)\r\n"
      ],
      "execution_count": 7,
      "outputs": [
        {
          "output_type": "stream",
          "text": [
            "Our Confusion Matrix is = \n",
            " [[ 3.  4.]\n",
            " [ 2. 81.]]\n",
            "\n",
            " Accuracy =  0.9333333333333333\n",
            "\n",
            " TPR = Recall = hit rate = Sensistivity =   0.42857142857142855\n",
            "\n",
            " TNR = Specificity = Selectivity =  0.9759036144578314\n",
            "\n",
            " PPV = Precision =  0.6\n",
            "\n",
            " Balanced Accuracy =  0.7022375215146299\n",
            "\n",
            " F1 score =  0.5\n"
          ],
          "name": "stdout"
        }
      ]
    },
    {
      "cell_type": "code",
      "metadata": {
        "colab": {
          "base_uri": "https://localhost:8080/"
        },
        "id": "CYn7-vOyXK4N",
        "outputId": "48b5d895-e89f-453c-91a5-807d1a8be78c"
      },
      "source": [
        "# Example III\r\n",
        "# To compute all parameters, given the Confusion Matrix , Balanced Data set\r\n",
        "\r\n",
        "#conf_matrix=np.zeros(2,2)\r\n",
        "conf_matrix=np.zeros((2,2))\r\n",
        "conf_matrix[0,0] = 27\r\n",
        "conf_matrix[0,1] = 8\r\n",
        "conf_matrix[1,0] = 5\r\n",
        "conf_matrix[1,1] = 50\r\n",
        "\r\n",
        "\r\n",
        "print('Our Confusion Matrix is = \\n',conf_matrix)\r\n",
        "\r\n",
        "# Various metrics from confusion matrix\r\n",
        "\r\n",
        "Accuracy=(conf_matrix[0,0] + conf_matrix[1,1])/(conf_matrix[0,0] + conf_matrix[0,1]+conf_matrix[1,0] + conf_matrix[1,1])\r\n",
        "print('\\n Accuracy = ', Accuracy)\r\n",
        "\r\n",
        "# True Positive Rate (TPR), OR recall, OR hit rate OR sensitivity\r\n",
        "# TPR= (True Positive)/(True Positive + False Negative )\r\n",
        "\r\n",
        "TPR= conf_matrix[0,0]/(conf_matrix[0,0] + conf_matrix[0,1])\r\n",
        "print('\\n TPR = Recall = hit rate = Sensistivity =  ', TPR)\r\n",
        "\r\n",
        "# True negative rate (TNR) OR Specificity OR Selectivity \r\n",
        "# TNR = (True Negative)/(Total Actual Negative)\r\n",
        "# TNR = (True Negative)/(True Negative + False Positive)\r\n",
        "TNR =conf_matrix[1,1]/(conf_matrix[1,0] + conf_matrix[1,1])\r\n",
        "print('\\n TNR = Specificity = Selectivity = ', TNR)\r\n",
        "\r\n",
        "# precision OR Positive Predictive Value = PPV\r\n",
        "# PPV = True Positive / (True Positive + False Positive)\r\n",
        "PPV = conf_matrix[0,0]/(conf_matrix[0,0] + conf_matrix[1,0])\r\n",
        "print('\\n PPV = Precision = ', PPV)\r\n",
        "\r\n",
        "# Balanced Accuracy = (TPR + TNR)/2\r\n",
        "balanced_accuracy = (TPR+TNR)/2\r\n",
        "print('\\n Balanced Accuracy = ', balanced_accuracy)\r\n",
        "\r\n",
        "# F1 score\r\n",
        "# F1 = (2*True_Positive)/ (2*True_Positive + False Positive + False Negative )\r\n",
        "\r\n",
        "F1= (2*conf_matrix[0,0])/ (2*conf_matrix[0,0] + conf_matrix[1,0] + conf_matrix[0,1])\r\n",
        "print('\\n F1 score = ', F1)\r\n"
      ],
      "execution_count": 8,
      "outputs": [
        {
          "output_type": "stream",
          "text": [
            "Our Confusion Matrix is = \n",
            " [[27.  8.]\n",
            " [ 5. 50.]]\n",
            "\n",
            " Accuracy =  0.8555555555555555\n",
            "\n",
            " TPR = Recall = hit rate = Sensistivity =   0.7714285714285715\n",
            "\n",
            " TNR = Specificity = Selectivity =  0.9090909090909091\n",
            "\n",
            " PPV = Precision =  0.84375\n",
            "\n",
            " Balanced Accuracy =  0.8402597402597403\n",
            "\n",
            " F1 score =  0.8059701492537313\n"
          ],
          "name": "stdout"
        }
      ]
    },
    {
      "cell_type": "code",
      "metadata": {
        "colab": {
          "base_uri": "https://localhost:8080/"
        },
        "id": "itiJ5V6vXQd_",
        "outputId": "99b71cdd-03e5-4d55-d397-6684144111a5"
      },
      "source": [
        "from sklearn.metrics import confusion_matrix\r\n",
        "\r\n",
        "y_actual  = np.array([ 1,1,1,1,1,1,1,1,1,1,1,1,1,1,1,0,0,0,0,0,0,0])\r\n",
        "y_predict = np.array([ 1,1,1,1,1,1,1,1,1,1,1,1,0,0,0,0,0,0,0,0,1,1])\r\n",
        "\r\n",
        "CNF=confusion_matrix(y_actual,y_predict)\r\n",
        "print(CNF)\r\n"
      ],
      "execution_count": 9,
      "outputs": [
        {
          "output_type": "stream",
          "text": [
            "[[ 5  2]\n",
            " [ 3 12]]\n"
          ],
          "name": "stdout"
        }
      ]
    },
    {
      "cell_type": "code",
      "metadata": {
        "colab": {
          "base_uri": "https://localhost:8080/"
        },
        "id": "96ve3X5wXSKt",
        "outputId": "9b59ad09-586a-42e2-a3ab-6ae095fc5903"
      },
      "source": [
        "from sklearn.metrics import accuracy_score\r\n",
        "\r\n",
        "y_actual  = np.array([ 1,1,1,1,1,1,1,1,1,1,1,1,1,1,1,0,0,0,0,0,0,0])\r\n",
        "y_predict = np.array([ 1,1,1,1,1,1,1,1,1,1,1,1,0,0,0,0,0,0,0,0,1,1])\r\n",
        "\r\n",
        "AC=accuracy_score(y_actual,y_predict)\r\n",
        "print('Accuracy Score = ', AC)"
      ],
      "execution_count": 10,
      "outputs": [
        {
          "output_type": "stream",
          "text": [
            "Accuracy Score =  0.7727272727272727\n"
          ],
          "name": "stdout"
        }
      ]
    },
    {
      "cell_type": "code",
      "metadata": {
        "colab": {
          "base_uri": "https://localhost:8080/"
        },
        "id": "TDA2Zf_GXVni",
        "outputId": "89bc25b6-f8c0-461c-ac17-dcf58d6dbd7b"
      },
      "source": [
        "from sklearn.metrics import f1_score\r\n",
        "\r\n",
        "y_actual  = np.array([ 1,1,1,1,1,1,1,1,1,1,1,1,1,1,1,0,0,0,0,0,0,0])\r\n",
        "y_predict = np.array([ 1,1,1,1,1,1,1,1,1,1,1,1,0,0,0,0,0,0,0,0,1,1])\r\n",
        "\r\n",
        "f1_score(y_actual,y_predict)"
      ],
      "execution_count": 11,
      "outputs": [
        {
          "output_type": "execute_result",
          "data": {
            "text/plain": [
              "0.8275862068965518"
            ]
          },
          "metadata": {
            "tags": []
          },
          "execution_count": 11
        }
      ]
    }
  ]
}