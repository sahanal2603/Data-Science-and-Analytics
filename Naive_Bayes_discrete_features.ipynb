{
  "nbformat": 4,
  "nbformat_minor": 0,
  "metadata": {
    "colab": {
      "name": "Naive Bayes discrete features.ipynb",
      "provenance": [],
      "collapsed_sections": [],
      "authorship_tag": "ABX9TyN35/PB2TvRFsZDXnd16ztm",
      "include_colab_link": true
    },
    "kernelspec": {
      "name": "python3",
      "display_name": "Python 3"
    },
    "language_info": {
      "name": "python"
    }
  },
  "cells": [
    {
      "cell_type": "markdown",
      "metadata": {
        "id": "view-in-github",
        "colab_type": "text"
      },
      "source": [
        "<a href=\"https://colab.research.google.com/github/sahanal2603/Data-Science-and-Analytics/blob/master/Naive_Bayes_discrete_features.ipynb\" target=\"_parent\"><img src=\"https://colab.research.google.com/assets/colab-badge.svg\" alt=\"Open In Colab\"/></a>"
      ]
    },
    {
      "cell_type": "code",
      "metadata": {
        "id": "ipnkc8tvnaNK"
      },
      "source": [
        "# import libraries\n",
        "#import pandas as pd\n",
        "import numpy as np\n",
        "from sklearn.naive_bayes import CategoricalNB\n",
        "from sklearn.naive_bayes import GaussianNB"
      ],
      "execution_count": 1,
      "outputs": []
    },
    {
      "cell_type": "code",
      "metadata": {
        "id": "32U-xsAPndCt"
      },
      "source": [
        "# generate data\n",
        "lottery =      [1, 0, 1, 0, 1, 1]\n",
        "assignment =   [0, 1, 1, 1, 0, 1]\n",
        "movie =        [0, 0, 0, 1, 1, 1]\n",
        "subscription = [1, 0, 0, 1, 0, 0]\n",
        "is_spam =      [1, 1, 0, 0, 1, 1]\n",
        "\n",
        "x_train = np.array([lottery, assignment, movie, subscription])\n",
        "y_train = np.array(is_spam)"
      ],
      "execution_count": 2,
      "outputs": []
    },
    {
      "cell_type": "code",
      "metadata": {
        "colab": {
          "base_uri": "https://localhost:8080/"
        },
        "id": "xufzNn6Nngn6",
        "outputId": "2a6d61b1-70c5-4208-dd57-9fa719624b7a"
      },
      "source": [
        "# adjust shape\n",
        "x_train.shape, x_train.T"
      ],
      "execution_count": 3,
      "outputs": [
        {
          "output_type": "execute_result",
          "data": {
            "text/plain": [
              "((4, 6), array([[1, 0, 0, 1],\n",
              "        [0, 1, 0, 0],\n",
              "        [1, 1, 0, 0],\n",
              "        [0, 1, 1, 1],\n",
              "        [1, 0, 1, 0],\n",
              "        [1, 1, 1, 0]]))"
            ]
          },
          "metadata": {
            "tags": []
          },
          "execution_count": 3
        }
      ]
    },
    {
      "cell_type": "code",
      "metadata": {
        "colab": {
          "base_uri": "https://localhost:8080/"
        },
        "id": "jIgoqFLTniFN",
        "outputId": "e004e8a6-b2a0-4aae-f37e-b4eea4944348"
      },
      "source": [
        "# learn the model\n",
        "model = GaussianNB()\n",
        "model.fit(x_train.T, y_train)"
      ],
      "execution_count": 4,
      "outputs": [
        {
          "output_type": "execute_result",
          "data": {
            "text/plain": [
              "GaussianNB(priors=None, var_smoothing=1e-09)"
            ]
          },
          "metadata": {
            "tags": []
          },
          "execution_count": 4
        }
      ]
    },
    {
      "cell_type": "code",
      "metadata": {
        "colab": {
          "base_uri": "https://localhost:8080/"
        },
        "id": "oetZNyhGnlGq",
        "outputId": "8ba8fd75-1209-4703-d8df-6d3c66641090"
      },
      "source": [
        "# test data\n",
        "x_test = np.array([[1, 0, 0, 0]])\n",
        "x_test.shape"
      ],
      "execution_count": 5,
      "outputs": [
        {
          "output_type": "execute_result",
          "data": {
            "text/plain": [
              "(1, 4)"
            ]
          },
          "metadata": {
            "tags": []
          },
          "execution_count": 5
        }
      ]
    },
    {
      "cell_type": "code",
      "metadata": {
        "colab": {
          "base_uri": "https://localhost:8080/"
        },
        "id": "-Ii-v4dXnnif",
        "outputId": "c0da7741-7edd-4be7-8892-ff037000fab4"
      },
      "source": [
        "# predict\n",
        "model.predict(x_test)\n"
      ],
      "execution_count": 6,
      "outputs": [
        {
          "output_type": "execute_result",
          "data": {
            "text/plain": [
              "array([1])"
            ]
          },
          "metadata": {
            "tags": []
          },
          "execution_count": 6
        }
      ]
    },
    {
      "cell_type": "code",
      "metadata": {
        "colab": {
          "base_uri": "https://localhost:8080/"
        },
        "id": "pJ50tKBxnqXW",
        "outputId": "c83a989f-a94c-40c5-d9bd-58ac22bda3f3"
      },
      "source": [
        "# probability estimate of the test set\n",
        "a = model.predict_proba(x_test)\n",
        "print('Probability of Not Spam =',round(a[0,0]),'Probability of Yes Spam =' ,round(a[0,1]) )\n",
        "\n",
        "if a[0,0] > a[0,1]:\n",
        "    print('The E-mail NOT Spam')\n",
        "else:\n",
        "    print('The E-mail IS Spam')"
      ],
      "execution_count": 7,
      "outputs": [
        {
          "output_type": "stream",
          "text": [
            "Probability of Not Spam = 0 Probability of Yes Spam = 1\n",
            "The E-mail IS Spam\n"
          ],
          "name": "stdout"
        }
      ]
    }
  ]
}