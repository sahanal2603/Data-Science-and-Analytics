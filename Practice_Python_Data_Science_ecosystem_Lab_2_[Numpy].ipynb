{
  "nbformat": 4,
  "nbformat_minor": 0,
  "metadata": {
    "colab": {
      "name": "Practice_Python_Data_Science_ecosystem_Lab_2_[Numpy].ipynb",
      "provenance": [],
      "collapsed_sections": [
        "ZhxsVZrTYapa",
        "HdV5uqjZ0ZEm",
        "SwiYqcNH4t80",
        "2Rf8Z5FB0A0a"
      ],
      "include_colab_link": true
    },
    "kernelspec": {
      "name": "python3",
      "display_name": "Python 3"
    }
  },
  "cells": [
    {
      "cell_type": "markdown",
      "metadata": {
        "id": "view-in-github",
        "colab_type": "text"
      },
      "source": [
        "<a href=\"https://colab.research.google.com/github/sahanal2603/Data-Science-and-Analytics/blob/master/Practice_Python_Data_Science_ecosystem_Lab_2_%5BNumpy%5D.ipynb\" target=\"_parent\"><img src=\"https://colab.research.google.com/assets/colab-badge.svg\" alt=\"Open In Colab\"/></a>"
      ]
    },
    {
      "cell_type": "markdown",
      "metadata": {
        "id": "-oYy-4yRUUkQ"
      },
      "source": [
        "# This content is taken directly from the Tutorial session of the TEQIP III sponsored Faculty Development program, conducted by IIT Ghandinagar, during 11 to 23 January, 2021"
      ]
    },
    {
      "cell_type": "markdown",
      "metadata": {
        "id": "OgpqpV5GZG8D"
      },
      "source": [
        "# **Importing NumPy**\n",
        "We'll start with the standard NumPy import, under the alias *'np'*."
      ]
    },
    {
      "cell_type": "code",
      "metadata": {
        "id": "e6agpbWiY352"
      },
      "source": [
        "import numpy as np"
      ],
      "execution_count": null,
      "outputs": []
    },
    {
      "cell_type": "markdown",
      "metadata": {
        "id": "wZTtt70hbG8u"
      },
      "source": [
        "# **Creating Arrays from Python Lists**\n",
        "Use np.array to create arrays from Python lists."
      ]
    },
    {
      "cell_type": "code",
      "metadata": {
        "colab": {
          "base_uri": "https://localhost:8080/"
        },
        "id": "GTaHw_WGa7ei",
        "outputId": "d96312f8-932e-495c-8154-7f4584ff9f32"
      },
      "source": [
        "# integer array:\n",
        "np.array([1, 4, 2, 5, 3])"
      ],
      "execution_count": null,
      "outputs": [
        {
          "output_type": "execute_result",
          "data": {
            "text/plain": [
              "array([1, 4, 2, 5, 3])"
            ]
          },
          "metadata": {
            "tags": []
          },
          "execution_count": 2
        }
      ]
    },
    {
      "cell_type": "markdown",
      "metadata": {
        "id": "OCwQmxsObs0m"
      },
      "source": [
        "Unlike Python lists, NumPy is constrained to arrays that all contain the same type. If types do not match, NumPy will upcast if possible."
      ]
    },
    {
      "cell_type": "code",
      "metadata": {
        "colab": {
          "base_uri": "https://localhost:8080/"
        },
        "id": "LogYzwKrbhmX",
        "outputId": "6262aa23-40f0-4135-f79c-86c47d7cbbb7"
      },
      "source": [
        "#Here, integers are up-cast to floating point:\n",
        "np.array([3.14, 4, 2, 3])"
      ],
      "execution_count": null,
      "outputs": [
        {
          "output_type": "execute_result",
          "data": {
            "text/plain": [
              "array([3.14, 4.  , 2.  , 3.  ])"
            ]
          },
          "metadata": {
            "tags": []
          },
          "execution_count": 3
        }
      ]
    },
    {
      "cell_type": "code",
      "metadata": {
        "colab": {
          "base_uri": "https://localhost:8080/"
        },
        "id": "trAhonXKb6Pq",
        "outputId": "68ea5c4a-7af6-4f70-b35d-b61d5ce0a2e6"
      },
      "source": [
        "#Use the 'dtype' keyword to explicitly set data type of the resulting array:\n",
        "np.array([1, 2, 3, 4], dtype='float32')"
      ],
      "execution_count": null,
      "outputs": [
        {
          "output_type": "execute_result",
          "data": {
            "text/plain": [
              "array([1., 2., 3., 4.], dtype=float32)"
            ]
          },
          "metadata": {
            "tags": []
          },
          "execution_count": 4
        }
      ]
    },
    {
      "cell_type": "code",
      "metadata": {
        "id": "WcZGIHqxXuJz"
      },
      "source": [
        "x=np.array([range(-3,8,2)])\n"
      ],
      "execution_count": null,
      "outputs": []
    },
    {
      "cell_type": "code",
      "metadata": {
        "colab": {
          "base_uri": "https://localhost:8080/"
        },
        "id": "ZDmZdH90cT4e",
        "outputId": "44419451-a37e-47c0-9431-860eb4320eb3"
      },
      "source": [
        "#Initializing a multidimensional array using a list of lists:\n",
        "np.array([range(i, i + 9,2) for i in [1,2,3,4]])"
      ],
      "execution_count": null,
      "outputs": [
        {
          "output_type": "execute_result",
          "data": {
            "text/plain": [
              "array([[ 1,  3,  5,  7,  9],\n",
              "       [ 2,  4,  6,  8, 10],\n",
              "       [ 3,  5,  7,  9, 11],\n",
              "       [ 4,  6,  8, 10, 12]])"
            ]
          },
          "metadata": {
            "tags": []
          },
          "execution_count": 12
        }
      ]
    },
    {
      "cell_type": "markdown",
      "metadata": {
        "id": "hoRhnf-Qcpw2"
      },
      "source": [
        "# **Creating Arrays from Scratch**"
      ]
    },
    {
      "cell_type": "code",
      "metadata": {
        "colab": {
          "base_uri": "https://localhost:8080/"
        },
        "id": "MDJHETvNcfTe",
        "outputId": "d38a430c-1806-4ddb-d4c4-9accbbe285c9"
      },
      "source": [
        "# Create a length-5 integer array filled with zeros\n",
        "np.zeros(5, dtype=int)"
      ],
      "execution_count": null,
      "outputs": [
        {
          "output_type": "execute_result",
          "data": {
            "text/plain": [
              "array([0, 0, 0, 0, 0])"
            ]
          },
          "metadata": {
            "tags": []
          },
          "execution_count": 7
        }
      ]
    },
    {
      "cell_type": "code",
      "metadata": {
        "colab": {
          "base_uri": "https://localhost:8080/"
        },
        "id": "EmxpolthczzT",
        "outputId": "9d2e2afd-f0a1-40d7-c4f4-8a62d4fae37f"
      },
      "source": [
        "# Create a 3x5 floating-point array filled with ones\n",
        "np.ones((3, 5), dtype=float)"
      ],
      "execution_count": null,
      "outputs": [
        {
          "output_type": "execute_result",
          "data": {
            "text/plain": [
              "array([[1., 1., 1., 1., 1.],\n",
              "       [1., 1., 1., 1., 1.],\n",
              "       [1., 1., 1., 1., 1.]])"
            ]
          },
          "metadata": {
            "tags": []
          },
          "execution_count": 8
        }
      ]
    },
    {
      "cell_type": "code",
      "metadata": {
        "colab": {
          "base_uri": "https://localhost:8080/"
        },
        "id": "O0ePSi3LbEXr",
        "outputId": "81013047-8445-4d5a-d90e-8ddd0865a0f5"
      },
      "source": [
        "np.full((4,2),4.5)"
      ],
      "execution_count": null,
      "outputs": [
        {
          "output_type": "execute_result",
          "data": {
            "text/plain": [
              "array([[4.5, 4.5],\n",
              "       [4.5, 4.5],\n",
              "       [4.5, 4.5],\n",
              "       [4.5, 4.5]])"
            ]
          },
          "metadata": {
            "tags": []
          },
          "execution_count": 9
        }
      ]
    },
    {
      "cell_type": "code",
      "metadata": {
        "colab": {
          "base_uri": "https://localhost:8080/"
        },
        "id": "0l-mCGg8c3UQ",
        "outputId": "a72afbdf-215c-4ecb-cf16-b388e0f5332a"
      },
      "source": [
        "# Create a 3x5 array filled with 3.14\n",
        "np.full((3, 5), np.pi)"
      ],
      "execution_count": null,
      "outputs": [
        {
          "output_type": "execute_result",
          "data": {
            "text/plain": [
              "array([[3.14159265, 3.14159265, 3.14159265, 3.14159265, 3.14159265],\n",
              "       [3.14159265, 3.14159265, 3.14159265, 3.14159265, 3.14159265],\n",
              "       [3.14159265, 3.14159265, 3.14159265, 3.14159265, 3.14159265]])"
            ]
          },
          "metadata": {
            "tags": []
          },
          "execution_count": 10
        }
      ]
    },
    {
      "cell_type": "code",
      "metadata": {
        "colab": {
          "base_uri": "https://localhost:8080/"
        },
        "id": "UFvPFRvNc5jW",
        "outputId": "2edefcda-6f58-49c6-c9fa-0c7dfe64123b"
      },
      "source": [
        "# Create an array filled with a linear sequence\n",
        "# Starting at 0, ending at 20, stepping by 2\n",
        "# (this is similar to the built-in range() function)\n",
        "np.arange(0, 20, 2)"
      ],
      "execution_count": null,
      "outputs": [
        {
          "output_type": "execute_result",
          "data": {
            "text/plain": [
              "array([ 0,  2,  4,  6,  8, 10, 12, 14, 16, 18])"
            ]
          },
          "metadata": {
            "tags": []
          },
          "execution_count": 13
        }
      ]
    },
    {
      "cell_type": "code",
      "metadata": {
        "id": "3N4D6vmxzFvV"
      },
      "source": [
        "np"
      ],
      "execution_count": null,
      "outputs": []
    },
    {
      "cell_type": "code",
      "metadata": {
        "colab": {
          "base_uri": "https://localhost:8080/"
        },
        "id": "FtwVjRbdzBFv",
        "outputId": "8682c810-4b8a-43fe-a63e-9845d0f5cfc5"
      },
      "source": [
        "np.array([range(0,20,2)]).T"
      ],
      "execution_count": null,
      "outputs": [
        {
          "output_type": "execute_result",
          "data": {
            "text/plain": [
              "array([[ 0],\n",
              "       [ 2],\n",
              "       [ 4],\n",
              "       [ 6],\n",
              "       [ 8],\n",
              "       [10],\n",
              "       [12],\n",
              "       [14],\n",
              "       [16],\n",
              "       [18]])"
            ]
          },
          "metadata": {
            "tags": []
          },
          "execution_count": 15
        }
      ]
    },
    {
      "cell_type": "code",
      "metadata": {
        "colab": {
          "base_uri": "https://localhost:8080/"
        },
        "id": "Xkp2Z8C0c81N",
        "outputId": "deca383b-02fd-4d0d-f68f-4ffe60defb9f"
      },
      "source": [
        "# Create an array of five values evenly spaced between 0 and 1\n",
        "np.linspace(0, 2, 11)"
      ],
      "execution_count": null,
      "outputs": [
        {
          "output_type": "execute_result",
          "data": {
            "text/plain": [
              "array([0. , 0.2, 0.4, 0.6, 0.8, 1. , 1.2, 1.4, 1.6, 1.8, 2. ])"
            ]
          },
          "metadata": {
            "tags": []
          },
          "execution_count": 17
        }
      ]
    },
    {
      "cell_type": "code",
      "metadata": {
        "colab": {
          "base_uri": "https://localhost:8080/"
        },
        "id": "dqTaa_CqbiFV",
        "outputId": "55ab90a5-7e42-4079-9547-be2712dfd76a"
      },
      "source": [
        "np.random.random((2,4))\n"
      ],
      "execution_count": null,
      "outputs": [
        {
          "output_type": "execute_result",
          "data": {
            "text/plain": [
              "array([[0.18204877, 0.65626485, 0.43284298, 0.38863336],\n",
              "       [0.45963895, 0.16078952, 0.07902717, 0.44467576]])"
            ]
          },
          "metadata": {
            "tags": []
          },
          "execution_count": 18
        }
      ]
    },
    {
      "cell_type": "code",
      "metadata": {
        "colab": {
          "base_uri": "https://localhost:8080/"
        },
        "id": "zgpvLazJzuQF",
        "outputId": "5c55340f-8814-44df-b027-359ffe1fa5bf"
      },
      "source": [
        "np.random.normal((3,2))"
      ],
      "execution_count": null,
      "outputs": [
        {
          "output_type": "execute_result",
          "data": {
            "text/plain": [
              "array([3.28010507, 1.87982537])"
            ]
          },
          "metadata": {
            "tags": []
          },
          "execution_count": 21
        }
      ]
    },
    {
      "cell_type": "code",
      "metadata": {
        "colab": {
          "base_uri": "https://localhost:8080/"
        },
        "id": "xofaSB380Xrq",
        "outputId": "c0219367-6d3a-43ad-9b31-ccdc0f1a7154"
      },
      "source": [
        "np.random.randint(10,size=(3,3))"
      ],
      "execution_count": null,
      "outputs": [
        {
          "output_type": "execute_result",
          "data": {
            "text/plain": [
              "array([[2, 8, 1],\n",
              "       [3, 4, 9],\n",
              "       [4, 3, 6]])"
            ]
          },
          "metadata": {
            "tags": []
          },
          "execution_count": 22
        }
      ]
    },
    {
      "cell_type": "code",
      "metadata": {
        "colab": {
          "base_uri": "https://localhost:8080/"
        },
        "id": "A9ppTbh-dAJv",
        "outputId": "b8176ee6-52f4-4c76-f0eb-00f6112c1117"
      },
      "source": [
        "# Create a 3x3 array of uniformly distributed\n",
        "# random values between 0 and 1\n",
        "np.random.random((3, 3))"
      ],
      "execution_count": null,
      "outputs": [
        {
          "output_type": "execute_result",
          "data": {
            "text/plain": [
              "array([[0.77188451, 0.67557322, 0.93273262],\n",
              "       [0.79895096, 0.03389078, 0.27714569],\n",
              "       [0.65549134, 0.40056742, 0.0613307 ]])"
            ]
          },
          "metadata": {
            "tags": []
          },
          "execution_count": 19
        }
      ]
    },
    {
      "cell_type": "code",
      "metadata": {
        "colab": {
          "base_uri": "https://localhost:8080/"
        },
        "id": "vxFmi_0PdEuy",
        "outputId": "e67e1893-0833-49d9-e736-e095f57545d9"
      },
      "source": [
        "# Create a 3x3 identity matrix\n",
        "np.eye(5)"
      ],
      "execution_count": null,
      "outputs": [
        {
          "output_type": "execute_result",
          "data": {
            "text/plain": [
              "array([[1., 0., 0., 0., 0.],\n",
              "       [0., 1., 0., 0., 0.],\n",
              "       [0., 0., 1., 0., 0.],\n",
              "       [0., 0., 0., 1., 0.],\n",
              "       [0., 0., 0., 0., 1.]])"
            ]
          },
          "metadata": {
            "tags": []
          },
          "execution_count": 20
        }
      ]
    },
    {
      "cell_type": "markdown",
      "metadata": {
        "id": "3T-2XfR4dWr8"
      },
      "source": [
        "# **Basics of NumPy Arrays**"
      ]
    },
    {
      "cell_type": "markdown",
      "metadata": {
        "id": "vV2Afl2XdinY"
      },
      "source": [
        "## **1. NumPy Array Attributes**\n",
        "*Determining the size, shape, memory consumption, and data types of arrays*"
      ]
    },
    {
      "cell_type": "code",
      "metadata": {
        "id": "OzB-3JBadaW_"
      },
      "source": [
        "#Define three random arrays, a one-dimensional, two-dimensional, and three-dimensional array. \n",
        "#We'll use NumPy's random number generator.\n",
        "#Use 'seed' to ensure that the same random arrays are generated each time this code is run.\n",
        "\n",
        "np.random.seed(0)  # seed for reproducibility\n",
        "\n",
        "x1 = np.random.randint(10, size=6)  # One-dimensional array\n",
        "x2 = np.random.randint(10, size=(3, 4))  # Two-dimensional array\n",
        "x3 = np.random.randint(10, size=(3, 4, 5))  # Three-dimensional array"
      ],
      "execution_count": null,
      "outputs": []
    },
    {
      "cell_type": "code",
      "metadata": {
        "colab": {
          "base_uri": "https://localhost:8080/"
        },
        "id": "UQSUNLyweZBk",
        "outputId": "55b586e0-934c-4aab-bb33-3ca38cd7ba22"
      },
      "source": [
        "#Each array has attributes:\n",
        "# (1) ndim (the number of dimensions), \n",
        "# (2) shape (the size of each dimension), and \n",
        "# (3) size (the total size of the array)\n",
        "\n",
        "print(\"x3 ndim: \", x3.ndim)\n",
        "print(\"x3 shape:\", x3.shape)\n",
        "print(\"x3 size: \", x3.size)"
      ],
      "execution_count": null,
      "outputs": [
        {
          "output_type": "stream",
          "text": [
            "x3 ndim:  3\n",
            "x3 shape: (3, 4, 5)\n",
            "x3 size:  60\n"
          ],
          "name": "stdout"
        }
      ]
    },
    {
      "cell_type": "markdown",
      "metadata": {
        "id": "1NtD_zQTewXv"
      },
      "source": [
        "## **2. NumPy Array Indexing**\n",
        "*Getting and setting the value of individual array elements*"
      ]
    },
    {
      "cell_type": "code",
      "metadata": {
        "colab": {
          "base_uri": "https://localhost:8080/"
        },
        "id": "fqdgjcEdfpjA",
        "outputId": "93c9c6ad-2f1a-4525-917b-66842047f82e"
      },
      "source": [
        "#Print x1\n",
        "x3"
      ],
      "execution_count": null,
      "outputs": [
        {
          "output_type": "execute_result",
          "data": {
            "text/plain": [
              "array([[[8, 1, 5, 9, 8],\n",
              "        [9, 4, 3, 0, 3],\n",
              "        [5, 0, 2, 3, 8],\n",
              "        [1, 3, 3, 3, 7]],\n",
              "\n",
              "       [[0, 1, 9, 9, 0],\n",
              "        [4, 7, 3, 2, 7],\n",
              "        [2, 0, 0, 4, 5],\n",
              "        [5, 6, 8, 4, 1]],\n",
              "\n",
              "       [[4, 9, 8, 1, 1],\n",
              "        [7, 9, 9, 3, 6],\n",
              "        [7, 2, 0, 3, 5],\n",
              "        [9, 4, 4, 6, 4]]])"
            ]
          },
          "metadata": {
            "tags": []
          },
          "execution_count": 30
        }
      ]
    },
    {
      "cell_type": "code",
      "metadata": {
        "colab": {
          "base_uri": "https://localhost:8080/"
        },
        "id": "ZjgVsji-f1FA",
        "outputId": "5eacb293-f0d4-4288-ddc0-c0544a25edb7"
      },
      "source": [
        "#Access first element from x1 (1D Array)\n",
        "#This is similar to accessing elements from lists in Python\n",
        "x3[1,1,1]=108\n",
        "print(x3)"
      ],
      "execution_count": null,
      "outputs": [
        {
          "output_type": "stream",
          "text": [
            "[[[  8   1   5   9   8]\n",
            "  [  9   4   3   0   3]\n",
            "  [  5   0   2   3   8]\n",
            "  [  1   3   3   3   7]]\n",
            "\n",
            " [[  0   1   9   9   0]\n",
            "  [  4 108   3   2   7]\n",
            "  [  2   0   0   4   5]\n",
            "  [  5   6   8   4   1]]\n",
            "\n",
            " [[  4   9   8   1   1]\n",
            "  [  7   9   9   3   6]\n",
            "  [  7   2   0   3   5]\n",
            "  [  9   4   4   6 108]]]\n"
          ],
          "name": "stdout"
        }
      ]
    },
    {
      "cell_type": "code",
      "metadata": {
        "colab": {
          "base_uri": "https://localhost:8080/"
        },
        "id": "2g1b54oFf1Hg",
        "outputId": "6b5dd044-0328-4604-bdb1-73d4100df8f6"
      },
      "source": [
        "#Access second last element from x1\n",
        "x1[-2]"
      ],
      "execution_count": null,
      "outputs": [
        {
          "output_type": "execute_result",
          "data": {
            "text/plain": [
              "7"
            ]
          },
          "metadata": {
            "tags": []
          },
          "execution_count": 22
        }
      ]
    },
    {
      "cell_type": "code",
      "metadata": {
        "colab": {
          "base_uri": "https://localhost:8080/"
        },
        "id": "zIJuKm2agbvF",
        "outputId": "e77a829a-1e3c-4336-8a16-bdba3d22a40e"
      },
      "source": [
        "#Print x2\n",
        "x2"
      ],
      "execution_count": null,
      "outputs": [
        {
          "output_type": "execute_result",
          "data": {
            "text/plain": [
              "array([[3, 5, 2, 4],\n",
              "       [7, 6, 8, 8],\n",
              "       [1, 6, 7, 7]])"
            ]
          },
          "metadata": {
            "tags": []
          },
          "execution_count": 23
        }
      ]
    },
    {
      "cell_type": "code",
      "metadata": {
        "colab": {
          "base_uri": "https://localhost:8080/"
        },
        "id": "YNmAF-Swf1Le",
        "outputId": "85e17580-4dd9-4964-abee-b5d8663474f9"
      },
      "source": [
        "#Access element at first row, fist column in x2 (2D Array)\n",
        "x2[0, 0]"
      ],
      "execution_count": null,
      "outputs": [
        {
          "output_type": "execute_result",
          "data": {
            "text/plain": [
              "3"
            ]
          },
          "metadata": {
            "tags": []
          },
          "execution_count": 24
        }
      ]
    },
    {
      "cell_type": "code",
      "metadata": {
        "colab": {
          "base_uri": "https://localhost:8080/"
        },
        "id": "lWN0b9Obf1Nz",
        "outputId": "b4382275-e7c6-480e-dd4a-143c9db23696"
      },
      "source": [
        "#Access element at third row, fourth column from reverse in x2 \n",
        "print(\"Old value:\", x2[2, -4])\n",
        "\n",
        "#Set value of element at third row, fourth column from reverse in x2 to 11\n",
        "x2[2, -4] = 11\n",
        "print(\"New value:\", x2[2, -4])"
      ],
      "execution_count": null,
      "outputs": [
        {
          "output_type": "stream",
          "text": [
            "Old value: 1\n",
            "New value: 11\n"
          ],
          "name": "stdout"
        }
      ]
    },
    {
      "cell_type": "markdown",
      "metadata": {
        "id": "b6i3L8XVfJMm"
      },
      "source": [
        "## **3. NumPy Array Slicing**\n",
        "*Getting and setting smaller subarrays within a larger array*"
      ]
    },
    {
      "cell_type": "markdown",
      "metadata": {
        "id": "1wHwsD-NYX-7"
      },
      "source": [
        "Just as we can use square brackets to access individual array elements, we can also use them to access subarrays with the *slice* notation, marked by the colon (``:``) character.\n",
        "The NumPy slicing syntax follows that of the standard Python list; to access a slice of an array ``x``, use this:\n",
        "``` python\n",
        "x[start:stop:step]\n",
        "```\n",
        "If any of these are unspecified, they default to the values ``start=0``, ``stop=``*``size of dimension``*, ``step=1``.\n",
        "We'll take a look at accessing sub-arrays in one dimension and in multiple dimensions."
      ]
    },
    {
      "cell_type": "markdown",
      "metadata": {
        "id": "CbTu1RHuhwyO"
      },
      "source": [
        "### **3.1 One-dimensional subarrays**"
      ]
    },
    {
      "cell_type": "code",
      "metadata": {
        "colab": {
          "base_uri": "https://localhost:8080/"
        },
        "id": "IRVdX25yFd9d",
        "outputId": "f9b057f0-246f-4e5f-e7c7-879ee83f5c78"
      },
      "source": [
        "np.random.seed(45)\n",
        "xi=np.random.randint(10,size=7)\n",
        "print(xi)\n",
        "xx=xi[::-1]\n",
        "print(xx)\n",
        "print(xi+xx)"
      ],
      "execution_count": null,
      "outputs": [
        {
          "output_type": "stream",
          "text": [
            "[3 0 5 3 4 9 8]\n",
            "[8 9 4 3 5 0 3]\n",
            "[11  9  9  6  9  9 11]\n"
          ],
          "name": "stdout"
        }
      ]
    },
    {
      "cell_type": "code",
      "metadata": {
        "colab": {
          "base_uri": "https://localhost:8080/"
        },
        "id": "y1rGYuNQhe39",
        "outputId": "c77f9133-7f4e-4b2f-8372-085a4bd5cfdd"
      },
      "source": [
        "x1"
      ],
      "execution_count": null,
      "outputs": [
        {
          "output_type": "execute_result",
          "data": {
            "text/plain": [
              "array([5, 0, 3, 3, 7, 9])"
            ]
          },
          "metadata": {
            "tags": []
          },
          "execution_count": 38
        }
      ]
    },
    {
      "cell_type": "code",
      "metadata": {
        "colab": {
          "base_uri": "https://localhost:8080/"
        },
        "id": "gVwweQ1The6S",
        "outputId": "9c1fe4d5-d046-4a14-fedb-c24738a873b0"
      },
      "source": [
        "print(x1[:3])  # first three elements\n",
        "print(x1[4:])  # elements after index 4\n",
        "print(x1[1:4])  # middle sub-array\n",
        "print(x1[::-1])  # all elements, reversed\n",
        "print(x1[4::-2])  # reversed every other from index 4"
      ],
      "execution_count": null,
      "outputs": [
        {
          "output_type": "stream",
          "text": [
            "[5 0 3]\n",
            "[7 9]\n",
            "[0 3 3]\n",
            "[9 7 3 3 0 5]\n",
            "[7 3 5]\n"
          ],
          "name": "stdout"
        }
      ]
    },
    {
      "cell_type": "markdown",
      "metadata": {
        "id": "DIHEK1q3jEl5"
      },
      "source": [
        "### **3.2 Multi-dimensional subarrays**"
      ]
    },
    {
      "cell_type": "code",
      "metadata": {
        "colab": {
          "base_uri": "https://localhost:8080/"
        },
        "id": "W9MNzpYche8Z",
        "outputId": "fa32fc11-595f-474a-ddb8-267c02ffa383"
      },
      "source": [
        "np.random.seed(45)\n",
        "x2=np.random.randint(10,size=(3,5))\n",
        "print(x2)"
      ],
      "execution_count": null,
      "outputs": [
        {
          "output_type": "stream",
          "text": [
            "[[3 0 5 3 4]\n",
            " [9 8 1 5 9]\n",
            " [6 8 7 8 5]]\n"
          ],
          "name": "stdout"
        }
      ]
    },
    {
      "cell_type": "code",
      "metadata": {
        "colab": {
          "base_uri": "https://localhost:8080/"
        },
        "id": "EfcDBj-phfCW",
        "outputId": "8842f780-3e2c-4f76-f95b-e6fd13c5e829"
      },
      "source": [
        "x2[:2, :3]  # two rows, three columns"
      ],
      "execution_count": null,
      "outputs": [
        {
          "output_type": "execute_result",
          "data": {
            "text/plain": [
              "array([[3, 0, 5],\n",
              "       [4, 9, 8]])"
            ]
          },
          "metadata": {
            "tags": []
          },
          "execution_count": 64
        }
      ]
    },
    {
      "cell_type": "code",
      "metadata": {
        "colab": {
          "base_uri": "https://localhost:8080/"
        },
        "id": "V6fWnjJxhfSm",
        "outputId": "e19f61ba-dfc2-44a3-e801-ff0b4c26a846"
      },
      "source": [
        "x2[:3, ::2]  # all rows, every other column"
      ],
      "execution_count": null,
      "outputs": [
        {
          "output_type": "execute_result",
          "data": {
            "text/plain": [
              "array([[3, 5, 4],\n",
              "       [9, 1, 9],\n",
              "       [6, 7, 5]])"
            ]
          },
          "metadata": {
            "tags": []
          },
          "execution_count": 68
        }
      ]
    },
    {
      "cell_type": "code",
      "metadata": {
        "colab": {
          "base_uri": "https://localhost:8080/"
        },
        "id": "SwzQYafFhfVt",
        "outputId": "1781bbfe-af6f-4204-81c7-eda063607879"
      },
      "source": [
        "print(x2[:, 0])  # first column of x2"
      ],
      "execution_count": null,
      "outputs": [
        {
          "output_type": "stream",
          "text": [
            "[3 9 6]\n"
          ],
          "name": "stdout"
        }
      ]
    },
    {
      "cell_type": "code",
      "metadata": {
        "colab": {
          "base_uri": "https://localhost:8080/"
        },
        "id": "Y9_cdnrAjdYc",
        "outputId": "4a2d042c-47d1-4ed7-ab38-ed95d836819e"
      },
      "source": [
        "print(x2[-1, :])  # last row of x2"
      ],
      "execution_count": null,
      "outputs": [
        {
          "output_type": "stream",
          "text": [
            "[6 8 7 8 5]\n"
          ],
          "name": "stdout"
        }
      ]
    },
    {
      "cell_type": "markdown",
      "metadata": {
        "id": "uE1nzj-Dl4N8"
      },
      "source": [
        "### **3.3 Creating copies of arrays**"
      ]
    },
    {
      "cell_type": "code",
      "metadata": {
        "colab": {
          "base_uri": "https://localhost:8080/"
        },
        "id": "BJXAbglUjdeD",
        "outputId": "bf7a7649-cd9e-401d-d29d-4406fc4702d5"
      },
      "source": [
        "print(x2)\n",
        "\n",
        "#Extract a  2×2  subarray from x2\n",
        "x2_sub = x2[:2, :3]\n",
        "print(\"\\n\", x2_sub)"
      ],
      "execution_count": null,
      "outputs": [
        {
          "output_type": "stream",
          "text": [
            "[[3 0 5 3 4]\n",
            " [9 8 1 5 9]\n",
            " [6 8 7 8 5]]\n",
            "\n",
            " [[3 0 5]\n",
            " [9 8 1]]\n"
          ],
          "name": "stdout"
        }
      ]
    },
    {
      "cell_type": "code",
      "metadata": {
        "colab": {
          "base_uri": "https://localhost:8080/"
        },
        "id": "PA1KSRldjdgj",
        "outputId": "2cfb5321-1da8-4265-b495-1c520c40921d"
      },
      "source": [
        "#Now if we modify this subarray, we'll see that the original array is changed!\n",
        "x2_sub[0, 0] = 108\n",
        "print(x2_sub)\n",
        "print(\"\\n\", x2)"
      ],
      "execution_count": null,
      "outputs": [
        {
          "output_type": "stream",
          "text": [
            "[[108   0   5]\n",
            " [  9   8   1]]\n",
            "\n",
            " [[108   0   5   3   4]\n",
            " [  9   8   1   5   9]\n",
            " [  6   8   7   8   5]]\n"
          ],
          "name": "stdout"
        }
      ]
    },
    {
      "cell_type": "code",
      "metadata": {
        "colab": {
          "base_uri": "https://localhost:8080/"
        },
        "id": "bpE9hdLqm5TF",
        "outputId": "7319de51-35bf-44d1-cbf7-abfc33df4ccd"
      },
      "source": [
        "#To copy the data within an array or a subarray use the copy() method\n",
        "x2_sub_copy = x2[:2, :2].copy()\n",
        "print(x2_sub_copy)\n",
        "\n",
        "x2_sub_copy[0, 0] = 2072\n",
        "print(\"\\n\", x2_sub_copy)\n",
        "\n",
        "print(\"\\n\", x2)"
      ],
      "execution_count": null,
      "outputs": [
        {
          "output_type": "stream",
          "text": [
            "[[108   0]\n",
            " [  9   8]]\n",
            "\n",
            " [[2072    0]\n",
            " [   9    8]]\n",
            "\n",
            " [[108   0   5   3   4]\n",
            " [  9   8   1   5   9]\n",
            " [  6   8   7   8   5]]\n"
          ],
          "name": "stdout"
        }
      ]
    },
    {
      "cell_type": "markdown",
      "metadata": {
        "id": "1VLKIwDkfKQj"
      },
      "source": [
        "## **4. NumPy Array Reshaping**\n",
        "*Changing the shape of a given array*"
      ]
    },
    {
      "cell_type": "code",
      "metadata": {
        "colab": {
          "base_uri": "https://localhost:8080/"
        },
        "id": "wQgwDgrLY1-p",
        "outputId": "8427cb8b-26ca-4518-f963-19e930d0f42d"
      },
      "source": [
        "one_d=np.array(range(0,20,2)).T\n",
        "print(one_d) \n",
        "one_dd=np.arange(0,24,2).reshape(3,4)\n",
        "print(one_dd)   \n",
        "two_d=one_d.reshape(2,5)\n",
        "print(two_d)"
      ],
      "execution_count": null,
      "outputs": [
        {
          "output_type": "stream",
          "text": [
            "[ 0  2  4  6  8 10 12 14 16 18]\n",
            "[[ 0  2  4  6]\n",
            " [ 8 10 12 14]\n",
            " [16 18 20 22]]\n",
            "[[ 0  2  4  6  8]\n",
            " [10 12 14 16 18]]\n"
          ],
          "name": "stdout"
        }
      ]
    },
    {
      "cell_type": "code",
      "metadata": {
        "colab": {
          "base_uri": "https://localhost:8080/"
        },
        "id": "vDTD3VQlqbqf",
        "outputId": "d530e72d-8cb0-491a-d419-48a2ce028c25"
      },
      "source": [
        "grid = np.arange(1, 10)\n",
        "print(grid)\n",
        "\n",
        "grid = np.arange(1, 10).reshape((3, 3))\n",
        "print(\"\\n\", grid)"
      ],
      "execution_count": null,
      "outputs": [
        {
          "output_type": "stream",
          "text": [
            "[1 2 3 4 5 6 7 8 9]\n",
            "\n",
            " [[1 2 3]\n",
            " [4 5 6]\n",
            " [7 8 9]]\n"
          ],
          "name": "stdout"
        }
      ]
    },
    {
      "cell_type": "code",
      "metadata": {
        "colab": {
          "base_uri": "https://localhost:8080/"
        },
        "id": "JbnT1ihCqb3X",
        "outputId": "31ed04a8-0aa4-402a-8b1e-8d00496b9f54"
      },
      "source": [
        "x = np.array([1, 2, 3])\n",
        "print(x)\n",
        "\n",
        "# row vector via reshape\n",
        "print(\"\\n\", x.reshape((1, 3)))\n",
        "\n",
        "# column vector via reshape\n",
        "print(\"\\n\", x.reshape((3, 1)))"
      ],
      "execution_count": null,
      "outputs": [
        {
          "output_type": "stream",
          "text": [
            "[1 2 3]\n",
            "\n",
            " [[1 2 3]]\n",
            "\n",
            " [[1]\n",
            " [2]\n",
            " [3]]\n"
          ],
          "name": "stdout"
        }
      ]
    },
    {
      "cell_type": "markdown",
      "metadata": {
        "id": "iPYzdesLqRUw"
      },
      "source": [
        "## **5. NumPy Array Concatenation and Splitting**\n",
        "*Combining multiple arrays into one, and splitting one array into many*"
      ]
    },
    {
      "cell_type": "code",
      "metadata": {
        "colab": {
          "base_uri": "https://localhost:8080/"
        },
        "id": "Qli0kVAinUnZ",
        "outputId": "a74cffc7-25cb-4303-a144-a756ea2abcd1"
      },
      "source": [
        "#Array concatenation: One-dimensional array\n",
        "\n",
        "x = np.random.randint(10,size=(2,3))\n",
        "y = np.random.randint(10,size=(2,3))\n",
        "z = np.random.randint(10,size=(2,3))\n",
        "c_horz=np.concatenate([x,y,z],axis=1)\n",
        "print(c_horz)\n",
        "ch=np.hstack([x,y,z])   #alternate command\n",
        "print(ch)\n",
        "c_vert=np.concatenate([x,y,z],axis=0)  #this is the default\n",
        "cv=np.vstack([x,y,z])   #alternate method\n",
        "print(c_vert)\n",
        "print(cv)\n",
        "c_vert.shape"
      ],
      "execution_count": null,
      "outputs": [
        {
          "output_type": "stream",
          "text": [
            "[[1 3 7 8 8 2 5 8 7]\n",
            " [2 1 3 7 4 5 0 1 2]]\n",
            "[[1 3 7 8 8 2 5 8 7]\n",
            " [2 1 3 7 4 5 0 1 2]]\n",
            "[[1 3 7]\n",
            " [2 1 3]\n",
            " [8 8 2]\n",
            " [7 4 5]\n",
            " [5 8 7]\n",
            " [0 1 2]]\n",
            "[[1 3 7]\n",
            " [2 1 3]\n",
            " [8 8 2]\n",
            " [7 4 5]\n",
            " [5 8 7]\n",
            " [0 1 2]]\n"
          ],
          "name": "stdout"
        },
        {
          "output_type": "execute_result",
          "data": {
            "text/plain": [
              "(6, 3)"
            ]
          },
          "metadata": {
            "tags": []
          },
          "execution_count": 111
        }
      ]
    },
    {
      "cell_type": "code",
      "metadata": {
        "colab": {
          "base_uri": "https://localhost:8080/"
        },
        "id": "CVFdKo9gnVAn",
        "outputId": "ff60d975-2e10-4041-d0ab-8d9c372c67c0"
      },
      "source": [
        "#Array concatenation: Two-dimensional array\n",
        "\n",
        "grid = np.array([[1, 2, 3],\n",
        "                 [4, 5, 6],\n",
        "                 [3,2,1],\n",
        "                 [5,6,7]])\n",
        "\n",
        "# concatenate along the first axis\n",
        "print(np.concatenate([grid, grid]))\n",
        "\n",
        "# concatenate along the second axis (zero-indexed)\n",
        "print(\"\\n\", np.concatenate([grid, grid], axis=1))"
      ],
      "execution_count": null,
      "outputs": [
        {
          "output_type": "stream",
          "text": [
            "[[1 2 3]\n",
            " [4 5 6]\n",
            " [3 2 1]\n",
            " [5 6 7]\n",
            " [1 2 3]\n",
            " [4 5 6]\n",
            " [3 2 1]\n",
            " [5 6 7]]\n",
            "\n",
            " [[1 2 3 1 2 3]\n",
            " [4 5 6 4 5 6]\n",
            " [3 2 1 3 2 1]\n",
            " [5 6 7 5 6 7]]\n"
          ],
          "name": "stdout"
        }
      ]
    },
    {
      "cell_type": "code",
      "metadata": {
        "colab": {
          "base_uri": "https://localhost:8080/"
        },
        "id": "AkSnqcutnVGS",
        "outputId": "597ff5c6-bece-4363-cdbd-0def5e15b544"
      },
      "source": [
        "#Array concatenation: Arrays with mixed dimensions\n",
        "\n",
        "#When working with arrays of mixed dimensions, it can be clearer to use:\n",
        "# (1) np.vstack (vertical stack) and \n",
        "# (2) np.hstack (horizontal stack) functions\n",
        "\n",
        "x = np.array([1, 2, 3])\n",
        "grid = np.array([[9, 8, 7],\n",
        "                 [6, 5, 4]])\n",
        "\n",
        "# vertically stack the arrays\n",
        "print(np.vstack([x, grid]))\n",
        "\n",
        "# horizontally stack the arrays\n",
        "y = np.array([[99],\n",
        "              [99]])\n",
        "print(\"\\n\", np.hstack([grid, y]))"
      ],
      "execution_count": null,
      "outputs": [
        {
          "output_type": "stream",
          "text": [
            "[[1 2 3]\n",
            " [9 8 7]\n",
            " [6 5 4]]\n",
            "\n",
            " [[ 9  8  7 99]\n",
            " [ 6  5  4 99]]\n"
          ],
          "name": "stdout"
        }
      ]
    },
    {
      "cell_type": "code",
      "metadata": {
        "colab": {
          "base_uri": "https://localhost:8080/"
        },
        "id": "5sey3m2Go1e3",
        "outputId": "a3a5a7e0-fc53-41ca-d69a-b4e3e419854e"
      },
      "source": [
        "#Splitting of arrays\n",
        "\n",
        "x = np.arange(0,20,2) #[1, 2, 3, 99, 99, 3, 2, 1]\n",
        "x1, x2, x3 = np.split(x, [3, 5]) #Here '3' and '5' are split indices\n",
        "print(x)\n",
        "print(x1, x2, x3)"
      ],
      "execution_count": null,
      "outputs": [
        {
          "output_type": "stream",
          "text": [
            "[ 0  2  4  6  8 10 12 14 16 18]\n",
            "[0 2 4] [6 8] [10 12 14 16 18]\n"
          ],
          "name": "stdout"
        }
      ]
    },
    {
      "cell_type": "code",
      "metadata": {
        "colab": {
          "base_uri": "https://localhost:8080/"
        },
        "id": "n_pQ9w-ApdpL",
        "outputId": "49b7a87f-8a9b-4b20-a064-0c27183549f6"
      },
      "source": [
        "grid = (np.arange(0,25)*2).reshape((5, 5))\n",
        "grid"
      ],
      "execution_count": null,
      "outputs": [
        {
          "output_type": "execute_result",
          "data": {
            "text/plain": [
              "array([[ 0,  2,  4,  6,  8],\n",
              "       [10, 12, 14, 16, 18],\n",
              "       [20, 22, 24, 26, 28],\n",
              "       [30, 32, 34, 36, 38],\n",
              "       [40, 42, 44, 46, 48]])"
            ]
          },
          "metadata": {
            "tags": []
          },
          "execution_count": 6
        }
      ]
    },
    {
      "cell_type": "code",
      "metadata": {
        "colab": {
          "base_uri": "https://localhost:8080/"
        },
        "id": "ygid9xE5p-Za",
        "outputId": "de04f59d-f6ff-47ad-8e06-bb94a8bb9b33"
      },
      "source": [
        "upper, lower = np.vsplit(grid, [1])\n",
        "print(upper)\n",
        "print(\"\\n\", lower)"
      ],
      "execution_count": null,
      "outputs": [
        {
          "output_type": "stream",
          "text": [
            "[[0 2 4 6 8]]\n",
            "\n",
            " [[10 12 14 16 18]\n",
            " [20 22 24 26 28]\n",
            " [30 32 34 36 38]\n",
            " [40 42 44 46 48]]\n"
          ],
          "name": "stdout"
        }
      ]
    },
    {
      "cell_type": "code",
      "metadata": {
        "colab": {
          "base_uri": "https://localhost:8080/"
        },
        "id": "y1XJxcdFqDno",
        "outputId": "09b4b828-06e7-4efa-a55f-989222f3444a"
      },
      "source": [
        "left, right = np.hsplit(grid, [2])\n",
        "print(left)\n",
        "print(\"\\n\", right)"
      ],
      "execution_count": null,
      "outputs": [
        {
          "output_type": "stream",
          "text": [
            "[[ 0  2]\n",
            " [10 12]\n",
            " [20 22]\n",
            " [30 32]\n",
            " [40 42]]\n",
            "\n",
            " [[ 4  6  8]\n",
            " [14 16 18]\n",
            " [24 26 28]\n",
            " [34 36 38]\n",
            " [44 46 48]]\n"
          ],
          "name": "stdout"
        }
      ]
    },
    {
      "cell_type": "markdown",
      "metadata": {
        "id": "XPH9QQ-6rhVL"
      },
      "source": [
        "# **Computation on NumPy Arrays: Universal Functions (ufuncs)**"
      ]
    },
    {
      "cell_type": "code",
      "metadata": {
        "colab": {
          "base_uri": "https://localhost:8080/"
        },
        "id": "pTB6ctmIrnxm",
        "outputId": "acc1403d-e83b-4344-e6a0-5f4e9482a57d"
      },
      "source": [
        "#Set 1: Array Arithmetic\n",
        "\n",
        "x = np.arange(4)\n",
        "print(\"x     =\", x)\n",
        "print(\"x + 2 =\", x + 2)\n",
        "print(\"x - 5 =\", x - 5)\n",
        "print(\"x * 2 =\", x * 2)\n",
        "print(\"x / 2 =\", x / 2)\n",
        "print(\"x // 2 =\", x // 2)  # floor division\n",
        "print(\"-x     = \", -x)\n",
        "print(\"x ** 2 = \", x ** 2)\n",
        "print(\"x % 2  = \", x % 2)"
      ],
      "execution_count": null,
      "outputs": [
        {
          "output_type": "stream",
          "text": [
            "x     = [0 1 2 3]\n",
            "x + 2 = [2 3 4 5]\n",
            "x - 5 = [-5 -4 -3 -2]\n",
            "x * 2 = [0 2 4 6]\n",
            "x / 2 = [0.  0.5 1.  1.5]\n",
            "x // 2 = [0 0 1 1]\n",
            "-x     =  [ 0 -1 -2 -3]\n",
            "x ** 2 =  [0 1 4 9]\n",
            "x % 2  =  [0 1 0 1]\n"
          ],
          "name": "stdout"
        }
      ]
    },
    {
      "cell_type": "code",
      "metadata": {
        "colab": {
          "base_uri": "https://localhost:8080/"
        },
        "id": "zTpxU4SLsf33",
        "outputId": "9f7f459a-1aca-4d5b-c618-bdf5ed8e3bfd"
      },
      "source": [
        "x=np.arange(-3,20,4)\n",
        "print('x=  {} '.format(x))\n",
        "\n",
        "yadd=np.add(x, 5)\n",
        "print('add = {}'.format(yadd))\n",
        "\n",
        "ysub=np.subtract(x, 5)\n",
        "print('subtract = {}'.format(ysub))\n",
        "\n",
        "ymul=np.multiply(x, 2)\n",
        "print('multiply = {}'.format(ymul))\n",
        "\n",
        "ypower=np.power(x, 3)\n",
        "print('power = {}'.format(ypower))\n",
        "\n",
        "ypower=(x)**3     # alternate method\n",
        "print('power = {}'.format(ypower))\n",
        "\n",
        "ydivide=np.divide(x, 3)\n",
        "print('divide = {}'.format(ydivide))\n",
        "\n",
        "yintdivide=np.floor_divide(x, 3)    # integral component of the divide\n",
        "print('divide = {}'.format(yintdivide))\n",
        "\n",
        "ymod=np.mod(x, 3)    # modulo division, the remainder after dividing\n",
        "print('divide = {}'.format(ymod))"
      ],
      "execution_count": null,
      "outputs": [
        {
          "output_type": "stream",
          "text": [
            "x=  [-3  1  5  9 13 17] \n",
            "add = [ 2  6 10 14 18 22]\n",
            "subtract = [-8 -4  0  4  8 12]\n",
            "multiply = [-6  2 10 18 26 34]\n",
            "power = [ -27    1  125  729 2197 4913]\n",
            "power = [ -27    1  125  729 2197 4913]\n",
            "divide = [-1.          0.33333333  1.66666667  3.          4.33333333  5.66666667]\n",
            "divide = [-1  0  1  3  4  5]\n",
            "divide = [0 1 2 0 1 2]\n"
          ],
          "name": "stdout"
        }
      ]
    },
    {
      "cell_type": "markdown",
      "metadata": {
        "id": "mUjyFYQ-Ycg0"
      },
      "source": [
        "The following table lists the arithmetic operators implemented in NumPy:\n",
        "\n",
        "| Operator\t    | Equivalent ufunc    | Description                           |\n",
        "|---------------|---------------------|---------------------------------------|\n",
        "|``+``          |``np.add``           |Addition (e.g., ``1 + 1 = 2``)         |\n",
        "|``-``          |``np.subtract``      |Subtraction (e.g., ``3 - 2 = 1``)      |\n",
        "|``-``          |``np.negative``      |Unary negation (e.g., ``-2``)          |\n",
        "|``*``          |``np.multiply``      |Multiplication (e.g., ``2 * 3 = 6``)   |\n",
        "|``/``          |``np.divide``        |Division (e.g., ``3 / 2 = 1.5``)       |\n",
        "|``//``         |``np.floor_divide``  |Floor division (e.g., ``3 // 2 = 1``)  |\n",
        "|``**``         |``np.power``         |Exponentiation (e.g., ``2 ** 3 = 8``)  |\n",
        "|``%``          |``np.mod``           |Modulus/remainder (e.g., ``9 % 4 = 1``)|\n"
      ]
    },
    {
      "cell_type": "code",
      "metadata": {
        "colab": {
          "base_uri": "https://localhost:8080/"
        },
        "id": "7GBr33ZbstT8",
        "outputId": "583f9c3c-cf10-46e4-9541-c5c9d2c51dd4"
      },
      "source": [
        "#Set 2: Absolute Value\n",
        "\n",
        "x = np.array([-2, -1, 0, 1, 2])\n",
        "print(abs(x))\n",
        "print(np.absolute(x))\n",
        "print(np.abs(x))"
      ],
      "execution_count": null,
      "outputs": [
        {
          "output_type": "stream",
          "text": [
            "[2 1 0 1 2]\n",
            "[2 1 0 1 2]\n",
            "[2 1 0 1 2]\n"
          ],
          "name": "stdout"
        }
      ]
    },
    {
      "cell_type": "code",
      "metadata": {
        "colab": {
          "base_uri": "https://localhost:8080/"
        },
        "id": "pT-1vy1ltAFi",
        "outputId": "f23d7786-4348-4c05-bfde-04507e1764f8"
      },
      "source": [
        "#Set 3: Trigonometric Functions\n",
        "\n",
        "theta = np.linspace(0, np.pi, 3)\n",
        "print(\"theta      = \", theta)\n",
        "print(\"sin(theta) = \", np.sin(theta))\n",
        "print(\"cos(theta) = \", np.cos(theta))\n",
        "print(\"tan(theta) = \", np.tan(theta))\n",
        "\n",
        "x = [-1, 0, 1]\n",
        "print(\"\\nx         = \", x)\n",
        "print(\"arcsin(x) = \", np.arcsin(x))\n",
        "print(\"arccos(x) = \", np.arccos(x))\n",
        "print(\"arctan(x) = \", np.arctan(x))"
      ],
      "execution_count": null,
      "outputs": [
        {
          "output_type": "stream",
          "text": [
            "theta      =  [0.         1.57079633 3.14159265]\n",
            "sin(theta) =  [0.0000000e+00 1.0000000e+00 1.2246468e-16]\n",
            "cos(theta) =  [ 1.000000e+00  6.123234e-17 -1.000000e+00]\n",
            "tan(theta) =  [ 0.00000000e+00  1.63312394e+16 -1.22464680e-16]\n",
            "\n",
            "x         =  [-1, 0, 1]\n",
            "arcsin(x) =  [-1.57079633  0.          1.57079633]\n",
            "arccos(x) =  [3.14159265 1.57079633 0.        ]\n",
            "arctan(x) =  [-0.78539816  0.          0.78539816]\n"
          ],
          "name": "stdout"
        }
      ]
    },
    {
      "cell_type": "code",
      "metadata": {
        "colab": {
          "base_uri": "https://localhost:8080/"
        },
        "id": "DerLcO6GtaPn",
        "outputId": "e0a21e66-3f12-48b0-8f77-d94d09331f12"
      },
      "source": [
        "#Set 4: Exponents and Logarithms\n",
        "\n",
        "x = np.arange(5)\n",
        "print(\"x     =\", x)\n",
        "print(\"e^x   =\", np.exp(x))\n",
        "print(\"2^x   =\", np.exp2(x))\n",
        "print(\"2^x   =\", np.power(2,x))   #alternate method\n",
        "print(\"3^x   =\", np.power(3, x))\n",
        "\n",
        "x = [1, 10, 100, 16, 64, np.exp(2)]\n",
        "print(\"\\nx        =\", x)\n",
        "print(\"ln(x)    =\", np.log(x))\n",
        "print(\"log2(x)  =\", np.log2(x))\n",
        "print(\"log10(x) =\", np.log10(x))"
      ],
      "execution_count": null,
      "outputs": [
        {
          "output_type": "stream",
          "text": [
            "x     = [0 1 2 3 4]\n",
            "e^x   = [ 1.          2.71828183  7.3890561  20.08553692 54.59815003]\n",
            "2^x   = [ 1.  2.  4.  8. 16.]\n",
            "2^x   = [ 1  2  4  8 16]\n",
            "3^x   = [ 1  3  9 27 81]\n",
            "\n",
            "x        = [1, 10, 100, 16, 64, 7.38905609893065]\n",
            "ln(x)    = [0.         2.30258509 4.60517019 2.77258872 4.15888308 2.        ]\n",
            "log2(x)  = [0.         3.32192809 6.64385619 4.         6.         2.88539008]\n",
            "log10(x) = [0.         1.         2.         1.20411998 1.80617997 0.86858896]\n"
          ],
          "name": "stdout"
        }
      ]
    },
    {
      "cell_type": "markdown",
      "metadata": {
        "id": "gFDVuAFqt15m"
      },
      "source": [
        "# **Aggregations: Min, Max, and Everything In Between**"
      ]
    },
    {
      "cell_type": "code",
      "metadata": {
        "colab": {
          "base_uri": "https://localhost:8080/"
        },
        "id": "1JG-Bw7Nunpw",
        "outputId": "2a9705f8-055d-4ea5-d772-06ef49e68060"
      },
      "source": [
        "x = np.arange(1, 25, 3)\n",
        "print(x)"
      ],
      "execution_count": null,
      "outputs": [
        {
          "output_type": "stream",
          "text": [
            "[ 1  4  7 10 13 16 19 22]\n"
          ],
          "name": "stdout"
        }
      ]
    },
    {
      "cell_type": "code",
      "metadata": {
        "colab": {
          "base_uri": "https://localhost:8080/"
        },
        "id": "Eu6xAoLku83X",
        "outputId": "380fe570-143c-4eeb-feab-7d1648940448"
      },
      "source": [
        "#Find min, max and sum over 1D array\n",
        "np.min(x), np.max(x), np.sum(x)"
      ],
      "execution_count": null,
      "outputs": [
        {
          "output_type": "execute_result",
          "data": {
            "text/plain": [
              "(1, 22, 92)"
            ]
          },
          "metadata": {
            "tags": []
          },
          "execution_count": 12
        }
      ]
    },
    {
      "cell_type": "code",
      "metadata": {
        "colab": {
          "base_uri": "https://localhost:8080/"
        },
        "id": "bUbyUyZ6vFKF",
        "outputId": "879b4c15-c3c1-47e2-f5df-3c0a3ba23918"
      },
      "source": [
        "#Create a multi-dimensional 3x3 array with values from 1 to 9\n",
        "M = np.random.randint(10, size=16).reshape((4, 4))\n",
        "print(M)"
      ],
      "execution_count": null,
      "outputs": [
        {
          "output_type": "stream",
          "text": [
            "[[5 5 7 4]\n",
            " [0 6 7 7]\n",
            " [6 2 9 2]\n",
            " [9 9 6 2]]\n"
          ],
          "name": "stdout"
        }
      ]
    },
    {
      "cell_type": "code",
      "metadata": {
        "colab": {
          "base_uri": "https://localhost:8080/"
        },
        "id": "daI34dcBvYyP",
        "outputId": "0a544e1d-cad7-4655-c7ed-89620e8bcd2b"
      },
      "source": [
        "#Find min, max and sum over multidimensional array\n",
        "np.min(M), np.max(M), np.sum(M)"
      ],
      "execution_count": null,
      "outputs": [
        {
          "output_type": "execute_result",
          "data": {
            "text/plain": [
              "(0, 9, 86)"
            ]
          },
          "metadata": {
            "tags": []
          },
          "execution_count": 22
        }
      ]
    },
    {
      "cell_type": "code",
      "metadata": {
        "colab": {
          "base_uri": "https://localhost:8080/"
        },
        "id": "nECnqaDiwGfy",
        "outputId": "54c74f3e-4837-485f-febd-b454ebda1205"
      },
      "source": [
        "# To find minimum value within each column specify 'axis=0'\n",
        "print(np.min(M, axis=0))\n",
        "\n",
        "# To find minimum value within each row specify 'axis=0'\n",
        "print(np.min(M, axis=1))"
      ],
      "execution_count": null,
      "outputs": [
        {
          "output_type": "stream",
          "text": [
            "[0 2 6 2]\n",
            "[4 0 2 2]\n"
          ],
          "name": "stdout"
        }
      ]
    },
    {
      "cell_type": "code",
      "metadata": {
        "colab": {
          "base_uri": "https://localhost:8080/"
        },
        "id": "AxB3P7m50i_8",
        "outputId": "f803174e-fa43-48cc-a596-dc0a21c50d45"
      },
      "source": [
        "#Assume 'heights' to be a NumPy array containing heights in centimeters of 15 individuals\n",
        "from scipy import stats\n",
        "\n",
        "heights = np.array(sorted([189, 170, 189, 163, 183, 171, 185, 168, 173, 183, 173, 173, 175, 178, 183]))\n",
        "\n",
        "print(\"Heights:           \", heights)\n",
        "print(\"Mean height:       \", np.mean(heights))\n",
        "print(\"Standard deviation:\", np.std(heights))\n",
        "print(\"Minimum height:    \", np.min(heights))\n",
        "print(\"Maximum height:    \", np.max(heights))\n",
        "print(\"25th percentile:   \", np.percentile(heights, 25))\n",
        "print(\"Median:            \", np.median(heights))\n",
        "print(\"75th percentile:   \", np.percentile(heights, 75))\n",
        "print(\"Variance:            \", np.var(heights))\n",
        "print(\"Mode  :            \", stats.mode(heights))\n"
      ],
      "execution_count": null,
      "outputs": [
        {
          "output_type": "stream",
          "text": [
            "Heights:            [163 168 170 171 173 173 173 175 178 183 183 183 185 189 189]\n",
            "Mean height:        177.06666666666666\n",
            "Standard deviation: 7.637335195530499\n",
            "Minimum height:     163\n",
            "Maximum height:     189\n",
            "25th percentile:    172.0\n",
            "Median:             175.0\n",
            "75th percentile:    183.0\n",
            "Variance:             58.328888888888876\n",
            "Mode  :             ModeResult(mode=array([173]), count=array([3]))\n",
            "<function all at 0x7f57228fad90>\n"
          ],
          "name": "stdout"
        }
      ]
    },
    {
      "cell_type": "markdown",
      "metadata": {
        "id": "ZhxsVZrTYapa"
      },
      "source": [
        "### Other aggregation functions\n",
        "\n",
        "NumPy provides many other aggregation functions, but we won't discuss them in detail here.\n",
        "Additionally, most aggregates have a ``NaN``-safe counterpart that computes the result while ignoring missing values, which are marked by the special IEEE floating-point ``NaN`` value (for a fuller discussion of missing data, see [Handling Missing Data](03.04-Missing-Values.ipynb)).\n",
        "Some of these ``NaN``-safe functions were not added until NumPy 1.8, so they will not be available in older NumPy versions.\n",
        "\n",
        "The following table provides a list of useful aggregation functions available in NumPy:\n",
        "\n",
        "|Function Name      |   NaN-safe Version  | Description                                   |\n",
        "|-------------------|---------------------|-----------------------------------------------|\n",
        "| ``np.sum``        | ``np.nansum``       | Compute sum of elements                       |\n",
        "| ``np.prod``       | ``np.nanprod``      | Compute product of elements                   |\n",
        "| ``np.mean``       | ``np.nanmean``      | Compute mean of elements                      |\n",
        "| ``np.std``        | ``np.nanstd``       | Compute standard deviation                    |\n",
        "| ``np.var``        | ``np.nanvar``       | Compute variance                              |\n",
        "| ``np.min``        | ``np.nanmin``       | Find minimum value                            |\n",
        "| ``np.max``        | ``np.nanmax``       | Find maximum value                            |\n",
        "| ``np.argmin``     | ``np.nanargmin``    | Find index of minimum value                   |\n",
        "| ``np.argmax``     | ``np.nanargmax``    | Find index of maximum value                   |\n",
        "| ``np.median``     | ``np.nanmedian``    | Compute median of elements                    |\n",
        "| ``np.percentile`` | ``np.nanpercentile``| Compute rank-based statistics of elements     |\n",
        "| ``np.any``        | N/A                 | Evaluate whether any elements are true        |\n",
        "| ``np.all``        | N/A                 | Evaluate whether all elements are true        |\n",
        "\n",
        "We will see these aggregates often throughout the rest of the book."
      ]
    },
    {
      "cell_type": "markdown",
      "metadata": {
        "id": "HdV5uqjZ0ZEm"
      },
      "source": [
        "# **Sorting Arrays**"
      ]
    },
    {
      "cell_type": "code",
      "metadata": {
        "colab": {
          "base_uri": "https://localhost:8080/"
        },
        "id": "Ko-lMZeq2q2X",
        "outputId": "0df12e41-b31f-452d-f5cc-ccd560ba08dd"
      },
      "source": [
        "#Sort 'heights' array in the above section\n",
        "heights=np.random.randint(100,180, size=(15))\n",
        "\n",
        "print(heights)\n",
        "print(np.sort(heights))"
      ],
      "execution_count": null,
      "outputs": [
        {
          "output_type": "stream",
          "text": [
            "[138 112 114 147 117 140 154 155 172 152 152 132 135 118 134]\n",
            "[112 114 117 118 132 134 135 138 140 147 152 152 154 155 172]\n"
          ],
          "name": "stdout"
        }
      ]
    },
    {
      "cell_type": "code",
      "metadata": {
        "colab": {
          "base_uri": "https://localhost:8080/"
        },
        "id": "izIe59iz20ws",
        "outputId": "8c124d4b-c60d-4395-ace7-bd666bad8767"
      },
      "source": [
        "#A related function is 'argsort', which instead returns the indices of the sorted elements\n",
        "\n",
        "i = np.argsort(heights)\n",
        "print(i)"
      ],
      "execution_count": null,
      "outputs": [
        {
          "output_type": "stream",
          "text": [
            "[ 1  2  4 13 11 14 12  0  5  3  9 10  6  7  8]\n"
          ],
          "name": "stdout"
        }
      ]
    },
    {
      "cell_type": "code",
      "metadata": {
        "colab": {
          "base_uri": "https://localhost:8080/"
        },
        "id": "XsywgEhZ3AOM",
        "outputId": "d8d1c094-95a0-46d3-e9a3-ab53d56bb874"
      },
      "source": [
        "#Sorting along rows or columns\n",
        "\n",
        "rand = np.random.RandomState(45)\n",
        "X = rand.randint(0, 10, (4, 6))\n",
        "print(X)\n",
        "\n",
        "# sort each column of X\n",
        "print(\"\\n\", np.sort(X, axis=0))\n",
        "\n",
        "# sort each row of X\n",
        "print(\"\\n\", np.sort(X, axis=1))"
      ],
      "execution_count": null,
      "outputs": [
        {
          "output_type": "stream",
          "text": [
            "[[3 0 5 3 4 9]\n",
            " [8 1 5 9 6 8]\n",
            " [7 8 5 2 8 1]\n",
            " [6 4 8 4 6 4]]\n",
            "\n",
            " [[3 0 5 2 4 1]\n",
            " [6 1 5 3 6 4]\n",
            " [7 4 5 4 6 8]\n",
            " [8 8 8 9 8 9]]\n",
            "\n",
            " [[0 3 3 4 5 9]\n",
            " [1 5 6 8 8 9]\n",
            " [1 2 5 7 8 8]\n",
            " [4 4 4 6 6 8]]\n"
          ],
          "name": "stdout"
        }
      ]
    },
    {
      "cell_type": "markdown",
      "metadata": {
        "id": "SwiYqcNH4t80"
      },
      "source": [
        "# **Structured Data: NumPy's Structured Arrays**"
      ]
    },
    {
      "cell_type": "markdown",
      "metadata": {
        "id": "yMRd8oHT5I_T"
      },
      "source": [
        "Imagine that we have several categories of data on a number of people (say, name, age, and weight), and we'd like to store these values for use in a Python program. It would be possible to store these in three separate arrays."
      ]
    },
    {
      "cell_type": "code",
      "metadata": {
        "id": "zm9Ahpoh4zI4"
      },
      "source": [
        "name = ['Alice', 'Bob', 'Cathy', 'Doug','mani']\n",
        "age = [25, 45, 37, 19,55]\n",
        "weight = [55.0, 85.5, 68.0, 61.5,72.0]"
      ],
      "execution_count": null,
      "outputs": []
    },
    {
      "cell_type": "markdown",
      "metadata": {
        "id": "704EZ_gw5VDM"
      },
      "source": [
        "But this is a bit clumsy. There's nothing here that tells us that the three arrays are related; it would be more natural if we could use a single structure to store all of this data. NumPy can handle this through structured arrays, which are arrays with compound data types."
      ]
    },
    {
      "cell_type": "code",
      "metadata": {
        "colab": {
          "base_uri": "https://localhost:8080/"
        },
        "id": "uWi9fgaT5X3C",
        "outputId": "0edb8892-e68f-44fe-80b9-d8c8de8beadd"
      },
      "source": [
        "x = np.zeros(5, dtype=int)\n",
        "print(\"x          =\", x)\n",
        "\n",
        "# Use a compound data type for structured arrays\n",
        "# Here 'U10' translates to \"Unicode string of maximum length 10,\" \n",
        "#       'i4' translates to \"4-byte (i.e., 32 bit) integer,\" and \n",
        "#       'f8' translates to \"8-byte (i.e., 64 bit) float.\"\n",
        "data = np.zeros(5, dtype={'names':('name', 'age', 'weight'),\n",
        "                          'formats':('U10', 'i4', 'f8')})\n",
        "\n",
        "print(\"data       =\", data)\n",
        "print(\"data.dtype =\", data.dtype)"
      ],
      "execution_count": null,
      "outputs": [
        {
          "output_type": "stream",
          "text": [
            "x          = [0 0 0 0 0]\n",
            "data       = [('', 0, 0.) ('', 0, 0.) ('', 0, 0.) ('', 0, 0.) ('', 0, 0.)]\n",
            "data.dtype = [('name', '<U10'), ('age', '<i4'), ('weight', '<f8')]\n"
          ],
          "name": "stdout"
        }
      ]
    },
    {
      "cell_type": "code",
      "metadata": {
        "colab": {
          "base_uri": "https://localhost:8080/"
        },
        "id": "wn-Zxonc5aqP",
        "outputId": "232d6c8f-04a7-42cc-c63e-d80cb51f74bf"
      },
      "source": [
        "#Fill the empty container array with our list values\n",
        "data['name'] = name\n",
        "data['age'] = age\n",
        "data['weight'] = weight\n",
        "print(data)"
      ],
      "execution_count": null,
      "outputs": [
        {
          "output_type": "stream",
          "text": [
            "[('Alice', 25, 55. ) ('Bob', 45, 85.5) ('Cathy', 37, 68. )\n",
            " ('Doug', 19, 61.5) ('mani', 55, 72. )]\n"
          ],
          "name": "stdout"
        }
      ]
    },
    {
      "cell_type": "code",
      "metadata": {
        "colab": {
          "base_uri": "https://localhost:8080/"
        },
        "id": "8uF_ZlY96TYm",
        "outputId": "fbd856ee-3d26-4e60-f424-57b3ada0cf9f"
      },
      "source": [
        "# Get all names\n",
        "print(\"Names                      :\", data['name'])\n",
        "\n",
        "# Get first row of data\n",
        "print(\"First row of data          :\", data[0])\n",
        "\n",
        "# Get the name from the last row\n",
        "print(\"Name from last row         :\", data[-1]['name'])\n",
        "\n",
        "# Get names where age is under 30\n",
        "print(\"Names where age is under 30:\", data[data['weight'] >= 70]['name'])"
      ],
      "execution_count": null,
      "outputs": [
        {
          "output_type": "stream",
          "text": [
            "Names                      : ['Alice' 'Bob' 'Cathy' 'Doug' 'mani']\n",
            "First row of data          : ('Alice', 25, 55.)\n",
            "Name from last row         : mani\n",
            "Names where age is under 30: ['Bob' 'mani']\n"
          ],
          "name": "stdout"
        }
      ]
    },
    {
      "cell_type": "markdown",
      "metadata": {
        "id": "2Rf8Z5FB0A0a"
      },
      "source": [
        "# **NumPy: Axes and Dimensions**"
      ]
    },
    {
      "cell_type": "code",
      "metadata": {
        "colab": {
          "base_uri": "https://localhost:8080/"
        },
        "id": "rByL26Z60m_O",
        "outputId": "e89bd681-ecd8-4ec6-ba40-23583d7fe361"
      },
      "source": [
        "#The vector has one axis since it is 1-dimensional. So you can only apply a \n",
        "#function across axis-0. Axes are always 0 indexed.\n",
        "\n",
        "np.sum([1,2,3,4], axis=0)"
      ],
      "execution_count": null,
      "outputs": [
        {
          "output_type": "execute_result",
          "data": {
            "text/plain": [
              "10"
            ]
          },
          "metadata": {
            "tags": []
          },
          "execution_count": 3
        }
      ]
    },
    {
      "cell_type": "code",
      "metadata": {
        "colab": {
          "base_uri": "https://localhost:8080/"
        },
        "id": "RXFQD5m-2b2Y",
        "outputId": "ba526f8e-7c28-457d-e997-5f2e51e833b8"
      },
      "source": [
        "#Matrix is a 2-dimensional data so it has 2 axes.\n",
        "\n",
        "#Applying sum function across columns\n",
        "data = np.array([[1,2,3], [4,5,6]])\n",
        "print(data)\n",
        "\n",
        "sum = np.sum(data, axis=0) \n",
        "print(\"\\n\", sum)\n",
        "\n",
        "#Applying sum function across rows\n",
        "sum = np.sum(data, axis=1)\n",
        "print(\"\\n\", sum)\n",
        "\n",
        "#Providing no axis in the arguments to get the sum of all elements together\n",
        "sum = np.sum(data)\n",
        "print(\"\\n\", sum)"
      ],
      "execution_count": null,
      "outputs": [
        {
          "output_type": "stream",
          "text": [
            "[[1 2 3]\n",
            " [4 5 6]]\n",
            "\n",
            " [5 7 9]\n",
            "\n",
            " [ 6 15]\n",
            "\n",
            " 21\n"
          ],
          "name": "stdout"
        }
      ]
    },
    {
      "cell_type": "code",
      "metadata": {
        "colab": {
          "base_uri": "https://localhost:8080/"
        },
        "id": "q9NWoJ-c3FL_",
        "outputId": "cb204680-2344-476c-d361-41417cc7bc3b"
      },
      "source": [
        "#3-Dimensional data (Concept)\n",
        "#3D data is a collection of 2D data-points(matrix).\n",
        "\n",
        "#1. Applying sum function across axis-0 means you are summing all matrices together.\n",
        "#2. Applying sum function across axis-1 means you are summing all vectors inside each metrics.\n",
        "#3. Applying sum function across axis-2 means you are summing all scalars inside each Vector.\n",
        "\n",
        "data = np.array([[[1,1,1],\n",
        "                  [3,3,3]], \n",
        "                 \n",
        "                 [[2,2,2], \n",
        "                  [4,4,4]]])\n",
        "\n",
        "print(data)\n",
        "\n",
        "sum = np.sum(data, axis=0) \n",
        "print(\"\\n Output of axis=0:\\n\", sum)\n",
        "\n",
        "sum = np.sum(data, axis=1) \n",
        "print(\"\\n Output of axis=1:\\n\", sum)\n",
        "\n",
        "sum = np.sum(data, axis=2) \n",
        "print(\"\\n Output of axis=2:\\n\", sum)"
      ],
      "execution_count": null,
      "outputs": [
        {
          "output_type": "stream",
          "text": [
            "[[[1 1 1]\n",
            "  [3 3 3]]\n",
            "\n",
            " [[2 2 2]\n",
            "  [4 4 4]]]\n",
            "\n",
            " Output of axis=0:\n",
            " [[3 3 3]\n",
            " [7 7 7]]\n",
            "\n",
            " Output of axis=1:\n",
            " [[4 4 4]\n",
            " [6 6 6]]\n",
            "\n",
            " Output of axis=2:\n",
            " [[ 3  9]\n",
            " [ 6 12]]\n"
          ],
          "name": "stdout"
        }
      ]
    }
  ]
}