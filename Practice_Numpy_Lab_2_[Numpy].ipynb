{
  "nbformat": 4,
  "nbformat_minor": 0,
  "metadata": {
    "colab": {
      "name": "Practice_Numpy_Lab_2_[Numpy].ipynb",
      "provenance": [],
      "collapsed_sections": [
        "3T-2XfR4dWr8",
        "vV2Afl2XdinY",
        "1NtD_zQTewXv",
        "b6i3L8XVfJMm",
        "CbTu1RHuhwyO",
        "DIHEK1q3jEl5",
        "uE1nzj-Dl4N8",
        "1VLKIwDkfKQj",
        "iPYzdesLqRUw",
        "XPH9QQ-6rhVL",
        "gFDVuAFqt15m",
        "ZhxsVZrTYapa",
        "HdV5uqjZ0ZEm",
        "SwiYqcNH4t80",
        "2Rf8Z5FB0A0a"
      ],
      "include_colab_link": true
    },
    "kernelspec": {
      "name": "python3",
      "display_name": "Python 3"
    }
  },
  "cells": [
    {
      "cell_type": "markdown",
      "metadata": {
        "id": "view-in-github",
        "colab_type": "text"
      },
      "source": [
        "<a href=\"https://colab.research.google.com/github/sahanal2603/Data-Science-and-Analytics/blob/master/Practice_Numpy_Lab_2_%5BNumpy%5D.ipynb\" target=\"_parent\"><img src=\"https://colab.research.google.com/assets/colab-badge.svg\" alt=\"Open In Colab\"/></a>"
      ]
    },
    {
      "cell_type": "markdown",
      "metadata": {
        "id": "sYtExl8qTjzS"
      },
      "source": [
        "# This content is taken directly from the Tutorial session of the TEQIP III sponsored Faculty Development program, conducted by IIT Ghandinagar, during 11 to 23 January, 2021"
      ]
    },
    {
      "cell_type": "markdown",
      "metadata": {
        "id": "OgpqpV5GZG8D"
      },
      "source": [
        "# **Importing NumPy**\n",
        "We'll start with the standard NumPy import, under the alias *'np'*."
      ]
    },
    {
      "cell_type": "code",
      "metadata": {
        "id": "e6agpbWiY352"
      },
      "source": [
        "import numpy as np"
      ],
      "execution_count": 2,
      "outputs": []
    },
    {
      "cell_type": "markdown",
      "metadata": {
        "id": "wZTtt70hbG8u"
      },
      "source": [
        "# **Creating Arrays from Python Lists**\n",
        "Use np.array to create arrays from Python lists."
      ]
    },
    {
      "cell_type": "code",
      "metadata": {
        "colab": {
          "base_uri": "https://localhost:8080/"
        },
        "id": "GTaHw_WGa7ei",
        "outputId": "4e38eead-80d3-404e-e589-a5a5cc8f1d7a"
      },
      "source": [
        "# integer array:\n",
        "np.array([1, 4, 2, 5, 3])"
      ],
      "execution_count": null,
      "outputs": [
        {
          "output_type": "execute_result",
          "data": {
            "text/plain": [
              "array([1, 4, 2, 5, 3])"
            ]
          },
          "metadata": {
            "tags": []
          },
          "execution_count": 2
        }
      ]
    },
    {
      "cell_type": "markdown",
      "metadata": {
        "id": "OCwQmxsObs0m"
      },
      "source": [
        "Unlike Python lists, NumPy is constrained to arrays that all contain the same type. If types do not match, NumPy will upcast if possible."
      ]
    },
    {
      "cell_type": "code",
      "metadata": {
        "colab": {
          "base_uri": "https://localhost:8080/"
        },
        "id": "LogYzwKrbhmX",
        "outputId": "9374152a-08d9-4bc3-bd17-b3116a241a8c"
      },
      "source": [
        "#Here, integers are up-cast to floating point:\n",
        "np.array([3.14, 4, 2, 3])"
      ],
      "execution_count": null,
      "outputs": [
        {
          "output_type": "execute_result",
          "data": {
            "text/plain": [
              "array([3.14, 4.  , 2.  , 3.  ])"
            ]
          },
          "metadata": {
            "tags": []
          },
          "execution_count": 3
        }
      ]
    },
    {
      "cell_type": "code",
      "metadata": {
        "colab": {
          "base_uri": "https://localhost:8080/"
        },
        "id": "trAhonXKb6Pq",
        "outputId": "d9955f22-a6ac-4408-cbfd-d848a8a0ba01"
      },
      "source": [
        "#Use the 'dtype' keyword to explicitly set data type of the resulting array:\n",
        "np.array([1, 2, 3, 4], dtype='float32')"
      ],
      "execution_count": null,
      "outputs": [
        {
          "output_type": "execute_result",
          "data": {
            "text/plain": [
              "array([1., 2., 3., 4.], dtype=float32)"
            ]
          },
          "metadata": {
            "tags": []
          },
          "execution_count": 4
        }
      ]
    },
    {
      "cell_type": "code",
      "metadata": {
        "colab": {
          "base_uri": "https://localhost:8080/"
        },
        "id": "4vMwIl2xT5Rn",
        "outputId": "67e767c9-5f4a-4977-ba6d-3537c2e0796a"
      },
      "source": [
        "a=[]\n",
        "for i in [2,4,6]:\n",
        "    temp=np.arange(i,i+4)\n",
        "    a.append(temp)\n",
        "\n",
        "\n",
        "print(len(a))\n",
        "print(a)"
      ],
      "execution_count": null,
      "outputs": [
        {
          "output_type": "stream",
          "text": [
            "3\n",
            "[array([2, 3, 4, 5]), array([4, 5, 6, 7]), array([6, 7, 8, 9])]\n"
          ],
          "name": "stdout"
        }
      ]
    },
    {
      "cell_type": "code",
      "metadata": {
        "colab": {
          "base_uri": "https://localhost:8080/"
        },
        "id": "ZDmZdH90cT4e",
        "outputId": "fd44d209-e7e8-4da3-aab3-05117e5d0ef6"
      },
      "source": [
        "#Initializing a multidimensional array using a list of lists:\n",
        "b=np.array([range(i, i + 4) for i in [2, 4, 6]])\n",
        "len(b)\n",
        "print(b)\n",
        "print(b[0,2])"
      ],
      "execution_count": null,
      "outputs": [
        {
          "output_type": "stream",
          "text": [
            "[[2 3 4 5]\n",
            " [4 5 6 7]\n",
            " [6 7 8 9]]\n",
            "4\n"
          ],
          "name": "stdout"
        }
      ]
    },
    {
      "cell_type": "markdown",
      "metadata": {
        "id": "hoRhnf-Qcpw2"
      },
      "source": [
        "# **Creating Arrays from Scratch**"
      ]
    },
    {
      "cell_type": "code",
      "metadata": {
        "colab": {
          "base_uri": "https://localhost:8080/"
        },
        "id": "MDJHETvNcfTe",
        "outputId": "a68f12ea-6d57-4910-bc33-d6e63dfafe48"
      },
      "source": [
        "# Create a length-5 integer array filled with zeros\n",
        "np.zeros(5, dtype=int)"
      ],
      "execution_count": null,
      "outputs": [
        {
          "output_type": "execute_result",
          "data": {
            "text/plain": [
              "array([0, 0, 0, 0, 0])"
            ]
          },
          "metadata": {
            "tags": []
          },
          "execution_count": 33
        }
      ]
    },
    {
      "cell_type": "code",
      "metadata": {
        "colab": {
          "base_uri": "https://localhost:8080/"
        },
        "id": "EmxpolthczzT",
        "outputId": "68e9fd81-778a-4252-9d77-8c1518a5437d"
      },
      "source": [
        "# Create a 3x5 floating-point array filled with ones\n",
        "np.ones((3, 5), dtype=float)"
      ],
      "execution_count": null,
      "outputs": [
        {
          "output_type": "execute_result",
          "data": {
            "text/plain": [
              "array([[1., 1., 1., 1., 1.],\n",
              "       [1., 1., 1., 1., 1.],\n",
              "       [1., 1., 1., 1., 1.]])"
            ]
          },
          "metadata": {
            "tags": []
          },
          "execution_count": 118
        }
      ]
    },
    {
      "cell_type": "code",
      "metadata": {
        "colab": {
          "base_uri": "https://localhost:8080/"
        },
        "id": "0l-mCGg8c3UQ",
        "outputId": "946d6d3c-f2d8-4def-8e69-6978d4eb50c8"
      },
      "source": [
        "# Create a 3x5 array filled with 3.14\n",
        "np.full((3, 5), 3.14)"
      ],
      "execution_count": null,
      "outputs": [
        {
          "output_type": "execute_result",
          "data": {
            "text/plain": [
              "array([[3.14, 3.14, 3.14, 3.14, 3.14],\n",
              "       [3.14, 3.14, 3.14, 3.14, 3.14],\n",
              "       [3.14, 3.14, 3.14, 3.14, 3.14]])"
            ]
          },
          "metadata": {
            "tags": []
          },
          "execution_count": 119
        }
      ]
    },
    {
      "cell_type": "code",
      "metadata": {
        "colab": {
          "base_uri": "https://localhost:8080/"
        },
        "id": "UFvPFRvNc5jW",
        "outputId": "681b1d97-48df-4df5-f641-637aad233479"
      },
      "source": [
        "# Create an array filled with a linear sequence\n",
        "# Starting at 0, ending at 20, stepping by 2\n",
        "# (this is similar to the built-in range() function)\n",
        "np.arange(0, 20, 2)"
      ],
      "execution_count": null,
      "outputs": [
        {
          "output_type": "execute_result",
          "data": {
            "text/plain": [
              "array([ 0,  2,  4,  6,  8, 10, 12, 14, 16, 18])"
            ]
          },
          "metadata": {
            "tags": []
          },
          "execution_count": 120
        }
      ]
    },
    {
      "cell_type": "code",
      "metadata": {
        "colab": {
          "base_uri": "https://localhost:8080/"
        },
        "id": "Xkp2Z8C0c81N",
        "outputId": "05fa7c9b-1c59-4dd4-84b8-f126216a6af1"
      },
      "source": [
        "# Create an array of five values evenly spaced between 0 and 1\n",
        "np.linspace(0, 1, 5)"
      ],
      "execution_count": null,
      "outputs": [
        {
          "output_type": "execute_result",
          "data": {
            "text/plain": [
              "array([0.  , 0.25, 0.5 , 0.75, 1.  ])"
            ]
          },
          "metadata": {
            "tags": []
          },
          "execution_count": 121
        }
      ]
    },
    {
      "cell_type": "code",
      "metadata": {
        "colab": {
          "base_uri": "https://localhost:8080/"
        },
        "id": "A9ppTbh-dAJv",
        "outputId": "b4ab53aa-9995-41bc-f1f8-640d9b0e271a"
      },
      "source": [
        "# Create a 3x3 array of uniformly distributed\n",
        "# random values between 0 and 1\n",
        "a=np.random.random(size=(3,5))\n",
        "print(a)"
      ],
      "execution_count": null,
      "outputs": [
        {
          "output_type": "stream",
          "text": [
            "[[0.55329853 0.00637329 0.52392451 0.5378456  0.49919287]\n",
            " [0.37288652 0.87837944 0.4621888  0.12026353 0.36454461]\n",
            " [0.86523128 0.54717397 0.4216565  0.43825028 0.33394441]]\n"
          ],
          "name": "stdout"
        }
      ]
    },
    {
      "cell_type": "code",
      "metadata": {
        "colab": {
          "base_uri": "https://localhost:8080/"
        },
        "id": "vxFmi_0PdEuy",
        "outputId": "8ff77d57-ba8a-4c51-af17-936c8f25430f"
      },
      "source": [
        "# Create a 3x3 identity matrix\n",
        "np.eye(3)"
      ],
      "execution_count": null,
      "outputs": [
        {
          "output_type": "execute_result",
          "data": {
            "text/plain": [
              "array([[1., 0., 0.],\n",
              "       [0., 1., 0.],\n",
              "       [0., 0., 1.]])"
            ]
          },
          "metadata": {
            "tags": []
          },
          "execution_count": 123
        }
      ]
    },
    {
      "cell_type": "markdown",
      "metadata": {
        "id": "3T-2XfR4dWr8"
      },
      "source": [
        "# **Basics of NumPy Arrays**"
      ]
    },
    {
      "cell_type": "markdown",
      "metadata": {
        "id": "vV2Afl2XdinY"
      },
      "source": [
        "## **1. NumPy Array Attributes**\n",
        "*Determining the size, shape, memory consumption, and data types of arrays*"
      ]
    },
    {
      "cell_type": "code",
      "metadata": {
        "id": "OzB-3JBadaW_"
      },
      "source": [
        "#Define three random arrays, a one-dimensional, two-dimensional, and three-dimensional array. \n",
        "#We'll use NumPy's random number generator.\n",
        "#Use 'seed' to ensure that the same random arrays are generated each time this code is run.\n",
        "\n",
        "np.random.seed(0)  # seed for reproducibility\n",
        "\n",
        "x1 = np.random.randint(10, size=6)  # One-dimensional array\n",
        "x2 = np.random.randint(10, size=(3, 4))  # Two-dimensional array\n",
        "x3 = np.random.randint(10, size=(3, 4, 5))  # Three-dimensional array"
      ],
      "execution_count": 4,
      "outputs": []
    },
    {
      "cell_type": "code",
      "metadata": {
        "colab": {
          "base_uri": "https://localhost:8080/"
        },
        "id": "UQSUNLyweZBk",
        "outputId": "0afecc46-eeeb-488a-8143-f6cecd19d6d9"
      },
      "source": [
        "#Each array has attributes:\n",
        "# (1) ndim (the number of dimensions), \n",
        "# (2) shape (the size of each dimension), and \n",
        "# (3) size (the total size of the array)\n",
        "\n",
        "print(\"x3 ndim: \", x3.ndim)\n",
        "print(\"x3 shape:\", x3.shape)\n",
        "print(\"x3 size: \", x3.size)"
      ],
      "execution_count": 5,
      "outputs": [
        {
          "output_type": "stream",
          "text": [
            "x3 ndim:  3\n",
            "x3 shape: (3, 4, 5)\n",
            "x3 size:  60\n"
          ],
          "name": "stdout"
        }
      ]
    },
    {
      "cell_type": "markdown",
      "metadata": {
        "id": "1NtD_zQTewXv"
      },
      "source": [
        "## **2. NumPy Array Indexing**\n",
        "*Getting and setting the value of individual array elements*"
      ]
    },
    {
      "cell_type": "code",
      "metadata": {
        "id": "fqdgjcEdfpjA",
        "colab": {
          "base_uri": "https://localhost:8080/"
        },
        "outputId": "93c9b916-7156-4a9b-986f-be219d2d8156"
      },
      "source": [
        "#Print x1\n",
        "x1"
      ],
      "execution_count": 6,
      "outputs": [
        {
          "output_type": "execute_result",
          "data": {
            "text/plain": [
              "array([5, 0, 3, 3, 7, 9])"
            ]
          },
          "metadata": {
            "tags": []
          },
          "execution_count": 6
        }
      ]
    },
    {
      "cell_type": "code",
      "metadata": {
        "id": "ZjgVsji-f1FA",
        "colab": {
          "base_uri": "https://localhost:8080/"
        },
        "outputId": "be172ac3-9add-41b1-9077-2bee6860f8fc"
      },
      "source": [
        "#Access first element from x1 (1D Array)\n",
        "#This is similar to accessing elements from lists in Python\n",
        "x1[0]"
      ],
      "execution_count": 7,
      "outputs": [
        {
          "output_type": "execute_result",
          "data": {
            "text/plain": [
              "5"
            ]
          },
          "metadata": {
            "tags": []
          },
          "execution_count": 7
        }
      ]
    },
    {
      "cell_type": "code",
      "metadata": {
        "id": "2g1b54oFf1Hg",
        "colab": {
          "base_uri": "https://localhost:8080/"
        },
        "outputId": "f4f16eaf-6dc4-4797-88b0-1f4d6bee08b4"
      },
      "source": [
        "#Access second last element from x1\n",
        "x1[-2]"
      ],
      "execution_count": 8,
      "outputs": [
        {
          "output_type": "execute_result",
          "data": {
            "text/plain": [
              "7"
            ]
          },
          "metadata": {
            "tags": []
          },
          "execution_count": 8
        }
      ]
    },
    {
      "cell_type": "code",
      "metadata": {
        "id": "zIJuKm2agbvF",
        "colab": {
          "base_uri": "https://localhost:8080/"
        },
        "outputId": "85cccdc8-8ab4-43e5-9608-a749e5e9502f"
      },
      "source": [
        "#Print x2\n",
        "x2"
      ],
      "execution_count": 9,
      "outputs": [
        {
          "output_type": "execute_result",
          "data": {
            "text/plain": [
              "array([[3, 5, 2, 4],\n",
              "       [7, 6, 8, 8],\n",
              "       [1, 6, 7, 7]])"
            ]
          },
          "metadata": {
            "tags": []
          },
          "execution_count": 9
        }
      ]
    },
    {
      "cell_type": "code",
      "metadata": {
        "id": "YNmAF-Swf1Le",
        "colab": {
          "base_uri": "https://localhost:8080/"
        },
        "outputId": "f60977c6-665a-49f0-c051-c8c773b507b7"
      },
      "source": [
        "#Access element at first row, fist column in x2 (2D Array)\n",
        "x2[0, 0]"
      ],
      "execution_count": 10,
      "outputs": [
        {
          "output_type": "execute_result",
          "data": {
            "text/plain": [
              "3"
            ]
          },
          "metadata": {
            "tags": []
          },
          "execution_count": 10
        }
      ]
    },
    {
      "cell_type": "code",
      "metadata": {
        "id": "lWN0b9Obf1Nz",
        "colab": {
          "base_uri": "https://localhost:8080/"
        },
        "outputId": "469a1f0e-fd66-463a-a4f1-5a0c40f78bad"
      },
      "source": [
        "#Access element at third row, fourth column from reverse in x2 \n",
        "print(\"Old value:\", x2[2, -4])\n",
        "\n",
        "#Set value of element at third row, fourth column from reverse in x2 to 11\n",
        "x2[2, -4] = 11\n",
        "print(\"New value:\", x2[2, -4])"
      ],
      "execution_count": 11,
      "outputs": [
        {
          "output_type": "stream",
          "text": [
            "Old value: 1\n",
            "New value: 11\n"
          ],
          "name": "stdout"
        }
      ]
    },
    {
      "cell_type": "markdown",
      "metadata": {
        "id": "b6i3L8XVfJMm"
      },
      "source": [
        "## **3. NumPy Array Slicing**\n",
        "*Getting and setting smaller subarrays within a larger array*"
      ]
    },
    {
      "cell_type": "markdown",
      "metadata": {
        "id": "1wHwsD-NYX-7"
      },
      "source": [
        "Just as we can use square brackets to access individual array elements, we can also use them to access subarrays with the *slice* notation, marked by the colon (``:``) character.\n",
        "The NumPy slicing syntax follows that of the standard Python list; to access a slice of an array ``x``, use this:\n",
        "``` python\n",
        "x[start:stop:step]\n",
        "```\n",
        "If any of these are unspecified, they default to the values ``start=0``, ``stop=``*``size of dimension``*, ``step=1``.\n",
        "We'll take a look at accessing sub-arrays in one dimension and in multiple dimensions."
      ]
    },
    {
      "cell_type": "markdown",
      "metadata": {
        "id": "CbTu1RHuhwyO"
      },
      "source": [
        "### **3.1 One-dimensional subarrays**"
      ]
    },
    {
      "cell_type": "code",
      "metadata": {
        "id": "y1rGYuNQhe39",
        "colab": {
          "base_uri": "https://localhost:8080/"
        },
        "outputId": "0013b06e-4cee-4bbd-9000-709798248946"
      },
      "source": [
        "x1"
      ],
      "execution_count": 12,
      "outputs": [
        {
          "output_type": "execute_result",
          "data": {
            "text/plain": [
              "array([5, 0, 3, 3, 7, 9])"
            ]
          },
          "metadata": {
            "tags": []
          },
          "execution_count": 12
        }
      ]
    },
    {
      "cell_type": "code",
      "metadata": {
        "id": "gVwweQ1The6S",
        "colab": {
          "base_uri": "https://localhost:8080/"
        },
        "outputId": "84defb32-cb30-4388-d6b8-34cb26b3eea7"
      },
      "source": [
        "print(x1[:3])  # first three elements\n",
        "print(x1[4:])  # elements after index 4\n",
        "print(x1[1:4])  # middle sub-array\n",
        "print(x1[::-1])  # all elements, reversed\n",
        "print(x1[4::-2])  # reversed every other from index 4\n",
        "print(x1[::3])"
      ],
      "execution_count": 13,
      "outputs": [
        {
          "output_type": "stream",
          "text": [
            "[5 0 3]\n",
            "[7 9]\n",
            "[0 3 3]\n",
            "[9 7 3 3 0 5]\n",
            "[7 3 5]\n",
            "[5 3]\n"
          ],
          "name": "stdout"
        }
      ]
    },
    {
      "cell_type": "markdown",
      "metadata": {
        "id": "DIHEK1q3jEl5"
      },
      "source": [
        "### **3.2 Multi-dimensional subarrays**"
      ]
    },
    {
      "cell_type": "code",
      "metadata": {
        "id": "W9MNzpYche8Z",
        "colab": {
          "base_uri": "https://localhost:8080/"
        },
        "outputId": "6154b787-89dc-41a7-bd8c-81e883428d21"
      },
      "source": [
        "x2"
      ],
      "execution_count": 14,
      "outputs": [
        {
          "output_type": "execute_result",
          "data": {
            "text/plain": [
              "array([[ 3,  5,  2,  4],\n",
              "       [ 7,  6,  8,  8],\n",
              "       [11,  6,  7,  7]])"
            ]
          },
          "metadata": {
            "tags": []
          },
          "execution_count": 14
        }
      ]
    },
    {
      "cell_type": "code",
      "metadata": {
        "id": "EfcDBj-phfCW",
        "colab": {
          "base_uri": "https://localhost:8080/"
        },
        "outputId": "77555eba-ddcc-47cd-c50e-a6dc4aabcd7a"
      },
      "source": [
        "x2[:2, :3]  # two rows, three columns"
      ],
      "execution_count": 15,
      "outputs": [
        {
          "output_type": "execute_result",
          "data": {
            "text/plain": [
              "array([[3, 5, 2],\n",
              "       [7, 6, 8]])"
            ]
          },
          "metadata": {
            "tags": []
          },
          "execution_count": 15
        }
      ]
    },
    {
      "cell_type": "code",
      "metadata": {
        "id": "V6fWnjJxhfSm",
        "colab": {
          "base_uri": "https://localhost:8080/"
        },
        "outputId": "4ea77d1f-8d7c-4251-aab7-dd17dd339175"
      },
      "source": [
        "x2[:3, ::2]  # all rows, every other column"
      ],
      "execution_count": 16,
      "outputs": [
        {
          "output_type": "execute_result",
          "data": {
            "text/plain": [
              "array([[ 3,  2],\n",
              "       [ 7,  8],\n",
              "       [11,  7]])"
            ]
          },
          "metadata": {
            "tags": []
          },
          "execution_count": 16
        }
      ]
    },
    {
      "cell_type": "code",
      "metadata": {
        "id": "SwzQYafFhfVt",
        "colab": {
          "base_uri": "https://localhost:8080/"
        },
        "outputId": "11f5f48f-a503-4c02-caf9-4f1057263bc6"
      },
      "source": [
        "print(x2[:, 0])  # first column of x2"
      ],
      "execution_count": 17,
      "outputs": [
        {
          "output_type": "stream",
          "text": [
            "[ 3  7 11]\n"
          ],
          "name": "stdout"
        }
      ]
    },
    {
      "cell_type": "code",
      "metadata": {
        "id": "Y9_cdnrAjdYc",
        "colab": {
          "base_uri": "https://localhost:8080/"
        },
        "outputId": "760725d3-fc98-41bb-f135-2dcee08143f8"
      },
      "source": [
        "print(x2[-1, :])  # last row of x2"
      ],
      "execution_count": 18,
      "outputs": [
        {
          "output_type": "stream",
          "text": [
            "[11  6  7  7]\n"
          ],
          "name": "stdout"
        }
      ]
    },
    {
      "cell_type": "markdown",
      "metadata": {
        "id": "uE1nzj-Dl4N8"
      },
      "source": [
        "### **3.3 Creating copies of arrays**"
      ]
    },
    {
      "cell_type": "code",
      "metadata": {
        "id": "BJXAbglUjdeD",
        "colab": {
          "base_uri": "https://localhost:8080/"
        },
        "outputId": "20ae28b0-35e8-4c09-f29d-79a5c17a4dc5"
      },
      "source": [
        "print(x2)\n",
        "\n",
        "#Extract a  2×2  subarray from x2\n",
        "x2_sub = x2[:2, :2]\n",
        "print(\"\\n\", x2_sub)"
      ],
      "execution_count": 19,
      "outputs": [
        {
          "output_type": "stream",
          "text": [
            "[[ 3  5  2  4]\n",
            " [ 7  6  8  8]\n",
            " [11  6  7  7]]\n",
            "\n",
            " [[3 5]\n",
            " [7 6]]\n"
          ],
          "name": "stdout"
        }
      ]
    },
    {
      "cell_type": "code",
      "metadata": {
        "id": "PA1KSRldjdgj",
        "colab": {
          "base_uri": "https://localhost:8080/"
        },
        "outputId": "79ca8178-5a3c-4424-87d0-1dabffbea4c8"
      },
      "source": [
        "#Now if we modify this subarray, we'll see that the original array is changed!\n",
        "x2_sub[0, 0] = 99\n",
        "print(x2_sub)\n",
        "print(\"\\n\", x2)"
      ],
      "execution_count": 20,
      "outputs": [
        {
          "output_type": "stream",
          "text": [
            "[[99  5]\n",
            " [ 7  6]]\n",
            "\n",
            " [[99  5  2  4]\n",
            " [ 7  6  8  8]\n",
            " [11  6  7  7]]\n"
          ],
          "name": "stdout"
        }
      ]
    },
    {
      "cell_type": "code",
      "metadata": {
        "id": "bpE9hdLqm5TF",
        "colab": {
          "base_uri": "https://localhost:8080/"
        },
        "outputId": "070cc9fe-1eaf-46c1-874d-c39bc547f6a9"
      },
      "source": [
        "#To copy the data within an array or a subarray use the copy() method\n",
        "x2_sub_copy = x2[:2, :2].copy()\n",
        "print(x2_sub_copy)\n",
        "\n",
        "x2_sub_copy[0, 0] = 42\n",
        "print(\"\\n\", x2_sub_copy)\n",
        "\n",
        "print(\"\\n\", x2)"
      ],
      "execution_count": 21,
      "outputs": [
        {
          "output_type": "stream",
          "text": [
            "[[99  5]\n",
            " [ 7  6]]\n",
            "\n",
            " [[42  5]\n",
            " [ 7  6]]\n",
            "\n",
            " [[99  5  2  4]\n",
            " [ 7  6  8  8]\n",
            " [11  6  7  7]]\n"
          ],
          "name": "stdout"
        }
      ]
    },
    {
      "cell_type": "markdown",
      "metadata": {
        "id": "1VLKIwDkfKQj"
      },
      "source": [
        "## **4. NumPy Array Reshaping**\n",
        "*Changing the shape of a given array*"
      ]
    },
    {
      "cell_type": "code",
      "metadata": {
        "id": "vDTD3VQlqbqf",
        "colab": {
          "base_uri": "https://localhost:8080/"
        },
        "outputId": "bc801c7a-4d8e-4b65-f052-614a53946a82"
      },
      "source": [
        "grid = np.arange(1, 10)\n",
        "print(grid)\n",
        "\n",
        "grid = np.arange(1, 10).reshape((3, 3))\n",
        "print(\"\\n\", grid)"
      ],
      "execution_count": 22,
      "outputs": [
        {
          "output_type": "stream",
          "text": [
            "[1 2 3 4 5 6 7 8 9]\n",
            "\n",
            " [[1 2 3]\n",
            " [4 5 6]\n",
            " [7 8 9]]\n"
          ],
          "name": "stdout"
        }
      ]
    },
    {
      "cell_type": "code",
      "metadata": {
        "id": "JbnT1ihCqb3X",
        "colab": {
          "base_uri": "https://localhost:8080/"
        },
        "outputId": "4070ee0e-0525-46c0-c511-dc34a3fa1af2"
      },
      "source": [
        "x = np.array([1, 2, 3])\n",
        "print(x)\n",
        "\n",
        "# row vector via reshape\n",
        "print(\"\\n\", x.reshape((1, 3)))\n",
        "\n",
        "# column vector via reshape\n",
        "print(\"\\n\", x.reshape((3, 1)))"
      ],
      "execution_count": 23,
      "outputs": [
        {
          "output_type": "stream",
          "text": [
            "[1 2 3]\n",
            "\n",
            " [[1 2 3]]\n",
            "\n",
            " [[1]\n",
            " [2]\n",
            " [3]]\n"
          ],
          "name": "stdout"
        }
      ]
    },
    {
      "cell_type": "markdown",
      "metadata": {
        "id": "iPYzdesLqRUw"
      },
      "source": [
        "## **5. NumPy Array Concatenation and Splitting**\n",
        "*Combining multiple arrays into one, and splitting one array into many*"
      ]
    },
    {
      "cell_type": "code",
      "metadata": {
        "id": "Qli0kVAinUnZ",
        "colab": {
          "base_uri": "https://localhost:8080/"
        },
        "outputId": "65613a45-308a-481b-91a2-6395fb9c4c13"
      },
      "source": [
        "#Array concatenation: One-dimensional array\n",
        "\n",
        "x = np.array([1, 2, 3])\n",
        "y = np.array([3, 2, 1])\n",
        "z = np.array([99, 99, 99])\n",
        "print(np.concatenate([x, y, z]))"
      ],
      "execution_count": 24,
      "outputs": [
        {
          "output_type": "stream",
          "text": [
            "[ 1  2  3  3  2  1 99 99 99]\n"
          ],
          "name": "stdout"
        }
      ]
    },
    {
      "cell_type": "code",
      "metadata": {
        "id": "CVFdKo9gnVAn",
        "colab": {
          "base_uri": "https://localhost:8080/"
        },
        "outputId": "06c980f5-d8ef-4d4f-9a2f-cdf7658c4f5c"
      },
      "source": [
        "#Array concatenation: Two-dimensional array\n",
        "\n",
        "grid = np.array([[1, 2, 3],\n",
        "                 [4, 5, 6]])\n",
        "\n",
        "# concatenate along the first axis\n",
        "print(np.concatenate([grid, grid],axis=0))\n",
        "\n",
        "# concatenate along the second axis (zero-indexed)\n",
        "print(\"\\n\", np.concatenate([grid, grid], axis=1))"
      ],
      "execution_count": 25,
      "outputs": [
        {
          "output_type": "stream",
          "text": [
            "[[1 2 3]\n",
            " [4 5 6]\n",
            " [1 2 3]\n",
            " [4 5 6]]\n",
            "\n",
            " [[1 2 3 1 2 3]\n",
            " [4 5 6 4 5 6]]\n"
          ],
          "name": "stdout"
        }
      ]
    },
    {
      "cell_type": "code",
      "metadata": {
        "id": "AkSnqcutnVGS",
        "colab": {
          "base_uri": "https://localhost:8080/"
        },
        "outputId": "ae4c3498-f790-4e2b-fc14-dfe2627ccf33"
      },
      "source": [
        "#Array concatenation: Arrays with mixed dimensions\n",
        "\n",
        "#When working with arrays of mixed dimensions, it can be clearer to use:\n",
        "# (1) np.vstack (vertical stack) and \n",
        "# (2) np.hstack (horizontal stack) functions\n",
        "\n",
        "x = np.array([1, 2, 3])\n",
        "grid = np.array([[9, 8, 7],\n",
        "                 [6, 5, 4]])\n",
        "\n",
        "# vertically stack the arrays\n",
        "print(np.vstack([x, grid]))\n",
        "\n",
        "# horizontally stack the arrays\n",
        "y = np.array([[99],\n",
        "              [99]])\n",
        "print(\"\\n\", np.hstack([grid, y]))"
      ],
      "execution_count": 26,
      "outputs": [
        {
          "output_type": "stream",
          "text": [
            "[[1 2 3]\n",
            " [9 8 7]\n",
            " [6 5 4]]\n",
            "\n",
            " [[ 9  8  7 99]\n",
            " [ 6  5  4 99]]\n"
          ],
          "name": "stdout"
        }
      ]
    },
    {
      "cell_type": "code",
      "metadata": {
        "id": "5sey3m2Go1e3",
        "colab": {
          "base_uri": "https://localhost:8080/"
        },
        "outputId": "2944106f-5cf9-45d9-a833-1185f0aee5b8"
      },
      "source": [
        "#Splitting of arrays\n",
        "\n",
        "x = [1, 2, 3, 99, 99, 3, 2, 1]\n",
        "x1, x2 = np.split(x, [3]) #Here '3' and '5' are split indices\n",
        "print(x1, x2)"
      ],
      "execution_count": 27,
      "outputs": [
        {
          "output_type": "stream",
          "text": [
            "[1 2 3] [99 99  3  2  1]\n"
          ],
          "name": "stdout"
        }
      ]
    },
    {
      "cell_type": "code",
      "metadata": {
        "id": "n_pQ9w-ApdpL",
        "colab": {
          "base_uri": "https://localhost:8080/"
        },
        "outputId": "16f11eb0-daf4-43bc-c289-c8962580c235"
      },
      "source": [
        "grid = np.arange(16).reshape((4, 4))\n",
        "grid"
      ],
      "execution_count": 28,
      "outputs": [
        {
          "output_type": "execute_result",
          "data": {
            "text/plain": [
              "array([[ 0,  1,  2,  3],\n",
              "       [ 4,  5,  6,  7],\n",
              "       [ 8,  9, 10, 11],\n",
              "       [12, 13, 14, 15]])"
            ]
          },
          "metadata": {
            "tags": []
          },
          "execution_count": 28
        }
      ]
    },
    {
      "cell_type": "code",
      "metadata": {
        "id": "ygid9xE5p-Za",
        "colab": {
          "base_uri": "https://localhost:8080/"
        },
        "outputId": "78503aea-c8e5-4fec-dd8b-3e4e74ff6080"
      },
      "source": [
        "upper, lower = np.vsplit(grid, [2])\n",
        "print(upper)\n",
        "print(\"\\n\", lower)"
      ],
      "execution_count": 29,
      "outputs": [
        {
          "output_type": "stream",
          "text": [
            "[[0 1 2 3]\n",
            " [4 5 6 7]]\n",
            "\n",
            " [[ 8  9 10 11]\n",
            " [12 13 14 15]]\n"
          ],
          "name": "stdout"
        }
      ]
    },
    {
      "cell_type": "code",
      "metadata": {
        "id": "y1XJxcdFqDno",
        "colab": {
          "base_uri": "https://localhost:8080/"
        },
        "outputId": "bd670be6-cb7c-464e-b316-0b55680ecc0d"
      },
      "source": [
        "left, right = np.hsplit(grid, [2])\n",
        "print(left)\n",
        "print(\"\\n\", right)"
      ],
      "execution_count": 30,
      "outputs": [
        {
          "output_type": "stream",
          "text": [
            "[[ 0  1]\n",
            " [ 4  5]\n",
            " [ 8  9]\n",
            " [12 13]]\n",
            "\n",
            " [[ 2  3]\n",
            " [ 6  7]\n",
            " [10 11]\n",
            " [14 15]]\n"
          ],
          "name": "stdout"
        }
      ]
    },
    {
      "cell_type": "markdown",
      "metadata": {
        "id": "XPH9QQ-6rhVL"
      },
      "source": [
        "# **Computation on NumPy Arrays: Universal Functions (ufuncs)**"
      ]
    },
    {
      "cell_type": "code",
      "metadata": {
        "colab": {
          "base_uri": "https://localhost:8080/"
        },
        "id": "pTB6ctmIrnxm",
        "outputId": "da4cc21f-ee9d-47be-f352-da1ddbca2387"
      },
      "source": [
        "#Set 1: Array Arithmetic\n",
        "\n",
        "x = np.arange(4)\n",
        "print(\"x     =\", x)\n",
        "print(\"x + 2 =\", x + 2)\n",
        "print(\"x - 5 =\", x - 5)\n",
        "print(\"x * 2 =\", x * 2)\n",
        "print(\"x / 2 =\", x / 2)\n",
        "print(\"x // 2 =\", x // 2)  # floor division\n",
        "print(\"-x     = \", -x)\n",
        "print(\"x ** 2 = \", x ** 2)\n",
        "print(\"x % 2  = \", x % 2)"
      ],
      "execution_count": 3,
      "outputs": [
        {
          "output_type": "stream",
          "text": [
            "x     = [0 1 2 3]\n",
            "x + 2 = [2 3 4 5]\n",
            "x - 5 = [-5 -4 -3 -2]\n",
            "x * 2 = [0 2 4 6]\n",
            "x / 2 = [0.  0.5 1.  1.5]\n",
            "x // 2 = [0 0 1 1]\n",
            "-x     =  [ 0 -1 -2 -3]\n",
            "x ** 2 =  [0 1 4 9]\n",
            "x % 2  =  [0 1 0 1]\n"
          ],
          "name": "stdout"
        }
      ]
    },
    {
      "cell_type": "code",
      "metadata": {
        "id": "zTpxU4SLsf33"
      },
      "source": [
        "np.add(x, 2)"
      ],
      "execution_count": null,
      "outputs": []
    },
    {
      "cell_type": "markdown",
      "metadata": {
        "id": "mUjyFYQ-Ycg0"
      },
      "source": [
        "The following table lists the arithmetic operators implemented in NumPy:\n",
        "\n",
        "| Operator\t    | Equivalent ufunc    | Description                           |\n",
        "|---------------|---------------------|---------------------------------------|\n",
        "|``+``          |``np.add``           |Addition (e.g., ``1 + 1 = 2``)         |\n",
        "|``-``          |``np.subtract``      |Subtraction (e.g., ``3 - 2 = 1``)      |\n",
        "|``-``          |``np.negative``      |Unary negation (e.g., ``-2``)          |\n",
        "|``*``          |``np.multiply``      |Multiplication (e.g., ``2 * 3 = 6``)   |\n",
        "|``/``          |``np.divide``        |Division (e.g., ``3 / 2 = 1.5``)       |\n",
        "|``//``         |``np.floor_divide``  |Floor division (e.g., ``3 // 2 = 1``)  |\n",
        "|``**``         |``np.power``         |Exponentiation (e.g., ``2 ** 3 = 8``)  |\n",
        "|``%``          |``np.mod``           |Modulus/remainder (e.g., ``9 % 4 = 1``)|\n"
      ]
    },
    {
      "cell_type": "code",
      "metadata": {
        "colab": {
          "base_uri": "https://localhost:8080/"
        },
        "id": "7GBr33ZbstT8",
        "outputId": "a0a5ba74-e2cf-4068-fcfb-f0f733a0e8cb"
      },
      "source": [
        "#Set 2: Absolute Value\n",
        "\n",
        "x = np.array([-2, -1, 0, 1, 2])\n",
        "print(abs(x))\n",
        "print(np.absolute(x))\n",
        "print(np.abs(x))"
      ],
      "execution_count": 33,
      "outputs": [
        {
          "output_type": "stream",
          "text": [
            "[2 1 0 1 2]\n",
            "[2 1 0 1 2]\n",
            "[2 1 0 1 2]\n"
          ],
          "name": "stdout"
        }
      ]
    },
    {
      "cell_type": "code",
      "metadata": {
        "colab": {
          "base_uri": "https://localhost:8080/"
        },
        "id": "pT-1vy1ltAFi",
        "outputId": "a999d763-686a-4711-ee71-9dc33a13383a"
      },
      "source": [
        "#Set 3: Trigonometric Functions\n",
        "\n",
        "theta = np.linspace(0, np.pi, 3)\n",
        "print(\"theta      = \", theta)\n",
        "print(\"sin(theta) = \", np.sin(theta))\n",
        "print(\"cos(theta) = \", np.cos(theta))\n",
        "print(\"tan(theta) = \", np.tan(theta))\n",
        "\n",
        "x = [-1, 0, 1]\n",
        "print(\"\\nx         = \", x)\n",
        "print(\"arcsin(x) = \", np.arcsin(x))\n",
        "print(\"arccos(x) = \", np.arccos(x))\n",
        "print(\"arctan(x) = \", np.arctan(x))"
      ],
      "execution_count": 32,
      "outputs": [
        {
          "output_type": "stream",
          "text": [
            "theta      =  [0.         1.57079633 3.14159265]\n",
            "sin(theta) =  [0.0000000e+00 1.0000000e+00 1.2246468e-16]\n",
            "cos(theta) =  [ 1.000000e+00  6.123234e-17 -1.000000e+00]\n",
            "tan(theta) =  [ 0.00000000e+00  1.63312394e+16 -1.22464680e-16]\n",
            "\n",
            "x         =  [-1, 0, 1]\n",
            "arcsin(x) =  [-1.57079633  0.          1.57079633]\n",
            "arccos(x) =  [3.14159265 1.57079633 0.        ]\n",
            "arctan(x) =  [-0.78539816  0.          0.78539816]\n"
          ],
          "name": "stdout"
        }
      ]
    },
    {
      "cell_type": "code",
      "metadata": {
        "colab": {
          "base_uri": "https://localhost:8080/"
        },
        "id": "DerLcO6GtaPn",
        "outputId": "5bbdc053-56d1-463d-a640-b8b122bd005a"
      },
      "source": [
        "#Set 4: Exponents and Logarithms\n",
        "\n",
        "x = [1, 2, 3]\n",
        "print(\"x     =\", x)\n",
        "print(\"e^x   =\", np.exp(x))\n",
        "print(\"2^x   =\", np.exp2(x))\n",
        "print(\"3^x   =\", np.power(3, x))\n",
        "\n",
        "x = [1, 2, 4, 10]\n",
        "print(\"\\nx        =\", x)\n",
        "print(\"ln(x)    =\", np.log(x))\n",
        "print(\"log2(x)  =\", np.log2(x))\n",
        "print(\"log10(x) =\", np.log10(x))"
      ],
      "execution_count": 31,
      "outputs": [
        {
          "output_type": "stream",
          "text": [
            "x     = [1, 2, 3]\n",
            "e^x   = [ 2.71828183  7.3890561  20.08553692]\n",
            "2^x   = [2. 4. 8.]\n",
            "3^x   = [ 3  9 27]\n",
            "\n",
            "x        = [1, 2, 4, 10]\n",
            "ln(x)    = [0.         0.69314718 1.38629436 2.30258509]\n",
            "log2(x)  = [0.         1.         2.         3.32192809]\n",
            "log10(x) = [0.         0.30103    0.60205999 1.        ]\n"
          ],
          "name": "stdout"
        }
      ]
    },
    {
      "cell_type": "markdown",
      "metadata": {
        "id": "gFDVuAFqt15m"
      },
      "source": [
        "# **Aggregations: Min, Max, and Everything In Between**"
      ]
    },
    {
      "cell_type": "code",
      "metadata": {
        "colab": {
          "base_uri": "https://localhost:8080/"
        },
        "id": "1JG-Bw7Nunpw",
        "outputId": "09ea2d2f-18a4-4b9c-eaa1-fab29f29b745"
      },
      "source": [
        "x = np.arange(1, 11)\n",
        "print(x)"
      ],
      "execution_count": 34,
      "outputs": [
        {
          "output_type": "stream",
          "text": [
            "[ 1  2  3  4  5  6  7  8  9 10]\n"
          ],
          "name": "stdout"
        }
      ]
    },
    {
      "cell_type": "code",
      "metadata": {
        "colab": {
          "base_uri": "https://localhost:8080/"
        },
        "id": "Eu6xAoLku83X",
        "outputId": "b5f8fb24-10de-4a19-8ee9-8cd9969d145f"
      },
      "source": [
        "#Find min, max and sum over 1D array\n",
        "np.min(x), np.max(x), np.sum(x)"
      ],
      "execution_count": null,
      "outputs": [
        {
          "output_type": "execute_result",
          "data": {
            "text/plain": [
              "(1, 10, 55)"
            ]
          },
          "metadata": {
            "tags": []
          },
          "execution_count": 157
        }
      ]
    },
    {
      "cell_type": "code",
      "metadata": {
        "colab": {
          "base_uri": "https://localhost:8080/"
        },
        "id": "bUbyUyZ6vFKF",
        "outputId": "91b65657-dd71-4c0e-e1ab-dab81f97e462"
      },
      "source": [
        "#Create a multi-dimensional 3x3 array with values from 1 to 9\n",
        "M = np.arange(1, 10).reshape((3, 3))\n",
        "print(M)"
      ],
      "execution_count": 35,
      "outputs": [
        {
          "output_type": "stream",
          "text": [
            "[[1 2 3]\n",
            " [4 5 6]\n",
            " [7 8 9]]\n"
          ],
          "name": "stdout"
        }
      ]
    },
    {
      "cell_type": "code",
      "metadata": {
        "colab": {
          "base_uri": "https://localhost:8080/"
        },
        "id": "daI34dcBvYyP",
        "outputId": "7a32df70-1342-4a1d-e886-06f74fea2ea9"
      },
      "source": [
        "#Find min, max and sum over multidimensional array\n",
        "np.min(M), np.max(M), np.sum(M)"
      ],
      "execution_count": 36,
      "outputs": [
        {
          "output_type": "execute_result",
          "data": {
            "text/plain": [
              "(1, 9, 45)"
            ]
          },
          "metadata": {
            "tags": []
          },
          "execution_count": 36
        }
      ]
    },
    {
      "cell_type": "code",
      "metadata": {
        "colab": {
          "base_uri": "https://localhost:8080/"
        },
        "id": "nECnqaDiwGfy",
        "outputId": "5e1dc0a0-613e-4124-9b54-d86e16c892b3"
      },
      "source": [
        "# To find minimum value within each column specify 'axis=0'\n",
        "print(np.min(M, axis=0))\n",
        "\n",
        "# To find minimum value within each row specify 'axis=0'\n",
        "print(np.max(M, axis=1))"
      ],
      "execution_count": 37,
      "outputs": [
        {
          "output_type": "stream",
          "text": [
            "[1 2 3]\n",
            "[3 6 9]\n"
          ],
          "name": "stdout"
        }
      ]
    },
    {
      "cell_type": "code",
      "metadata": {
        "colab": {
          "base_uri": "https://localhost:8080/"
        },
        "id": "AxB3P7m50i_8",
        "outputId": "ff76c0a6-359a-48d4-c157-8b206f045cd8"
      },
      "source": [
        "#Assume 'heights' to be a NumPy array containing heights in centimeters of 15 individuals\n",
        "\n",
        "heights = np.array([189, 170, 189, 163, 183, 171, 185, 168, 173, 183, 173, 173, 175, 178, 183])\n",
        "\n",
        "print(\"Heights:           \", heights)\n",
        "print(\"Mean height:       \", np.mean(heights))\n",
        "print(\"Standard deviation:\", np.std(heights))\n",
        "print(\"Minimum height:    \", np.min(heights))\n",
        "print(\"Maximum height:    \", np.max(heights))\n",
        "print(\"25th percentile:   \", np.percentile(heights, 25))\n",
        "print(\"Median:            \", np.median(heights))\n",
        "print(\"75th percentile:   \", np.percentile(heights, 75))"
      ],
      "execution_count": 38,
      "outputs": [
        {
          "output_type": "stream",
          "text": [
            "Heights:            [189 170 189 163 183 171 185 168 173 183 173 173 175 178 183]\n",
            "Mean height:        177.06666666666666\n",
            "Standard deviation: 7.637335195530498\n",
            "Minimum height:     163\n",
            "Maximum height:     189\n",
            "25th percentile:    172.0\n",
            "Median:             175.0\n",
            "75th percentile:    183.0\n"
          ],
          "name": "stdout"
        }
      ]
    },
    {
      "cell_type": "markdown",
      "metadata": {
        "id": "ZhxsVZrTYapa"
      },
      "source": [
        "### Other aggregation functions\n",
        "\n",
        "NumPy provides many other aggregation functions, but we won't discuss them in detail here.\n",
        "Additionally, most aggregates have a ``NaN``-safe counterpart that computes the result while ignoring missing values, which are marked by the special IEEE floating-point ``NaN`` value (for a fuller discussion of missing data, see [Handling Missing Data](03.04-Missing-Values.ipynb)).\n",
        "Some of these ``NaN``-safe functions were not added until NumPy 1.8, so they will not be available in older NumPy versions.\n",
        "\n",
        "The following table provides a list of useful aggregation functions available in NumPy:\n",
        "\n",
        "|Function Name      |   NaN-safe Version  | Description                                   |\n",
        "|-------------------|---------------------|-----------------------------------------------|\n",
        "| ``np.sum``        | ``np.nansum``       | Compute sum of elements                       |\n",
        "| ``np.prod``       | ``np.nanprod``      | Compute product of elements                   |\n",
        "| ``np.mean``       | ``np.nanmean``      | Compute mean of elements                      |\n",
        "| ``np.std``        | ``np.nanstd``       | Compute standard deviation                    |\n",
        "| ``np.var``        | ``np.nanvar``       | Compute variance                              |\n",
        "| ``np.min``        | ``np.nanmin``       | Find minimum value                            |\n",
        "| ``np.max``        | ``np.nanmax``       | Find maximum value                            |\n",
        "| ``np.argmin``     | ``np.nanargmin``    | Find index of minimum value                   |\n",
        "| ``np.argmax``     | ``np.nanargmax``    | Find index of maximum value                   |\n",
        "| ``np.median``     | ``np.nanmedian``    | Compute median of elements                    |\n",
        "| ``np.percentile`` | ``np.nanpercentile``| Compute rank-based statistics of elements     |\n",
        "| ``np.any``        | N/A                 | Evaluate whether any elements are true        |\n",
        "| ``np.all``        | N/A                 | Evaluate whether all elements are true        |\n",
        "\n",
        "We will see these aggregates often throughout the rest of the book."
      ]
    },
    {
      "cell_type": "code",
      "metadata": {
        "colab": {
          "base_uri": "https://localhost:8080/"
        },
        "id": "ZJuF5bHbkTye",
        "outputId": "a54636a8-dfaf-417a-e411-d8cbfa6c9562"
      },
      "source": [
        "x=np.array([1,2,3,4,5,0,2,3,4])\n",
        "a=np.argmin(x)\n",
        "print(a)\n"
      ],
      "execution_count": 40,
      "outputs": [
        {
          "output_type": "stream",
          "text": [
            "5\n"
          ],
          "name": "stdout"
        }
      ]
    },
    {
      "cell_type": "markdown",
      "metadata": {
        "id": "HdV5uqjZ0ZEm"
      },
      "source": [
        "# **Sorting Arrays**"
      ]
    },
    {
      "cell_type": "code",
      "metadata": {
        "colab": {
          "base_uri": "https://localhost:8080/"
        },
        "id": "Ko-lMZeq2q2X",
        "outputId": "e6991542-bdab-4385-d239-2ecb4822c563"
      },
      "source": [
        "#Sort 'heights' array in the above section\n",
        "\n",
        "print(heights)\n",
        "print(np.sort(heights))"
      ],
      "execution_count": 41,
      "outputs": [
        {
          "output_type": "stream",
          "text": [
            "[189 170 189 163 183 171 185 168 173 183 173 173 175 178 183]\n",
            "[163 168 170 171 173 173 173 175 178 183 183 183 185 189 189]\n"
          ],
          "name": "stdout"
        }
      ]
    },
    {
      "cell_type": "code",
      "metadata": {
        "colab": {
          "base_uri": "https://localhost:8080/"
        },
        "id": "izIe59iz20ws",
        "outputId": "fcd9d0eb-b95b-45c5-f51a-6faf7ebc8fca"
      },
      "source": [
        "#A related function is 'argsort', which instead returns the indices of the sorted elements\n",
        "\n",
        "i = np.argsort(heights)\n",
        "print(i)"
      ],
      "execution_count": 42,
      "outputs": [
        {
          "output_type": "stream",
          "text": [
            "[ 3  7  1  5  8 10 11 12 13  4  9 14  6  0  2]\n"
          ],
          "name": "stdout"
        }
      ]
    },
    {
      "cell_type": "code",
      "metadata": {
        "colab": {
          "base_uri": "https://localhost:8080/"
        },
        "id": "XsywgEhZ3AOM",
        "outputId": "065ab75e-6226-4d0e-9f78-b6dc31d65b44"
      },
      "source": [
        "#Sorting along rows or columns\n",
        "\n",
        "rand = np.random.RandomState(42)\n",
        "X = rand.randint(0, 10, (4, 6))\n",
        "print(X)\n",
        "\n",
        "# sort each column of X\n",
        "print(\"\\n\", np.sort(X, axis=0))\n",
        "\n",
        "# sort each row of X\n",
        "print(\"\\n\", np.sort(X, axis=1))"
      ],
      "execution_count": 43,
      "outputs": [
        {
          "output_type": "stream",
          "text": [
            "[[6 3 7 4 6 9]\n",
            " [2 6 7 4 3 7]\n",
            " [7 2 5 4 1 7]\n",
            " [5 1 4 0 9 5]]\n",
            "\n",
            " [[2 1 4 0 1 5]\n",
            " [5 2 5 4 3 7]\n",
            " [6 3 7 4 6 7]\n",
            " [7 6 7 4 9 9]]\n",
            "\n",
            " [[3 4 6 6 7 9]\n",
            " [2 3 4 6 7 7]\n",
            " [1 2 4 5 7 7]\n",
            " [0 1 4 5 5 9]]\n"
          ],
          "name": "stdout"
        }
      ]
    },
    {
      "cell_type": "markdown",
      "metadata": {
        "id": "SwiYqcNH4t80"
      },
      "source": [
        "# **Structured Data: NumPy's Structured Arrays**"
      ]
    },
    {
      "cell_type": "markdown",
      "metadata": {
        "id": "yMRd8oHT5I_T"
      },
      "source": [
        "Imagine that we have several categories of data on a number of people (say, name, age, and weight), and we'd like to store these values for use in a Python program. It would be possible to store these in three separate arrays."
      ]
    },
    {
      "cell_type": "code",
      "metadata": {
        "id": "zm9Ahpoh4zI4"
      },
      "source": [
        "name = ['Alice', 'Bob', 'Cathy', 'Doug']\n",
        "age = [25, 45, 37, 19]\n",
        "weight = [55.0, 85.5, 68.0, 61.5]"
      ],
      "execution_count": 44,
      "outputs": []
    },
    {
      "cell_type": "markdown",
      "metadata": {
        "id": "704EZ_gw5VDM"
      },
      "source": [
        "But this is a bit clumsy. There's nothing here that tells us that the three arrays are related; it would be more natural if we could use a single structure to store all of this data. NumPy can handle this through structured arrays, which are arrays with compound data types."
      ]
    },
    {
      "cell_type": "code",
      "metadata": {
        "colab": {
          "base_uri": "https://localhost:8080/"
        },
        "id": "uWi9fgaT5X3C",
        "outputId": "036cd04d-7c95-46af-cdb7-936b21ae892e"
      },
      "source": [
        "x = np.zeros(4, dtype=int)\n",
        "print(\"x          =\", x)\n",
        "\n",
        "# Use a compound data type for structured arrays\n",
        "# Here 'U10' translates to \"Unicode string of maximum length 10,\" \n",
        "#       'i4' translates to \"4-byte (i.e., 32 bit) integer,\" and \n",
        "#       'f8' translates to \"8-byte (i.e., 64 bit) float.\"\n",
        "data = np.zeros(4, dtype={'names':('name', 'age', 'weight'),\n",
        "                          'formats':('U10', 'i4', 'f8')})\n",
        "\n",
        "print(\"data       =\", data)\n",
        "print(\"data.dtype =\", data.dtype)"
      ],
      "execution_count": 45,
      "outputs": [
        {
          "output_type": "stream",
          "text": [
            "x          = [0 0 0 0]\n",
            "data       = [('', 0, 0.) ('', 0, 0.) ('', 0, 0.) ('', 0, 0.)]\n",
            "data.dtype = [('name', '<U10'), ('age', '<i4'), ('weight', '<f8')]\n"
          ],
          "name": "stdout"
        }
      ]
    },
    {
      "cell_type": "code",
      "metadata": {
        "colab": {
          "base_uri": "https://localhost:8080/"
        },
        "id": "wn-Zxonc5aqP",
        "outputId": "b5331c69-115b-40ee-ad93-6452951f2b79"
      },
      "source": [
        "#Fill the empty container array with our list values\n",
        "data['name'] = name\n",
        "data['age'] = age\n",
        "data['weight'] = weight\n",
        "print(data)"
      ],
      "execution_count": 46,
      "outputs": [
        {
          "output_type": "stream",
          "text": [
            "[('Alice', 25, 55. ) ('Bob', 45, 85.5) ('Cathy', 37, 68. )\n",
            " ('Doug', 19, 61.5)]\n"
          ],
          "name": "stdout"
        }
      ]
    },
    {
      "cell_type": "code",
      "metadata": {
        "colab": {
          "base_uri": "https://localhost:8080/"
        },
        "id": "8uF_ZlY96TYm",
        "outputId": "7b6a6dc0-d43e-4095-a226-cd80ad2aaece"
      },
      "source": [
        "# Get all names\n",
        "print(\"Names                      :\", data['name'])\n",
        "\n",
        "# Get first row of data\n",
        "print(\"First row of data          :\", data[0])\n",
        "\n",
        "# Get the name from the last row\n",
        "print(\"Name from last row         :\", data[-1]['name'])\n",
        "\n",
        "# Get names where age is under 30\n",
        "print(\"Names where age is under 30:\", data[data['age'] < 30]['name'])"
      ],
      "execution_count": 47,
      "outputs": [
        {
          "output_type": "stream",
          "text": [
            "Names                      : ['Alice' 'Bob' 'Cathy' 'Doug']\n",
            "First row of data          : ('Alice', 25, 55.)\n",
            "Name from last row         : Doug\n",
            "Names where age is under 30: ['Alice' 'Doug']\n"
          ],
          "name": "stdout"
        }
      ]
    },
    {
      "cell_type": "markdown",
      "metadata": {
        "id": "2Rf8Z5FB0A0a"
      },
      "source": [
        "# **NumPy: Axes and Dimensions**"
      ]
    },
    {
      "cell_type": "code",
      "metadata": {
        "colab": {
          "base_uri": "https://localhost:8080/"
        },
        "id": "rByL26Z60m_O",
        "outputId": "6ed47827-b42c-4eb6-feef-be163c472158"
      },
      "source": [
        "#The vector has one axis since it is 1-dimensional. So you can only apply a \n",
        "#function across axis-0. Axes are always 0 indexed.\n",
        "\n",
        "np.sum([1,2,3,4], axis=0)"
      ],
      "execution_count": 48,
      "outputs": [
        {
          "output_type": "execute_result",
          "data": {
            "text/plain": [
              "10"
            ]
          },
          "metadata": {
            "tags": []
          },
          "execution_count": 48
        }
      ]
    },
    {
      "cell_type": "code",
      "metadata": {
        "colab": {
          "base_uri": "https://localhost:8080/"
        },
        "id": "RXFQD5m-2b2Y",
        "outputId": "9f6abb9b-7959-448c-c15d-053bbddbca6f"
      },
      "source": [
        "#Matrix is a 2-dimensional data so it has 2 axes.\n",
        "\n",
        "#Applying sum function across columns\n",
        "data = np.array([[1,2,3], [4,5,6]])\n",
        "print(data)\n",
        "\n",
        "sum = np.sum(data, axis=0) \n",
        "print(\"\\n\", sum)\n",
        "\n",
        "#Applying sum function across rows\n",
        "sum = np.sum(data, axis=1)\n",
        "print(\"\\n\", sum)\n",
        "\n",
        "#Providing no axis in the arguments to get the sum of all elements together\n",
        "sum = np.sum(data)\n",
        "print(\"\\n\", sum)"
      ],
      "execution_count": 49,
      "outputs": [
        {
          "output_type": "stream",
          "text": [
            "[[1 2 3]\n",
            " [4 5 6]]\n",
            "\n",
            " [5 7 9]\n",
            "\n",
            " [ 6 15]\n",
            "\n",
            " 21\n"
          ],
          "name": "stdout"
        }
      ]
    },
    {
      "cell_type": "code",
      "metadata": {
        "colab": {
          "base_uri": "https://localhost:8080/"
        },
        "id": "q9NWoJ-c3FL_",
        "outputId": "42aca731-16f6-4007-d9f1-6521731c68a7"
      },
      "source": [
        "#3-Dimensional data (Concept)\n",
        "#3D data is a collection of 2D data-points(matrix).\n",
        "\n",
        "#1. Applying sum function across axis-0 means you are summing all matrices together.\n",
        "#2. Applying sum function across axis-1 means you are summing all vectors inside each metrics.\n",
        "#3. Applying sum function across axis-2 means you are summing all scalars inside each Vector.\n",
        "\n",
        "data = np.array([[[1,1,1],\n",
        "                  [3,3,3]], \n",
        "                 \n",
        "                 [[2,2,2], \n",
        "                  [4,4,4]]])\n",
        "\n",
        "print(data)\n",
        "\n",
        "sum = np.sum(data, axis=0) \n",
        "print(\"\\n Output of axis=0:\\n\", sum)\n",
        "\n",
        "sum = np.sum(data, axis=1) \n",
        "print(\"\\n Output of axis=1:\\n\", sum)\n",
        "\n",
        "sum = np.sum(data, axis=2) \n",
        "print(\"\\n Output of axis=2:\\n\", sum)"
      ],
      "execution_count": 50,
      "outputs": [
        {
          "output_type": "stream",
          "text": [
            "[[[1 1 1]\n",
            "  [3 3 3]]\n",
            "\n",
            " [[2 2 2]\n",
            "  [4 4 4]]]\n",
            "\n",
            " Output of axis=0:\n",
            " [[3 3 3]\n",
            " [7 7 7]]\n",
            "\n",
            " Output of axis=1:\n",
            " [[4 4 4]\n",
            " [6 6 6]]\n",
            "\n",
            " Output of axis=2:\n",
            " [[ 3  9]\n",
            " [ 6 12]]\n"
          ],
          "name": "stdout"
        }
      ]
    },
    {
      "cell_type": "code",
      "metadata": {
        "id": "cxm0JUBU2S49"
      },
      "source": [
        ""
      ],
      "execution_count": null,
      "outputs": []
    }
  ]
}