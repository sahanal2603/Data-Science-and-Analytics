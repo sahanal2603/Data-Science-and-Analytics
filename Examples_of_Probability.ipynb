{
  "nbformat": 4,
  "nbformat_minor": 0,
  "metadata": {
    "colab": {
      "name": "Examples of Probability.ipynb",
      "provenance": [],
      "authorship_tag": "ABX9TyMefHAisnJ0/qClui+Knr/x",
      "include_colab_link": true
    },
    "kernelspec": {
      "name": "python3",
      "display_name": "Python 3"
    }
  },
  "cells": [
    {
      "cell_type": "markdown",
      "metadata": {
        "id": "view-in-github",
        "colab_type": "text"
      },
      "source": [
        "<a href=\"https://colab.research.google.com/github/sahanal2603/Data-Science-and-Analytics/blob/master/Examples_of_Probability.ipynb\" target=\"_parent\"><img src=\"https://colab.research.google.com/assets/colab-badge.svg\" alt=\"Open In Colab\"/></a>"
      ]
    },
    {
      "cell_type": "code",
      "metadata": {
        "id": "32oSVVjI3Btv"
      },
      "source": [
        "import numpy as np\r\n",
        "import matplotlib.pyplot as plt"
      ],
      "execution_count": 1,
      "outputs": []
    },
    {
      "cell_type": "code",
      "metadata": {
        "id": "MHtap7sJ3MMI"
      },
      "source": [
        "# to define a function for integration \r\n",
        "# takes as input, an array of x, and returns its integral\r\n",
        "# to integrate a function of x; \r\n",
        "# integral = area under the curve, area upto the point\r\n",
        "# delta_x = x[i+1] - x[i]\r\n",
        "# integral[i] = integral[i-1] + delta_x * (y[i+1] + y[i]) * 0.5\r\n",
        "\r\n",
        "def my_integral(x,y):\r\n",
        "    N = len(x)\r\n",
        "    integral = []\r\n",
        "    integral.append(0)\r\n",
        "\r\n",
        "    delta_x = x[1] - x[0]\r\n",
        "    for i in range(N-1):\r\n",
        "        temp1 = delta_x * (y[i+1] + y[i]) * 0.5\r\n",
        "        temp2 = integral[i] + temp1\r\n",
        "        integral.append(temp2)\r\n",
        "    return integral"
      ],
      "execution_count": 2,
      "outputs": []
    },
    {
      "cell_type": "code",
      "metadata": {
        "id": "DQYqQzXO3OuE"
      },
      "source": [
        "# To have a function that generates the Gaussian Distribution \r\n",
        "# Mean = average = mew \r\n",
        "# Standard Deviation = Sigma\r\n",
        "# for given input array x\r\n",
        "\r\n",
        "def my_gaussian(mew,sigma,x):\r\n",
        "    N = len(x)\r\n",
        "    y = []\r\n",
        "\r\n",
        "    const1 = sigma**2\r\n",
        "    const2 = 2*np.pi\r\n",
        "    const3 = 1/sigma/np.sqrt(const2)\r\n",
        "\r\n",
        "    for i in range(N):\r\n",
        "        temp1 = (x[i] - mew)**2\r\n",
        "        temp2 = 0.5 * temp1 / const1\r\n",
        "        temp3 = np.exp(-temp2) \r\n",
        "        temp4 = const3*temp3\r\n",
        "        y.append(temp4)\r\n",
        "    \r\n",
        "    return y\r\n"
      ],
      "execution_count": 3,
      "outputs": []
    },
    {
      "cell_type": "code",
      "metadata": {
        "colab": {
          "base_uri": "https://localhost:8080/",
          "height": 421
        },
        "id": "-9XxsU-23PzI",
        "outputId": "c64df366-f8ae-4175-d8f4-0d9579826de6"
      },
      "source": [
        "# Example 5\r\n",
        "# to generate a Gaussian Distribution \r\n",
        "# and then integrate it\r\n",
        "\r\n",
        "N=301\r\n",
        "x = np.linspace(-10, 10, N)\r\n",
        "\r\n",
        "mew = -2\r\n",
        "sigma = 2\r\n",
        "\r\n",
        "y= my_gaussian(mew, sigma, x)\r\n",
        "\r\n",
        "integral_fx = my_integral(x,y)\r\n",
        "\r\n",
        "plt.figure(figsize=(8,6))\r\n",
        "plt.plot(x,y, label='f(x)', lw=5)\r\n",
        "plt.plot(x,integral_fx, label= ' integral f(x)')\r\n",
        "plt.grid()\r\n",
        "plt.xlabel('x')\r\n",
        "plt.title('Gaussian Distribution Function and its integral')\r\n",
        "plt.legend()"
      ],
      "execution_count": 4,
      "outputs": [
        {
          "output_type": "execute_result",
          "data": {
            "text/plain": [
              "<matplotlib.legend.Legend at 0x7f6a516fca90>"
            ]
          },
          "metadata": {
            "tags": []
          },
          "execution_count": 4
        },
        {
          "output_type": "display_data",
          "data": {
            "image/png": "[encoded data removed]",
            "text/plain": [
              "<Figure size 576x432 with 1 Axes>"
            ]
          },
          "metadata": {
            "tags": [],
            "needs_background": "light"
          }
        }
      ]
    },
    {
      "cell_type": "code",
      "metadata": {
        "colab": {
          "base_uri": "https://localhost:8080/"
        },
        "id": "OlusjTpO3ZcH",
        "outputId": "05adc9ec-8229-4458-aa5c-5e65a9c5ce87"
      },
      "source": [
        "# Example 6\r\n",
        "# to compute the area within (mew-sigma) to (mew+sigma) of a Gaussian Distribution \r\n",
        "# we compute the integral in the specified limits\r\n",
        "\r\n",
        "mew = -2\r\n",
        "sigma = 2\r\n",
        "N=100\r\n",
        "x = np.linspace((mew-sigma), (mew+sigma), N)\r\n",
        "\r\n",
        "y= my_gaussian(mew, sigma, x)\r\n",
        "\r\n",
        "integral_fx = my_integral(x,y)\r\n",
        "required_area = integral_fx[-1] * 100\r\n",
        "\r\n",
        "print('\\n Area within the one sigma limits (in percentage) = ', required_area )"
      ],
      "execution_count": 5,
      "outputs": [
        {
          "output_type": "stream",
          "text": [
            "\n",
            " Area within the one sigma limits (in percentage) =  68.26730329991449\n"
          ],
          "name": "stdout"
        }
      ]
    },
    {
      "cell_type": "code",
      "metadata": {
        "colab": {
          "base_uri": "https://localhost:8080/",
          "height": 421
        },
        "id": "IQ0ra8In3beo",
        "outputId": "1c6e53bd-d978-4da2-f261-95e3e478f49a"
      },
      "source": [
        "# Example 7\r\n",
        "# to generate a Uniform Distribution, in the limits of x=(a,b)\r\n",
        "# and then integrate it\r\n",
        "\r\n",
        "a=2\r\n",
        "b=4\r\n",
        "N=100\r\n",
        "x = np.linspace(a-2, b+2, N)\r\n",
        "y=[]\r\n",
        "\r\n",
        "for i in range(N):\r\n",
        "    if x[i] > a and x[i] < b:\r\n",
        "        temp = 1/(b-a)\r\n",
        "    else:\r\n",
        "        temp = 0\r\n",
        "    y.append(temp)\r\n",
        " \r\n",
        "integral_fx = my_integral(x,y)\r\n",
        "\r\n",
        "plt.figure(figsize=(8,6))\r\n",
        "plt.plot(x,y, label='f(x)', lw=5)\r\n",
        "plt.plot(x,integral_fx, label= ' integral f(x)')\r\n",
        "plt.grid()\r\n",
        "plt.xlabel('x')\r\n",
        "plt.title('Uniform Distribution Function and its integral')\r\n",
        "plt.legend()"
      ],
      "execution_count": 6,
      "outputs": [
        {
          "output_type": "execute_result",
          "data": {
            "text/plain": [
              "<matplotlib.legend.Legend at 0x7f6a51188850>"
            ]
          },
          "metadata": {
            "tags": []
          },
          "execution_count": 6
        },
        {
          "output_type": "display_data",
          "data": {
            "image/png": "[encoded data removed]",
            "text/plain": [
              "<Figure size 576x432 with 1 Axes>"
            ]
          },
          "metadata": {
            "tags": [],
            "needs_background": "light"
          }
        }
      ]
    },
    {
      "cell_type": "code",
      "metadata": {
        "colab": {
          "base_uri": "https://localhost:8080/",
          "height": 421
        },
        "id": "em6hBCAI3emQ",
        "outputId": "898f2954-04ac-4ac8-c604-efd9f923031e"
      },
      "source": [
        "# Example 8\r\n",
        "# to generate a Exponential Distribution\r\n",
        "# and then integrate it\r\n",
        "\r\n",
        "a=0.7\r\n",
        "N=100\r\n",
        "x = np.linspace(-2, 6, N)\r\n",
        "y=[]\r\n",
        "\r\n",
        "for i in range(N):\r\n",
        "    if x[i] > 0:\r\n",
        "        temp = (a) * np.exp( -a * x[i] )\r\n",
        "    else:\r\n",
        "        temp = 0\r\n",
        "    y.append(temp)\r\n",
        " \r\n",
        "integral_fx = my_integral(x,y)\r\n",
        "\r\n",
        "plt.figure(figsize=(8,6))\r\n",
        "plt.plot(x,y, label='f(x)', lw=5)\r\n",
        "plt.plot(x,integral_fx, label= ' integral f(x)')\r\n",
        "plt.grid()\r\n",
        "plt.xlabel('x')\r\n",
        "plt.title('Exponential Distribution Function and its integral')\r\n",
        "plt.legend()"
      ],
      "execution_count": 7,
      "outputs": [
        {
          "output_type": "execute_result",
          "data": {
            "text/plain": [
              "<matplotlib.legend.Legend at 0x7f6a51121250>"
            ]
          },
          "metadata": {
            "tags": []
          },
          "execution_count": 7
        },
        {
          "output_type": "display_data",
          "data": {
            "image/png": "[encoded data removed]",
            "text/plain": [
              "<Figure size 576x432 with 1 Axes>"
            ]
          },
          "metadata": {
            "tags": [],
            "needs_background": "light"
          }
        }
      ]
    },
    {
      "cell_type": "code",
      "metadata": {
        "colab": {
          "base_uri": "https://localhost:8080/"
        },
        "id": "rKiyWssU3tMh",
        "outputId": "d57671d1-82cc-4583-f5fb-b28c5227d8ff"
      },
      "source": [
        "# to write a function to compute factorial of a given number\r\n",
        "\r\n",
        "def my_factorial(k):\r\n",
        "    val = 1\r\n",
        "    for i in range(1,k+1):\r\n",
        "        val = val*i\r\n",
        "    return val\r\n",
        "\r\n",
        "print('Factorial = ', my_factorial(4))"
      ],
      "execution_count": 14,
      "outputs": [
        {
          "output_type": "stream",
          "text": [
            "Factorial =  24\n"
          ],
          "name": "stdout"
        }
      ]
    },
    {
      "cell_type": "code",
      "metadata": {
        "colab": {
          "base_uri": "https://localhost:8080/",
          "height": 682
        },
        "id": "dEisq2W13y0u",
        "outputId": "e6d30432-d395-403f-83dd-43c0bb1ceb1d"
      },
      "source": [
        "# The discrete Poisson Distribution\r\n",
        "# P(x=k)= (lamda^k) * exp(-lamda) / k! \r\n",
        "\r\n",
        "lmd = 9.5\r\n",
        "\r\n",
        "# to compute the Poisson distribution for k = 0 to 12\r\n",
        "\r\n",
        "N = 15\r\n",
        "poisson_k =[]\r\n",
        "\r\n",
        "for i in range(N):\r\n",
        "    temp = (lmd**i) * (np.exp(-lmd)) /my_factorial(i)\r\n",
        "    poisson_k.append(temp)\r\n",
        "    \r\n",
        "k=np.arange(N)\r\n",
        "\r\n",
        "plt.scatter(k,poisson_k)\r\n",
        "plt.grid()\r\n",
        "plt.xlabel('x')\r\n",
        "plt.ylabel('P(k)')\r\n",
        "plt.title('Poisson Density Function')\r\n",
        "\r\n",
        "print('\\n Sum of the probabilities = ',np.sum(poisson_k))\r\n",
        "print('\\n')\r\n",
        "print(np.dot(k,poisson_k))\r\n",
        "\r\n",
        "print( 'Number of Arrivals        Proability')\r\n",
        "for i in range(N):\r\n",
        "    print('\\t',i, ' \\t \\t ', round(poisson_k[i],2))\r\n",
        "\r\n",
        "print('\\n')"
      ],
      "execution_count": 18,
      "outputs": [
        {
          "output_type": "stream",
          "text": [
            "\n",
            " Sum of the probabilities =  0.9400080113903245\n",
            "\n",
            "\n",
            "8.532291340107678\n",
            "Number of Arrivals        Proability\n",
            "\t 0  \t \t  0.0\n",
            "\t 1  \t \t  0.0\n",
            "\t 2  \t \t  0.0\n",
            "\t 3  \t \t  0.01\n",
            "\t 4  \t \t  0.03\n",
            "\t 5  \t \t  0.05\n",
            "\t 6  \t \t  0.08\n",
            "\t 7  \t \t  0.1\n",
            "\t 8  \t \t  0.12\n",
            "\t 9  \t \t  0.13\n",
            "\t 10  \t \t  0.12\n",
            "\t 11  \t \t  0.11\n",
            "\t 12  \t \t  0.08\n",
            "\t 13  \t \t  0.06\n",
            "\t 14  \t \t  0.04\n",
            "\n",
            "\n"
          ],
          "name": "stdout"
        },
        {
          "output_type": "display_data",
          "data": {
            "image/png": "[encoded data removed]",
            "text/plain": [
              "<Figure size 432x288 with 1 Axes>"
            ]
          },
          "metadata": {
            "tags": [],
            "needs_background": "light"
          }
        }
      ]
    },
    {
      "cell_type": "code",
      "metadata": {
        "colab": {
          "base_uri": "https://localhost:8080/",
          "height": 483
        },
        "id": "gQ_E11vs310G",
        "outputId": "3a17e9be-15a1-4cde-b740-2dea1d59d452"
      },
      "source": [
        "# let us toss a coin N times\r\n",
        "\r\n",
        "N = 6\r\n",
        "outcome=[]\r\n",
        "#np.random.seed(45)\r\n",
        "for i in range(N):\r\n",
        "    a = np.random.randint(2)\r\n",
        "    if a == 1:\r\n",
        "        print(' Head')\r\n",
        "    else:\r\n",
        "        print('\\t\\t Tail')\r\n",
        "    outcome.append(a)\r\n",
        "\r\n",
        "# to count the number of Heads and Tails\r\n",
        "count_head=0\r\n",
        "count_tail=0\r\n",
        "\r\n",
        "for i in range(N):\r\n",
        "    if outcome[i]==1:\r\n",
        "        count_head +=1\r\n",
        "    else: \r\n",
        "        count_tail +=1\r\n",
        "\r\n",
        "print('\\nNumber of Heads in experiment = ', count_head)\r\n",
        "print('Number of Tails in experiment = ', count_tail)\r\n",
        "\r\n",
        "print('\\nProbability of Heads in experiment = ', count_head/N)\r\n",
        "print('Probability of Tails in experiment = ', count_tail/N)\r\n",
        "\r\n",
        "plt.bar([0,1], [count_head, count_tail])"
      ],
      "execution_count": 27,
      "outputs": [
        {
          "output_type": "stream",
          "text": [
            " Head\n",
            " Head\n",
            " Head\n",
            "\t\t Tail\n",
            " Head\n",
            "\t\t Tail\n",
            "\n",
            "Number of Heads in experiment =  4\n",
            "Number of Tails in experiment =  2\n",
            "\n",
            "Probability of Heads in experiment =  0.6666666666666666\n",
            "Probability of Tails in experiment =  0.3333333333333333\n"
          ],
          "name": "stdout"
        },
        {
          "output_type": "execute_result",
          "data": {
            "text/plain": [
              "<BarContainer object of 2 artists>"
            ]
          },
          "metadata": {
            "tags": []
          },
          "execution_count": 27
        },
        {
          "output_type": "display_data",
          "data": {
            "image/png": "[encoded data removed]",
            "text/plain": [
              "<Figure size 432x288 with 1 Axes>"
            ]
          },
          "metadata": {
            "tags": [],
            "needs_background": "light"
          }
        }
      ]
    },
    {
      "cell_type": "code",
      "metadata": {
        "colab": {
          "base_uri": "https://localhost:8080/"
        },
        "id": "FHdl9RIe3-FU",
        "outputId": "e5e2215d-5094-47fd-9bcb-1e546fb5187d"
      },
      "source": [
        "# let us roll the dice\r\n",
        "\r\n",
        "N = 6\r\n",
        "outcome=[]\r\n",
        "\r\n",
        "for i in range(N):\r\n",
        "    a = np.random.randint(1,7)\r\n",
        "    print(a)\r\n",
        "    outcome.append(a)\r\n"
      ],
      "execution_count": 29,
      "outputs": [
        {
          "output_type": "stream",
          "text": [
            "5\n",
            "3\n",
            "5\n",
            "1\n",
            "5\n",
            "2\n"
          ],
          "name": "stdout"
        }
      ]
    },
    {
      "cell_type": "code",
      "metadata": {
        "colab": {
          "base_uri": "https://localhost:8080/",
          "height": 399
        },
        "id": "yM1HTPU74C-K",
        "outputId": "da61591d-d665-49fb-8fdc-fc9928ab96c3"
      },
      "source": [
        "# let us roll the dice\r\n",
        "\r\n",
        "N = 100\r\n",
        "outcome=[]\r\n",
        "#np.random.seed(45)\r\n",
        "\r\n",
        "for i in range(N):\r\n",
        "    a = np.random.randint(1,7)\r\n",
        "    outcome.append(a)\r\n",
        "\r\n",
        "value, count=np.unique(outcome,return_counts=True)\r\n",
        "print(value, count)\r\n",
        "\r\n",
        "N= np.sum(count)\r\n",
        "M=len(value)\r\n",
        "for i in range(M):\r\n",
        "  print('probability of ', value[i], ' = ', round(count[i]/N,2) )\r\n",
        "\r\n",
        "\r\n",
        "plt.bar(value, count)\r\n"
      ],
      "execution_count": 44,
      "outputs": [
        {
          "output_type": "stream",
          "text": [
            "[1 2 3 4 5 6] [14 15 16 16 21 18]\n",
            "probability of  1  =  0.14\n",
            "probability of  2  =  0.15\n",
            "probability of  3  =  0.16\n",
            "probability of  4  =  0.16\n",
            "probability of  5  =  0.21\n",
            "probability of  6  =  0.18\n"
          ],
          "name": "stdout"
        },
        {
          "output_type": "execute_result",
          "data": {
            "text/plain": [
              "<BarContainer object of 6 artists>"
            ]
          },
          "metadata": {
            "tags": []
          },
          "execution_count": 44
        },
        {
          "output_type": "display_data",
          "data": {
            "image/png": "[encoded data removed]",
            "text/plain": [
              "<Figure size 432x288 with 1 Axes>"
            ]
          },
          "metadata": {
            "tags": [],
            "needs_background": "light"
          }
        }
      ]
    }
  ]
}