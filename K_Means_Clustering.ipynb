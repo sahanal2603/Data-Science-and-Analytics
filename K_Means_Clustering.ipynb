{
  "nbformat": 4,
  "nbformat_minor": 0,
  "metadata": {
    "colab": {
      "name": "K Means Clustering.ipynb",
      "provenance": [],
      "authorship_tag": "ABX9TyNAQbZHj7HvxwpoXurqx/WR",
      "include_colab_link": true
    },
    "kernelspec": {
      "name": "python3",
      "display_name": "Python 3"
    },
    "language_info": {
      "name": "python"
    }
  },
  "cells": [
    {
      "cell_type": "markdown",
      "metadata": {
        "id": "view-in-github",
        "colab_type": "text"
      },
      "source": [
        "<a href=\"https://colab.research.google.com/github/sahanal2603/Data-Science-and-Analytics/blob/master/K_Means_Clustering.ipynb\" target=\"_parent\"><img src=\"https://colab.research.google.com/assets/colab-badge.svg\" alt=\"Open In Colab\"/></a>"
      ]
    },
    {
      "cell_type": "code",
      "metadata": {
        "colab": {
          "base_uri": "https://localhost:8080/"
        },
        "id": "XWKfcFfwbIvM",
        "outputId": "bf1f80e5-7ae9-4ac9-c451-5a5c368cfaa7"
      },
      "source": [
        "#import necessary libraries\n",
        "import matplotlib.pyplot as plt\n",
        "import seaborn as sns; sns.set()\n",
        "import numpy as np\n",
        "from sklearn.cluster import KMeans\n",
        "from sklearn.datasets.samples_generator import make_blobs"
      ],
      "execution_count": 1,
      "outputs": [
        {
          "output_type": "stream",
          "text": [
            "/usr/local/lib/python3.7/dist-packages/sklearn/utils/deprecation.py:144: FutureWarning: The sklearn.datasets.samples_generator module is  deprecated in version 0.22 and will be removed in version 0.24. The corresponding classes / functions should instead be imported from sklearn.datasets. Anything that cannot be imported from sklearn.datasets is now part of the private API.\n",
            "  warnings.warn(message, FutureWarning)\n"
          ],
          "name": "stderr"
        }
      ]
    },
    {
      "cell_type": "code",
      "metadata": {
        "colab": {
          "base_uri": "https://localhost:8080/",
          "height": 419
        },
        "id": "XufUcRlpbQjH",
        "outputId": "7a392879-b872-4bce-bdfb-4b594ea3406e"
      },
      "source": [
        "# Our Example\n",
        "X = np.array([[1,3], [1,4], [2,3],[2,4],[4,1],[5,1],[4,2],[5,2]])\n",
        "\n",
        "print(X)\n",
        "plt.scatter(X[:,0],X[:,1])"
      ],
      "execution_count": 2,
      "outputs": [
        {
          "output_type": "stream",
          "text": [
            "[[1 3]\n",
            " [1 4]\n",
            " [2 3]\n",
            " [2 4]\n",
            " [4 1]\n",
            " [5 1]\n",
            " [4 2]\n",
            " [5 2]]\n"
          ],
          "name": "stdout"
        },
        {
          "output_type": "execute_result",
          "data": {
            "text/plain": [
              "<matplotlib.collections.PathCollection at 0x7f938395d3d0>"
            ]
          },
          "metadata": {
            "tags": []
          },
          "execution_count": 2
        },
        {
          "output_type": "display_data",
          "data": {
            "image/png": "[encoded data removed]",
            "text/plain": [
              "<Figure size 432x288 with 1 Axes>"
            ]
          },
          "metadata": {
            "tags": [],
            "needs_background": "light"
          }
        }
      ]
    },
    {
      "cell_type": "code",
      "metadata": {
        "colab": {
          "base_uri": "https://localhost:8080/",
          "height": 302
        },
        "id": "UKTd7Rb7bTVG",
        "outputId": "60d1ac27-06d9-44a1-f792-a6f82b818158"
      },
      "source": [
        "model = KMeans(n_clusters = 2, )\n",
        "\n",
        "model.fit(X) #training on given data\n",
        "y_hat = model.predict(X)\n",
        "\n",
        "plt.scatter(X[:, 0], X[:, 1], c = y_hat, s = 40, cmap = 'summer')\n",
        "\n",
        "centers = model.cluster_centers_\n",
        "\n",
        "plt.scatter(centers[:, 0], centers[:, 1], c = 'blue', s = 120, alpha = 0.9);\n",
        "plt.show()\n",
        "\n",
        "print(centers)"
      ],
      "execution_count": 3,
      "outputs": [
        {
          "output_type": "display_data",
          "data": {
            "image/png": "[encoded data removed]",
            "text/plain": [
              "<Figure size 432x288 with 1 Axes>"
            ]
          },
          "metadata": {
            "tags": [],
            "needs_background": "light"
          }
        },
        {
          "output_type": "stream",
          "text": [
            "[[1.5 3.5]\n",
            " [4.5 1.5]]\n"
          ],
          "name": "stdout"
        }
      ]
    },
    {
      "cell_type": "code",
      "metadata": {
        "id": "nXNkujclbUwX"
      },
      "source": [
        "#Example-1\n",
        "\n",
        "#generate dummy data using make_blobs\n",
        "X, y_true = make_blobs(n_samples = 120, centers = 3, cluster_std = 0.8, random_state = 42, )"
      ],
      "execution_count": 8,
      "outputs": []
    },
    {
      "cell_type": "code",
      "metadata": {
        "colab": {
          "base_uri": "https://localhost:8080/",
          "height": 268
        },
        "id": "XKLI_mCEjawf",
        "outputId": "8841c4e3-fb39-48a1-9b18-ef1f602b2e27"
      },
      "source": [
        "plt.scatter(X[:, 0], X[:, 1], s = 15);\n",
        "\n",
        "plt.show()\n",
        "#print(X)\n"
      ],
      "execution_count": 9,
      "outputs": [
        {
          "output_type": "display_data",
          "data": {
            "image/png": "[encoded data removed]",
            "text/plain": [
              "<Figure size 432x288 with 1 Axes>"
            ]
          },
          "metadata": {
            "tags": [],
            "needs_background": "light"
          }
        }
      ]
    },
    {
      "cell_type": "code",
      "metadata": {
        "colab": {
          "base_uri": "https://localhost:8080/"
        },
        "id": "NbvWJB9JjdkV",
        "outputId": "e2f93685-eb58-4e3e-80df-c82617beba3a"
      },
      "source": [
        "y_true\n"
      ],
      "execution_count": 10,
      "outputs": [
        {
          "output_type": "execute_result",
          "data": {
            "text/plain": [
              "array([0, 0, 0, 0, 2, 0, 2, 0, 0, 2, 1, 1, 1, 1, 2, 1, 1, 1, 1, 0, 0, 2,\n",
              "       1, 1, 0, 1, 1, 0, 2, 0, 0, 0, 1, 0, 1, 0, 1, 1, 1, 0, 2, 0, 2, 1,\n",
              "       1, 0, 2, 0, 2, 1, 1, 2, 0, 2, 1, 0, 2, 0, 1, 2, 2, 2, 2, 1, 0, 1,\n",
              "       0, 1, 0, 0, 0, 2, 0, 2, 2, 1, 0, 2, 1, 2, 2, 0, 0, 0, 0, 2, 2, 2,\n",
              "       2, 2, 1, 1, 2, 2, 1, 0, 1, 2, 1, 2, 0, 1, 1, 2, 0, 1, 1, 1, 2, 1,\n",
              "       0, 2, 2, 2, 2, 1, 2, 0, 2, 0])"
            ]
          },
          "metadata": {
            "tags": []
          },
          "execution_count": 10
        }
      ]
    },
    {
      "cell_type": "code",
      "metadata": {
        "id": "fJ833tfrj429"
      },
      "source": [
        "#initialising kmean model\n",
        "model = KMeans(n_clusters = 3, )\n",
        "\n",
        "model.fit(X) #training on given data\n",
        "y_hat = model.predict(X) #getting predictions from trained model\n"
      ],
      "execution_count": 11,
      "outputs": []
    },
    {
      "cell_type": "code",
      "metadata": {
        "colab": {
          "base_uri": "https://localhost:8080/",
          "height": 268
        },
        "id": "xcXIc0yrkG5K",
        "outputId": "30d7ac47-e564-4e23-d9d5-72e4293f2d8e"
      },
      "source": [
        "#plotting the data and the centers of the clusters\n",
        "\n",
        "plt.scatter(X[:, 0], X[:, 1], c = y_hat, s = 20, cmap = 'summer')\n",
        "centers = model.cluster_centers_\n",
        "plt.scatter(centers[:, 0], centers[:, 1], c = 'k', s = 120, alpha = 0.9);\n",
        "plt.show()"
      ],
      "execution_count": 12,
      "outputs": [
        {
          "output_type": "display_data",
          "data": {
            "image/png": "[encoded data removed]",
            "text/plain": [
              "<Figure size 432x288 with 1 Axes>"
            ]
          },
          "metadata": {
            "tags": [],
            "needs_background": "light"
          }
        }
      ]
    },
    {
      "cell_type": "code",
      "metadata": {
        "colab": {
          "base_uri": "https://localhost:8080/"
        },
        "id": "utvZUTWXkSTv",
        "outputId": "9d61877c-63eb-4250-b6c1-78362068d282"
      },
      "source": [
        "# Results of Kmeans clustering\n",
        "from sklearn.metrics import silhouette_score\n",
        "\n",
        "#print silhouette score with input arguments as datapoints and output cluster labels\n",
        "print(silhouette_score(X,y_hat))"
      ],
      "execution_count": 13,
      "outputs": [
        {
          "output_type": "stream",
          "text": [
            "0.8763425858926711\n"
          ],
          "name": "stdout"
        }
      ]
    },
    {
      "cell_type": "code",
      "metadata": {
        "colab": {
          "base_uri": "https://localhost:8080/"
        },
        "id": "pa9dRqOwkY-b",
        "outputId": "f417d31e-9411-42a2-8b9b-106591c91845"
      },
      "source": [
        "from sklearn.metrics import accuracy_score\n",
        "accuracy_score(y_true,y_hat)"
      ],
      "execution_count": 14,
      "outputs": [
        {
          "output_type": "execute_result",
          "data": {
            "text/plain": [
              "0.0"
            ]
          },
          "metadata": {
            "tags": []
          },
          "execution_count": 14
        }
      ]
    },
    {
      "cell_type": "code",
      "metadata": {
        "colab": {
          "base_uri": "https://localhost:8080/"
        },
        "id": "2Ik8QxGzkdhP",
        "outputId": "5aafaa39-35dc-422e-ba8d-cc6ddf5f9067"
      },
      "source": [
        "from sklearn.metrics import confusion_matrix\n",
        "CNF = confusion_matrix(y_true,y_hat)\n",
        "print(CNF)"
      ],
      "execution_count": 15,
      "outputs": [
        {
          "output_type": "stream",
          "text": [
            "[[ 0  0 40]\n",
            " [40  0  0]\n",
            " [ 0 40  0]]\n"
          ],
          "name": "stdout"
        }
      ]
    },
    {
      "cell_type": "code",
      "metadata": {
        "colab": {
          "base_uri": "https://localhost:8080/"
        },
        "id": "BSQ40BzXkhMg",
        "outputId": "83580582-7396-42c1-f768-72ea26d2fdb1"
      },
      "source": [
        "model.inertia_"
      ],
      "execution_count": 16,
      "outputs": [
        {
          "output_type": "execute_result",
          "data": {
            "text/plain": [
              "141.0561838239799"
            ]
          },
          "metadata": {
            "tags": []
          },
          "execution_count": 16
        }
      ]
    },
    {
      "cell_type": "code",
      "metadata": {
        "id": "Xr8xFtPTko9j"
      },
      "source": [
        "#Example 2\n",
        "#generate data of 4 different types \n",
        "\n",
        "x = np.arange(50,60,0.5) #define here input x range\n",
        "\n",
        "y1 = np.array([i for i in x]) #define here y=x kind of data\n",
        "tl1 = [0 for i in range(len(y1))] #assign label 0 to above data\n",
        "y2 = np.array([i*5 for i in x]) #define here y=x**5 kind of data\n",
        "tl2 = [1 for i in range(len(y2))] #assign label 1 to above data\n",
        "y3 = np.array([i*10 for i in x]) #define here y=x**10 kind of data\n",
        "tl3 = [2 for i in range(len(y3))] #assign label 2 to above data\n",
        "y4 = np.array([i*15 for i in x]) #define here y=x**15 kind of data\n",
        "tl4 = [3 for i in range(len(y4))] #assign label 3 to above data"
      ],
      "execution_count": 17,
      "outputs": []
    },
    {
      "cell_type": "code",
      "metadata": {
        "id": "2VtyZb-gkvvn"
      },
      "source": [
        "X1 = list(zip(x,y1))\n",
        "X2 = list(zip(x,y2))\n",
        "X3 = list(zip(x,y3))\n",
        "X4 = list(zip(x,y4))\n",
        "X = np.array(X1+X2+X3+X4)\n",
        "y_true = tl1+tl2+tl3+tl4"
      ],
      "execution_count": 19,
      "outputs": []
    },
    {
      "cell_type": "code",
      "metadata": {
        "colab": {
          "base_uri": "https://localhost:8080/",
          "height": 268
        },
        "id": "0zwyvWQjlJBp",
        "outputId": "ccd72b11-9191-4340-dc57-d63d8b845b84"
      },
      "source": [
        "plt.scatter(X[:, 0], X[:, 1], s = 15);\n",
        "plt.show()"
      ],
      "execution_count": 20,
      "outputs": [
        {
          "output_type": "display_data",
          "data": {
            "image/png": "[encoded data removed]",
            "text/plain": [
              "<Figure size 432x288 with 1 Axes>"
            ]
          },
          "metadata": {
            "tags": [],
            "needs_background": "light"
          }
        }
      ]
    },
    {
      "cell_type": "code",
      "metadata": {
        "colab": {
          "base_uri": "https://localhost:8080/"
        },
        "id": "9pHFfTgOlMsO",
        "outputId": "0280c505-8ee4-4fa9-ddde-dbf0f90ed35a"
      },
      "source": [
        "kmeans = KMeans(n_clusters = 4)\n",
        "kmeans.fit(X)\n",
        "y_kmeans = kmeans.predict(X)\n",
        "y_kmeans"
      ],
      "execution_count": 21,
      "outputs": [
        {
          "output_type": "execute_result",
          "data": {
            "text/plain": [
              "array([2, 2, 2, 2, 2, 2, 2, 2, 2, 2, 2, 2, 2, 2, 2, 2, 2, 2, 2, 2, 1, 1,\n",
              "       1, 1, 1, 1, 1, 1, 1, 1, 1, 1, 1, 1, 1, 1, 1, 1, 1, 1, 0, 0, 0, 0,\n",
              "       0, 0, 0, 0, 0, 0, 0, 0, 0, 0, 0, 0, 0, 0, 0, 0, 3, 3, 3, 3, 3, 3,\n",
              "       3, 3, 3, 3, 3, 3, 3, 3, 3, 3, 3, 3, 3, 3], dtype=int32)"
            ]
          },
          "metadata": {
            "tags": []
          },
          "execution_count": 21
        }
      ]
    },
    {
      "cell_type": "code",
      "metadata": {
        "colab": {
          "base_uri": "https://localhost:8080/",
          "height": 268
        },
        "id": "olj6ivwllWHN",
        "outputId": "8818e6ad-f836-443d-96ab-86ec9c090bb2"
      },
      "source": [
        "plt.scatter(X[:, 0], X[:, 1], c = y_kmeans, s = 20, cmap = 'summer')\n",
        "centers = kmeans.cluster_centers_\n",
        "plt.scatter(centers[:, 0], centers[:, 1], c = 'blue', s = 100, alpha = 0.9);\n",
        "plt.show()"
      ],
      "execution_count": 22,
      "outputs": [
        {
          "output_type": "display_data",
          "data": {
            "image/png": "[encoded data removed]",
            "text/plain": [
              "<Figure size 432x288 with 1 Axes>"
            ]
          },
          "metadata": {
            "tags": [],
            "needs_background": "light"
          }
        }
      ]
    },
    {
      "cell_type": "code",
      "metadata": {
        "colab": {
          "base_uri": "https://localhost:8080/"
        },
        "id": "s-HZaDI3lb1t",
        "outputId": "871930eb-d1d9-47b7-cd97-867d1db93f8f"
      },
      "source": [
        "#Example 3\n",
        "\n",
        "#load MNIST data\n",
        "from sklearn.datasets import load_digits\n",
        "digits = load_digits()\n",
        "digits.data.shape"
      ],
      "execution_count": 23,
      "outputs": [
        {
          "output_type": "execute_result",
          "data": {
            "text/plain": [
              "(1797, 64)"
            ]
          },
          "metadata": {
            "tags": []
          },
          "execution_count": 23
        }
      ]
    },
    {
      "cell_type": "code",
      "metadata": {
        "colab": {
          "base_uri": "https://localhost:8080/"
        },
        "id": "Whi7RefllgOj",
        "outputId": "16ab6f6a-281e-49fd-ccfb-dc301fdcdd7f"
      },
      "source": [
        "kmeans = KMeans(n_clusters = 10, random_state = 0)\n",
        "clusters = kmeans.fit_predict(digits.data)\n",
        "kmeans.cluster_centers_.shape"
      ],
      "execution_count": 24,
      "outputs": [
        {
          "output_type": "execute_result",
          "data": {
            "text/plain": [
              "(10, 64)"
            ]
          },
          "metadata": {
            "tags": []
          },
          "execution_count": 24
        }
      ]
    },
    {
      "cell_type": "code",
      "metadata": {
        "colab": {
          "base_uri": "https://localhost:8080/",
          "height": 194
        },
        "id": "ODst3OC4llyJ",
        "outputId": "5bd2ab3c-a9de-4432-9571-94ac518620eb"
      },
      "source": [
        "fig, ax = plt.subplots(2, 5, figsize=(8, 3))\n",
        "centers = kmeans.cluster_centers_.reshape(10, 8, 8)\n",
        "for axi, center in zip(ax.flat, centers):\n",
        "    axi.set(xticks=[], yticks=[])\n",
        "    axi.imshow(center, interpolation='nearest', cmap=plt.cm.binary)"
      ],
      "execution_count": 25,
      "outputs": [
        {
          "output_type": "display_data",
          "data": {
            "image/png": "[encoded data removed]",
            "text/plain": [
              "<Figure size 576x216 with 10 Axes>"
            ]
          },
          "metadata": {
            "tags": []
          }
        }
      ]
    },
    {
      "cell_type": "code",
      "metadata": {
        "id": "xMaeRwkblrgY"
      },
      "source": [
        "from scipy.stats import mode\n",
        "labels = np.zeros_like(clusters)\n",
        "for i in range(10):\n",
        "   mask = (clusters == i)\n",
        "   labels[mask] = mode(digits.target[mask])[0]"
      ],
      "execution_count": 26,
      "outputs": []
    },
    {
      "cell_type": "code",
      "metadata": {
        "colab": {
          "base_uri": "https://localhost:8080/"
        },
        "id": "aEgQbQpzl0LZ",
        "outputId": "d4d462d7-4b80-4e58-c7ed-c0ad83cf9ac8"
      },
      "source": [
        "from sklearn.metrics import accuracy_score\n",
        "accuracy_score(digits.target, labels)"
      ],
      "execution_count": 27,
      "outputs": [
        {
          "output_type": "execute_result",
          "data": {
            "text/plain": [
              "0.7952142459654981"
            ]
          },
          "metadata": {
            "tags": []
          },
          "execution_count": 27
        }
      ]
    },
    {
      "cell_type": "code",
      "metadata": {
        "colab": {
          "base_uri": "https://localhost:8080/"
        },
        "id": "Y9qWfuPUl4X-",
        "outputId": "580e8182-025d-48af-8862-39486a5d55a6"
      },
      "source": [
        "from sklearn.metrics import confusion_matrix\n",
        "CNF = confusion_matrix(digits.target, labels)\n",
        "print(CNF)\n"
      ],
      "execution_count": 28,
      "outputs": [
        {
          "output_type": "stream",
          "text": [
            "[[177   0   0   0   1   0   0   0   0   0]\n",
            " [  0  55  24   1   0   1   2   0  99   0]\n",
            " [  1   2 148  13   0   0   0   3   8   2]\n",
            " [  0   0   1 155   0   2   0   7   7  11]\n",
            " [  0   7   0   0 163   0   0   7   4   0]\n",
            " [  0   0   0   1   2 136   1   0   0  42]\n",
            " [  1   1   0   0   0   0 177   0   2   0]\n",
            " [  0   0   0   0   0   0   0 177   2   0]\n",
            " [  0   6   3   4   0   4   2   5 102  48]\n",
            " [  0  20   0   6   0   6   0   7   2 139]]\n"
          ],
          "name": "stdout"
        }
      ]
    },
    {
      "cell_type": "code",
      "metadata": {
        "colab": {
          "base_uri": "https://localhost:8080/",
          "height": 128
        },
        "id": "OPFLHQ5zl67I",
        "outputId": "4d88c8af-eb24-417f-f551-052b44f051a2"
      },
      "source": [
        "#link to an interesting visualization website \n",
        "\n",
        "https://gradio.app"
      ],
      "execution_count": 29,
      "outputs": [
        {
          "output_type": "error",
          "ename": "SyntaxError",
          "evalue": "ignored",
          "traceback": [
            "\u001b[0;36m  File \u001b[0;32m\"<ipython-input-29-01b2c6af03fc>\"\u001b[0;36m, line \u001b[0;32m3\u001b[0m\n\u001b[0;31m    https://gradio.app\u001b[0m\n\u001b[0m           ^\u001b[0m\n\u001b[0;31mSyntaxError\u001b[0m\u001b[0;31m:\u001b[0m invalid syntax\n"
          ]
        }
      ]
    },
    {
      "cell_type": "code",
      "metadata": {
        "id": "RZMqcyWjmXPq"
      },
      "source": [
        "# Example IV\n",
        "#import libraries\n",
        "import pandas as pd\n",
        "import numpy as np\n",
        "import matplotlib.pyplot as plt\n",
        "\n",
        "#load dataset using sklearn datasets\n",
        "from sklearn import datasets\n",
        "iris = datasets.load_iris()"
      ],
      "execution_count": 30,
      "outputs": []
    },
    {
      "cell_type": "code",
      "metadata": {
        "colab": {
          "base_uri": "https://localhost:8080/",
          "height": 402
        },
        "id": "4U1-He9pmbC6",
        "outputId": "8071de77-3c56-4bd0-d679-7cd541480579"
      },
      "source": [
        "#create dataframe to visualize dataset\n",
        "x = pd.DataFrame(iris.data, columns=['Sepal Length', 'Sepal Width', 'Petal Length', 'Petal Width'])\n",
        "#print dataset\n",
        "x"
      ],
      "execution_count": 31,
      "outputs": [
        {
          "output_type": "execute_result",
          "data": {
            "text/html": [
              "<div>\n",
              "<style scoped>\n",
              "    .dataframe tbody tr th:only-of-type {\n",
              "        vertical-align: middle;\n",
              "    }\n",
              "\n",
              "    .dataframe tbody tr th {\n",
              "        vertical-align: top;\n",
              "    }\n",
              "\n",
              "    .dataframe thead th {\n",
              "        text-align: right;\n",
              "    }\n",
              "</style>\n",
              "<table border=\"1\" class=\"dataframe\">\n",
              "  <thead>\n",
              "    <tr style=\"text-align: right;\">\n",
              "      <th></th>\n",
              "      <th>Sepal Length</th>\n",
              "      <th>Sepal Width</th>\n",
              "      <th>Petal Length</th>\n",
              "      <th>Petal Width</th>\n",
              "    </tr>\n",
              "  </thead>\n",
              "  <tbody>\n",
              "    <tr>\n",
              "      <th>0</th>\n",
              "      <td>5.1</td>\n",
              "      <td>3.5</td>\n",
              "      <td>1.4</td>\n",
              "      <td>0.2</td>\n",
              "    </tr>\n",
              "    <tr>\n",
              "      <th>1</th>\n",
              "      <td>4.9</td>\n",
              "      <td>3.0</td>\n",
              "      <td>1.4</td>\n",
              "      <td>0.2</td>\n",
              "    </tr>\n",
              "    <tr>\n",
              "      <th>2</th>\n",
              "      <td>4.7</td>\n",
              "      <td>3.2</td>\n",
              "      <td>1.3</td>\n",
              "      <td>0.2</td>\n",
              "    </tr>\n",
              "    <tr>\n",
              "      <th>3</th>\n",
              "      <td>4.6</td>\n",
              "      <td>3.1</td>\n",
              "      <td>1.5</td>\n",
              "      <td>0.2</td>\n",
              "    </tr>\n",
              "    <tr>\n",
              "      <th>4</th>\n",
              "      <td>5.0</td>\n",
              "      <td>3.6</td>\n",
              "      <td>1.4</td>\n",
              "      <td>0.2</td>\n",
              "    </tr>\n",
              "    <tr>\n",
              "      <th>...</th>\n",
              "      <td>...</td>\n",
              "      <td>...</td>\n",
              "      <td>...</td>\n",
              "      <td>...</td>\n",
              "    </tr>\n",
              "    <tr>\n",
              "      <th>145</th>\n",
              "      <td>6.7</td>\n",
              "      <td>3.0</td>\n",
              "      <td>5.2</td>\n",
              "      <td>2.3</td>\n",
              "    </tr>\n",
              "    <tr>\n",
              "      <th>146</th>\n",
              "      <td>6.3</td>\n",
              "      <td>2.5</td>\n",
              "      <td>5.0</td>\n",
              "      <td>1.9</td>\n",
              "    </tr>\n",
              "    <tr>\n",
              "      <th>147</th>\n",
              "      <td>6.5</td>\n",
              "      <td>3.0</td>\n",
              "      <td>5.2</td>\n",
              "      <td>2.0</td>\n",
              "    </tr>\n",
              "    <tr>\n",
              "      <th>148</th>\n",
              "      <td>6.2</td>\n",
              "      <td>3.4</td>\n",
              "      <td>5.4</td>\n",
              "      <td>2.3</td>\n",
              "    </tr>\n",
              "    <tr>\n",
              "      <th>149</th>\n",
              "      <td>5.9</td>\n",
              "      <td>3.0</td>\n",
              "      <td>5.1</td>\n",
              "      <td>1.8</td>\n",
              "    </tr>\n",
              "  </tbody>\n",
              "</table>\n",
              "<p>150 rows × 4 columns</p>\n",
              "</div>"
            ],
            "text/plain": [
              "     Sepal Length  Sepal Width  Petal Length  Petal Width\n",
              "0             5.1          3.5           1.4          0.2\n",
              "1             4.9          3.0           1.4          0.2\n",
              "2             4.7          3.2           1.3          0.2\n",
              "3             4.6          3.1           1.5          0.2\n",
              "4             5.0          3.6           1.4          0.2\n",
              "..            ...          ...           ...          ...\n",
              "145           6.7          3.0           5.2          2.3\n",
              "146           6.3          2.5           5.0          1.9\n",
              "147           6.5          3.0           5.2          2.0\n",
              "148           6.2          3.4           5.4          2.3\n",
              "149           5.9          3.0           5.1          1.8\n",
              "\n",
              "[150 rows x 4 columns]"
            ]
          },
          "metadata": {
            "tags": []
          },
          "execution_count": 31
        }
      ]
    },
    {
      "cell_type": "code",
      "metadata": {
        "colab": {
          "base_uri": "https://localhost:8080/",
          "height": 301
        },
        "id": "nSlI4H3FmfI7",
        "outputId": "c7c9025c-b3e9-405f-cc6b-bffbf1cd78ec"
      },
      "source": [
        "#visualize the first two features in dataset using scatter plot\n",
        "plt.scatter(x['Sepal Length'], x['Sepal Width'])\n",
        "plt.title('Sepal Length vs Sepal Width')"
      ],
      "execution_count": 32,
      "outputs": [
        {
          "output_type": "execute_result",
          "data": {
            "text/plain": [
              "Text(0.5, 1.0, 'Sepal Length vs Sepal Width')"
            ]
          },
          "metadata": {
            "tags": []
          },
          "execution_count": 32
        },
        {
          "output_type": "display_data",
          "data": {
            "image/png": "[encoded data removed]",
            "text/plain": [
              "<Figure size 432x288 with 1 Axes>"
            ]
          },
          "metadata": {
            "tags": [],
            "needs_background": "light"
          }
        }
      ]
    },
    {
      "cell_type": "code",
      "metadata": {
        "colab": {
          "base_uri": "https://localhost:8080/",
          "height": 301
        },
        "id": "HSjHPODSmirM",
        "outputId": "758ff179-5177-4d28-9dd4-211674120ae3"
      },
      "source": [
        "#visualize last two features\n",
        "plt.scatter(x['Petal Length'], x['Petal Width'])\n",
        "plt.title('Petal Length vs Petal Width')"
      ],
      "execution_count": 33,
      "outputs": [
        {
          "output_type": "execute_result",
          "data": {
            "text/plain": [
              "Text(0.5, 1.0, 'Petal Length vs Petal Width')"
            ]
          },
          "metadata": {
            "tags": []
          },
          "execution_count": 33
        },
        {
          "output_type": "display_data",
          "data": {
            "image/png": "[encoded data removed]",
            "text/plain": [
              "<Figure size 432x288 with 1 Axes>"
            ]
          },
          "metadata": {
            "tags": [],
            "needs_background": "light"
          }
        }
      ]
    },
    {
      "cell_type": "code",
      "metadata": {
        "id": "wN0gHDiimmF1"
      },
      "source": [
        "#import KMeans algorithm from Sklearn\n",
        "from sklearn.cluster import KMeans\n",
        "\n",
        "#create a model object with 3 clusters\n",
        "model = KMeans(n_clusters=3)\n",
        "\n",
        "#runs the algo on the data and predicts the cluster labels\n",
        "ypred = model.fit_predict(x)"
      ],
      "execution_count": 34,
      "outputs": []
    },
    {
      "cell_type": "code",
      "metadata": {
        "colab": {
          "base_uri": "https://localhost:8080/"
        },
        "id": "53QKbPUqmp6K",
        "outputId": "74ea6dcc-2c74-4bee-d9fe-afef5fc4e914"
      },
      "source": [
        "#print all 3 estimated cluster centers\n",
        "print(model.cluster_centers_)"
      ],
      "execution_count": 35,
      "outputs": [
        {
          "output_type": "stream",
          "text": [
            "[[5.006      3.428      1.462      0.246     ]\n",
            " [5.9016129  2.7483871  4.39354839 1.43387097]\n",
            " [6.85       3.07368421 5.74210526 2.07105263]]\n"
          ],
          "name": "stdout"
        }
      ]
    },
    {
      "cell_type": "code",
      "metadata": {
        "colab": {
          "base_uri": "https://localhost:8080/"
        },
        "id": "ci292lTpmtQQ",
        "outputId": "fa241129-a7bb-4a4c-eda3-c5e71d1b9996"
      },
      "source": [
        "#print shape (num_cluster_centers, dimension)\n",
        "print(model.cluster_centers_.shape)"
      ],
      "execution_count": 36,
      "outputs": [
        {
          "output_type": "stream",
          "text": [
            "(3, 4)\n"
          ],
          "name": "stdout"
        }
      ]
    },
    {
      "cell_type": "code",
      "metadata": {
        "colab": {
          "base_uri": "https://localhost:8080/"
        },
        "id": "OmXK_Ta3m0b1",
        "outputId": "34f4c19e-270c-4ef0-8832-8ac6075da551"
      },
      "source": [
        "#cluster id of each point\n",
        "print(ypred) "
      ],
      "execution_count": 37,
      "outputs": [
        {
          "output_type": "stream",
          "text": [
            "[0 0 0 0 0 0 0 0 0 0 0 0 0 0 0 0 0 0 0 0 0 0 0 0 0 0 0 0 0 0 0 0 0 0 0 0 0\n",
            " 0 0 0 0 0 0 0 0 0 0 0 0 0 1 1 2 1 1 1 1 1 1 1 1 1 1 1 1 1 1 1 1 1 1 1 1 1\n",
            " 1 1 1 2 1 1 1 1 1 1 1 1 1 1 1 1 1 1 1 1 1 1 1 1 1 1 2 1 2 2 2 2 1 2 2 2 2\n",
            " 2 2 1 1 2 2 2 2 1 2 1 2 1 2 2 1 1 2 2 2 2 2 1 2 2 2 2 1 2 2 2 1 2 2 2 1 2\n",
            " 2 1]\n"
          ],
          "name": "stdout"
        }
      ]
    },
    {
      "cell_type": "code",
      "metadata": {
        "colab": {
          "base_uri": "https://localhost:8080/",
          "height": 301
        },
        "id": "RAkc_iLKm3gt",
        "outputId": "b295da9b-6fed-411d-ac5c-53e945ed1066"
      },
      "source": [
        "#Plot of sepal length vs sepal width before clustering \n",
        "plt.subplot(1, 2, 1)\n",
        "plt.scatter(x['Sepal Length'], x['Sepal Width'])\n",
        "plt.title('Before clustering')\n",
        "\n",
        "#create colors array for different clusters\n",
        "colors = np.array(['red', 'green', 'blue'])\n",
        "\n",
        "#Plot of sepal length vs sepal width after clustering \n",
        "plt.subplot(1, 2, 2)\n",
        "plt.scatter(x['Sepal Length'], x['Sepal Width'], c=colors[ypred], alpha=0.8)\n",
        "\n",
        "#plot cluster centers (black color) using first two dimensions\n",
        "plt.scatter(model.cluster_centers_[:,0], model.cluster_centers_[:,1], c='black')\n",
        "plt.title(\"After Clustering\")"
      ],
      "execution_count": 38,
      "outputs": [
        {
          "output_type": "execute_result",
          "data": {
            "text/plain": [
              "Text(0.5, 1.0, 'After Clustering')"
            ]
          },
          "metadata": {
            "tags": []
          },
          "execution_count": 38
        },
        {
          "output_type": "display_data",
          "data": {
            "image/png": "[encoded data removed]",
            "text/plain": [
              "<Figure size 432x288 with 2 Axes>"
            ]
          },
          "metadata": {
            "tags": [],
            "needs_background": "light"
          }
        }
      ]
    },
    {
      "cell_type": "code",
      "metadata": {
        "colab": {
          "base_uri": "https://localhost:8080/",
          "height": 301
        },
        "id": "C-2S8Lkvm8kX",
        "outputId": "be6015f3-9241-4fed-cccb-82da4e89d0b4"
      },
      "source": [
        "#Plot of petal length vs petal width before clustering \n",
        "plt.subplot(1, 2, 1)\n",
        "plt.scatter(x['Petal Length'], x['Petal Width'])\n",
        "plt.title('Before clustering')\n",
        "\n",
        "#Plot of petal length vs petal width afer clustering \n",
        "plt.subplot(1, 2, 2)\n",
        "plt.scatter(x['Petal Length'], x['Petal Width'], c=colors[ypred],alpha=0.8)\n",
        "\n",
        "#plot cluster centers (black color) using last two dimensions\n",
        "plt.scatter(model.cluster_centers_[:,2], model.cluster_centers_[:,3],c='black')\n",
        "plt.title('After clustering')"
      ],
      "execution_count": 39,
      "outputs": [
        {
          "output_type": "execute_result",
          "data": {
            "text/plain": [
              "Text(0.5, 1.0, 'After clustering')"
            ]
          },
          "metadata": {
            "tags": []
          },
          "execution_count": 39
        },
        {
          "output_type": "display_data",
          "data": {
            "image/png": "[encoded data removed]",
            "text/plain": [
              "<Figure size 432x288 with 2 Axes>"
            ]
          },
          "metadata": {
            "tags": [],
            "needs_background": "light"
          }
        }
      ]
    },
    {
      "cell_type": "markdown",
      "metadata": {
        "id": "qR-I7jNVnFb_"
      },
      "source": [
        "Silhouette metric is used to calculate the goodness of a clustering technique. Its value ranges from -1 to 1.\n",
        "\n",
        "1: clusters are well apart from each other and clearly distinguished.\n",
        "\n",
        "0: clusters are indifferent, or we can say that the distance between clusters is not significant.\n",
        "\n",
        "-1: clusters are assigned in the wrong way."
      ]
    },
    {
      "cell_type": "code",
      "metadata": {
        "colab": {
          "base_uri": "https://localhost:8080/"
        },
        "id": "01MU37JSnBCu",
        "outputId": "c897d929-ef66-490e-8599-923da22ab106"
      },
      "source": [
        "# Results of Kmeans clustering\n",
        "from sklearn.metrics import silhouette_score\n",
        "\n",
        "#print silhouette score with input arguments as datapoints and output cluster labels\n",
        "print(silhouette_score(x,ypred))"
      ],
      "execution_count": 40,
      "outputs": [
        {
          "output_type": "stream",
          "text": [
            "0.5528190123564091\n"
          ],
          "name": "stdout"
        }
      ]
    },
    {
      "cell_type": "markdown",
      "metadata": {
        "id": "23L-xXlpnLqc"
      },
      "source": [
        "**Elbow Method to find optimal K**\n",
        "\n",
        "Inertia is the sum of squared distances of samples to their closest cluster center\n",
        "\n",
        "We plot K vs Inertia and choose k where elbow shape is created"
      ]
    },
    {
      "cell_type": "code",
      "metadata": {
        "id": "Cp-E1d39nJcv"
      },
      "source": [
        "inertia = []\n",
        "K = range(1,18)"
      ],
      "execution_count": 41,
      "outputs": []
    },
    {
      "cell_type": "code",
      "metadata": {
        "id": "bN9mw04inTs8"
      },
      "source": [
        "# Finding the inertia for every K\n",
        "for k in K: \n",
        "    kmeans_model = KMeans(n_clusters=k)\n",
        "    kmeans_model.fit(x)\n",
        "    inertia.append(kmeans_model.inertia_)"
      ],
      "execution_count": 42,
      "outputs": []
    },
    {
      "cell_type": "code",
      "metadata": {
        "colab": {
          "base_uri": "https://localhost:8080/",
          "height": 301
        },
        "id": "Hr0nNOJknfTI",
        "outputId": "67c0f032-0888-46f5-f22f-f0200244eaac"
      },
      "source": [
        "#Plotting inertia for each change in K value\n",
        "plt.plot(K,inertia,'bx-')\n",
        "plt.xlabel('Values of K') \n",
        "plt.ylabel('Inertia') \n",
        "plt.title('The Elbow Method using Inertia') \n",
        "plt.show() "
      ],
      "execution_count": 43,
      "outputs": [
        {
          "output_type": "display_data",
          "data": {
            "image/png": "[encoded data removed]",
            "text/plain": [
              "<Figure size 432x288 with 1 Axes>"
            ]
          },
          "metadata": {
            "tags": [],
            "needs_background": "light"
          }
        }
      ]
    }
  ]
}