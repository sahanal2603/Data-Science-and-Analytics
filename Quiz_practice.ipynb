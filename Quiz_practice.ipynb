{
  "nbformat": 4,
  "nbformat_minor": 0,
  "metadata": {
    "colab": {
      "name": "Quiz practice.ipynb",
      "provenance": [],
      "authorship_tag": "ABX9TyPcaidQFRZ1xyVJa/WSh6YH",
      "include_colab_link": true
    },
    "kernelspec": {
      "name": "python3",
      "display_name": "Python 3"
    }
  },
  "cells": [
    {
      "cell_type": "markdown",
      "metadata": {
        "id": "view-in-github",
        "colab_type": "text"
      },
      "source": [
        "<a href=\"https://colab.research.google.com/github/sahanal2603/Data-Science-and-Analytics/blob/master/Quiz_practice.ipynb\" target=\"_parent\"><img src=\"https://colab.research.google.com/assets/colab-badge.svg\" alt=\"Open In Colab\"/></a>"
      ]
    },
    {
      "cell_type": "code",
      "metadata": {
        "id": "HTYzbiiHDxF1"
      },
      "source": [
        "import numpy as np\r\n",
        "import matplotlib.pyplot as plt"
      ],
      "execution_count": 13,
      "outputs": []
    },
    {
      "cell_type": "code",
      "metadata": {
        "colab": {
          "base_uri": "https://localhost:8080/"
        },
        "id": "wV65Sr0nDnVc",
        "outputId": "826ae27e-31f0-4068-d733-bc263cf570da"
      },
      "source": [
        "x = np.array([50, 60, 70, 80, 70, 60, 50])\r\n",
        "print(len(x))\r\n",
        "#print(np.max(x))\r\n",
        "#print(np.argmax(x))\r\n",
        "print(np.mean(x))\r\n",
        "print(np.std(x))"
      ],
      "execution_count": 11,
      "outputs": [
        {
          "output_type": "stream",
          "text": [
            "7\n",
            "62.857142857142854\n",
            "10.301575072754254\n"
          ],
          "name": "stdout"
        }
      ]
    },
    {
      "cell_type": "code",
      "metadata": {
        "colab": {
          "base_uri": "https://localhost:8080/"
        },
        "id": "ZrT9S6bAD_YU",
        "outputId": "8ad48c9b-3e1f-4be2-ff89-8478f18cdc2e"
      },
      "source": [
        "for i in range(5):\r\n",
        "  print(i)"
      ],
      "execution_count": 6,
      "outputs": [
        {
          "output_type": "stream",
          "text": [
            "0\n",
            "1\n",
            "2\n",
            "3\n",
            "4\n"
          ],
          "name": "stdout"
        }
      ]
    },
    {
      "cell_type": "code",
      "metadata": {
        "colab": {
          "base_uri": "https://localhost:8080/"
        },
        "id": "KOlXgukbEUYC",
        "outputId": "480b215e-4bc9-48d6-8964-54c63d57b46c"
      },
      "source": [
        "data=np.array([20, 25, 40, 31, 35, 27, 29, 26, 38, 39 ])\r\n",
        "mew_x=np.mean(data)\r\n",
        "sigma_x=np.std(data)\r\n",
        "new_data=(data-mew_x)/sigma_x\r\n",
        "print(np.mean(new_data))\r\n",
        "print(np.std(new_data))"
      ],
      "execution_count": 10,
      "outputs": [
        {
          "output_type": "stream",
          "text": [
            "0.0\n",
            "1.0\n"
          ],
          "name": "stdout"
        }
      ]
    },
    {
      "cell_type": "code",
      "metadata": {
        "colab": {
          "base_uri": "https://localhost:8080/",
          "height": 350
        },
        "id": "0fge3XDKKJm-",
        "outputId": "1f609bee-3c0d-41df-9599-9c734ad2e77b"
      },
      "source": [
        "# Example 2\r\n",
        "# Marks scored in CIE, this is our input variable\r\n",
        "# Marks scored in SEE, this is our output variable\r\n",
        "\r\n",
        "CIE=np.array([50, 60, 70, 80, 70, 60, 50 ])\r\n",
        "SEE=np.array([120, 110, 150, 140, 150, 130, 110])\r\n",
        "\r\n",
        "# let us observe the data\r\n",
        "\r\n",
        "plt.scatter(CIE,SEE, marker='x')\r\n",
        "plt.axis([15, 45, 0, 100])\r\n",
        "plt.grid()\r\n",
        "plt.xlabel('CIE')\r\n",
        "plt.ylabel('SEE')\r\n",
        "\r\n",
        "# to compute the Covariance, Correlation\r\n",
        "\r\n",
        "N=len(CIE)\r\n",
        "mew_CIE = np.mean(CIE)\r\n",
        "mew_SEE = np.mean(SEE)\r\n",
        "sigma_CIE = np.std(CIE)\r\n",
        "sigma_SEE = np.std(SEE)\r\n",
        "mew_CIE_SEE = np.dot(CIE,SEE)/N\r\n",
        "\r\n",
        "covariance = (mew_CIE_SEE) - (mew_CIE)*(mew_SEE)\r\n",
        "correlation = covariance /(sigma_CIE * sigma_SEE)\r\n",
        "\r\n",
        "print('\\n Covariance of CIE and SEE = ',covariance )\r\n",
        "print('\\n Correlation of CIE and SEE = ',correlation )"
      ],
      "execution_count": 14,
      "outputs": [
        {
          "output_type": "stream",
          "text": [
            "\n",
            " Covariance of CIE and SEE =  128.57142857142935\n",
            "\n",
            " Correlation of CIE and SEE =  0.7783117824941611\n"
          ],
          "name": "stdout"
        },
        {
          "output_type": "display_data",
          "data": {
            "image/png": "[encoded data removed]",
            "text/plain": [
              "<Figure size 432x288 with 1 Axes>"
            ]
          },
          "metadata": {
            "tags": [],
            "needs_background": "light"
          }
        }
      ]
    }
  ]
}